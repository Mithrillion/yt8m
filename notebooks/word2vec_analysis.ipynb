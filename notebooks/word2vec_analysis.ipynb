{
 "cells": [
  {
   "cell_type": "code",
   "execution_count": 1,
   "metadata": {
    "collapsed": true
   },
   "outputs": [],
   "source": [
    "import numpy as np\n",
    "import pandas as pd\n",
    "import matplotlib.pyplot as plt\n",
    "%matplotlib inline\n",
    "import pickle\n",
    "import feather\n",
    "import nltk\n",
    "import re\n",
    "from nltk.tokenize import word_tokenize\n",
    "from nltk.corpus import stopwords"
   ]
  },
  {
   "cell_type": "code",
   "execution_count": 2,
   "metadata": {
    "collapsed": true
   },
   "outputs": [],
   "source": [
    "dat = pickle.load(open(\"./grouped_sample.pkl\", 'rb'))"
   ]
  },
  {
   "cell_type": "code",
   "execution_count": 3,
   "metadata": {
    "collapsed": true
   },
   "outputs": [],
   "source": [
    "stops = set(stopwords.words())\n",
    "tokens = pickle.load(open(\"tokens.pkl\", \"rb\"))\n",
    "pure_tokens = [\" \".join([w.lower() for w in sent if w.lower() not in stops and re.match(\"\\w+\", w)])\\\n",
    "               for sent in tokens]"
   ]
  },
  {
   "cell_type": "code",
   "execution_count": 5,
   "metadata": {
    "collapsed": true
   },
   "outputs": [],
   "source": [
    "from gensim.models import Word2Vec"
   ]
  },
  {
   "cell_type": "code",
   "execution_count": 15,
   "metadata": {
    "collapsed": true
   },
   "outputs": [],
   "source": [
    "discrete_tokens = [[w.lower() for w in sent if w.lower() not in stops and re.match(\"\\w+\", w)]\\\n",
    "               for sent in tokens]"
   ]
  },
  {
   "cell_type": "code",
   "execution_count": 17,
   "metadata": {
    "collapsed": true
   },
   "outputs": [],
   "source": [
    "model = Word2Vec(discrete_tokens, size=100, window=5, min_count=5, workers=4)"
   ]
  },
  {
   "cell_type": "code",
   "execution_count": 18,
   "metadata": {
    "collapsed": true
   },
   "outputs": [],
   "source": [
    "model.save(\"w2v\")"
   ]
  },
  {
   "cell_type": "code",
   "execution_count": 21,
   "metadata": {
    "collapsed": false
   },
   "outputs": [
    {
     "data": {
      "text/plain": [
       "array([-0.76582932, -1.15818977,  0.94564563, -0.68524504, -3.25513005,\n",
       "        1.54732037,  0.805987  ,  1.20040143,  1.39189434,  0.59978837,\n",
       "        0.72950256,  0.43802589,  0.69422638,  2.20519638, -2.5011797 ,\n",
       "       -1.36484945, -1.50875926,  1.44904685,  1.66064775,  0.69849652,\n",
       "        0.78652102,  0.11711432,  1.63095868, -2.18304348,  1.21131778,\n",
       "        2.73393941, -0.62950677, -0.6786626 ,  0.45079479,  0.03010049,\n",
       "        0.81463498,  0.32235369,  1.93746114,  1.76055801,  0.98124629,\n",
       "        0.38909814,  1.53599334,  0.06531338,  1.65145421, -0.58234262,\n",
       "       -1.20052505, -1.2474798 ,  0.78012526, -3.73940754, -1.05920947,\n",
       "        2.311409  , -0.09395347,  0.22077033,  1.75126636, -0.89996248,\n",
       "        1.16163182, -0.98500925, -0.54113686,  0.88063145,  1.52573681,\n",
       "        1.38284504, -1.18369234,  0.5077095 ,  1.14538407, -0.68645591,\n",
       "        0.18062922, -0.29934046, -2.31024027,  1.12854934,  0.56922495,\n",
       "        2.43232465, -1.46662843, -0.08601736,  1.97814989,  0.14640124,\n",
       "       -0.51303905,  0.64895535, -0.95780575,  0.54813045, -0.84649533,\n",
       "        0.32555747,  0.21718384, -0.01414547,  0.80937976, -0.92963529,\n",
       "        1.58279574, -1.21242118,  0.37619308, -0.15598632,  1.56266356,\n",
       "       -2.52331114, -0.43271485,  0.18072896,  0.45798525,  1.15559554,\n",
       "       -1.57120311,  0.40767437,  0.86544043, -0.94760424,  3.11002684,\n",
       "       -0.7185787 , -0.77501196, -0.51368612,  1.60106015,  0.65249968], dtype=float32)"
      ]
     },
     "execution_count": 21,
     "metadata": {},
     "output_type": "execute_result"
    }
   ],
   "source": [
    "model.wv['official']"
   ]
  },
  {
   "cell_type": "code",
   "execution_count": 38,
   "metadata": {
    "collapsed": false
   },
   "outputs": [
    {
     "data": {
      "text/plain": [
       "[('walt', 0.7884445190429688),\n",
       " ('princess', 0.7876223921775818),\n",
       " ('frozen', 0.77995365858078),\n",
       " ('mickey', 0.7694764137268066),\n",
       " ('pixar', 0.7694312930107117),\n",
       " ('elsa', 0.7497541904449463),\n",
       " ('d23', 0.7309550642967224),\n",
       " ('disneyland', 0.726386308670044),\n",
       " ('hello', 0.7248036861419678),\n",
       " ('kristoff', 0.7205222249031067)]"
      ]
     },
     "execution_count": 38,
     "metadata": {},
     "output_type": "execute_result"
    }
   ],
   "source": [
    "model.most_similar('disney')"
   ]
  },
  {
   "cell_type": "code",
   "execution_count": 39,
   "metadata": {
    "collapsed": false
   },
   "outputs": [
    {
     "data": {
      "text/plain": [
       "40"
      ]
     },
     "execution_count": 39,
     "metadata": {},
     "output_type": "execute_result"
    }
   ],
   "source": [
    "max([len(l) for l in discrete_tokens])"
   ]
  },
  {
   "cell_type": "code",
   "execution_count": null,
   "metadata": {
    "collapsed": true
   },
   "outputs": [],
   "source": []
  }
 ],
 "metadata": {
  "anaconda-cloud": {},
  "kernelspec": {
   "display_name": "Python [Root]",
   "language": "python",
   "name": "Python [Root]"
  },
  "language_info": {
   "codemirror_mode": {
    "name": "ipython",
    "version": 3
   },
   "file_extension": ".py",
   "mimetype": "text/x-python",
   "name": "python",
   "nbconvert_exporter": "python",
   "pygments_lexer": "ipython3",
   "version": "3.5.2"
  }
 },
 "nbformat": 4,
 "nbformat_minor": 0
}

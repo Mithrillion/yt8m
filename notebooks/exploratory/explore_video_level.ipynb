{
 "cells": [
  {
   "cell_type": "code",
   "execution_count": 1,
   "metadata": {
    "collapsed": true
   },
   "outputs": [],
   "source": [
    "import numpy as np\n",
    "import pandas as pd"
   ]
  },
  {
   "cell_type": "code",
   "execution_count": 2,
   "metadata": {
    "collapsed": true
   },
   "outputs": [],
   "source": [
    "import tensorflow as tf\n",
    "from IPython.display import YouTubeVideo"
   ]
  },
  {
   "cell_type": "code",
   "execution_count": 3,
   "metadata": {
    "collapsed": true
   },
   "outputs": [],
   "source": [
    "video_lvl_record = \"../features/train-0.tfrecord\""
   ]
  },
  {
   "cell_type": "code",
   "execution_count": 4,
   "metadata": {
    "collapsed": true
   },
   "outputs": [],
   "source": [
    "vid_ids = []\n",
    "labels = []\n",
    "mean_rgb = []\n",
    "mean_audio = []\n",
    "\n",
    "for example in tf.python_io.tf_record_iterator(video_lvl_record):\n",
    "    tf_example = tf.train.Example.FromString(example)\n",
    "\n",
    "    vid_ids.append(tf_example.features.feature['video_id'].bytes_list.value[0].decode(encoding='UTF-8'))\n",
    "    labels.append(tf_example.features.feature['labels'].int64_list.value)\n",
    "    mean_rgb.append(tf_example.features.feature['mean_rgb'].float_list.value)\n",
    "    mean_audio.append(tf_example.features.feature['mean_audio'].float_list.value)"
   ]
  },
  {
   "cell_type": "code",
   "execution_count": 5,
   "metadata": {
    "collapsed": false
   },
   "outputs": [
    {
     "name": "stdout",
     "output_type": "stream",
     "text": [
      "Number of videos in this tfrecord:  1169\n",
      "First video feature length 1024\n",
      "First 20 features of the first youtube video ( -09K4OPZSSo )\n",
      "[0.11181250214576721, -0.8710371851921082, -0.1861744225025177, -0.2183835804462433, 0.22496283054351807, -0.07574305683374405, 0.21874059736728668, 0.28315889835357666, 0.2770412564277649, 1.3167275190353394, -0.09503716975450516, -0.2855208218097687, 0.5613811016082764, 0.5028190612792969, 0.5289628505706787, -0.44975611567497253, -0.21048815548419952, -0.3609195351600647, -0.015769198536872864, 0.6866098642349243]\n"
     ]
    }
   ],
   "source": [
    "print('Number of videos in this tfrecord: ',len(mean_rgb))\n",
    "print('First video feature length',len(mean_rgb[0]))\n",
    "print('First 20 features of the first youtube video (',vid_ids[0],')')\n",
    "print(mean_rgb[0][:20])"
   ]
  },
  {
   "cell_type": "code",
   "execution_count": 8,
   "metadata": {
    "collapsed": false
   },
   "outputs": [
    {
     "data": {
      "image/jpeg": "[encoded data removed]",
      "text/html": [
       "\n",
       "        <iframe\n",
       "            width=\"400\"\n",
       "            height=\"300\"\n",
       "            src=\"https://www.youtube.com/embed/-0DWGYykC6Q\"\n",
       "            frameborder=\"0\"\n",
       "            allowfullscreen\n",
       "        ></iframe>\n",
       "        "
      ],
      "text/plain": [
       "<IPython.lib.display.YouTubeVideo at 0x7fc9c11ab5f8>"
      ]
     },
     "execution_count": 8,
     "metadata": {},
     "output_type": "execute_result"
    }
   ],
   "source": [
    "def play_one_vid(record_name, video_index):\n",
    "    return vid_ids[video_index]\n",
    "    \n",
    "# this worked on my local jupyter notebook, but doesn't show on kaggle kernels:\n",
    "YouTubeVideo(play_one_vid(video_lvl_record, 2))"
   ]
  },
  {
   "cell_type": "code",
   "execution_count": 9,
   "metadata": {
    "collapsed": false
   },
   "outputs": [
    {
     "name": "stdout",
     "output_type": "stream",
     "text": [
      "mean_audio has length of: \n",
      "[128, 128, 128, 128, 128]\n",
      "mean_rgb has length of: \n",
      "[1024, 1024, 1024, 1024, 1024]\n"
     ]
    }
   ],
   "source": [
    "print('mean_audio has length of: ')\n",
    "print([len(x) for x in mean_audio][:5])\n",
    "print('mean_rgb has length of: ')\n",
    "print([len(x) for x in mean_rgb][:5])"
   ]
  },
  {
   "cell_type": "code",
   "execution_count": null,
   "metadata": {
    "collapsed": true
   },
   "outputs": [],
   "source": []
  }
 ],
 "metadata": {
  "anaconda-cloud": {},
  "kernelspec": {
   "display_name": "Python [tensorflow]",
   "language": "python",
   "name": "Python [tensorflow]"
  },
  "language_info": {
   "codemirror_mode": {
    "name": "ipython",
    "version": 3
   },
   "file_extension": ".py",
   "mimetype": "text/x-python",
   "name": "python",
   "nbconvert_exporter": "python",
   "pygments_lexer": "ipython3",
   "version": "3.5.2"
  }
 },
 "nbformat": 4,
 "nbformat_minor": 0
}

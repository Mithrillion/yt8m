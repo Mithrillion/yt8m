{
 "cells": [
  {
   "cell_type": "code",
   "execution_count": 1,
   "metadata": {
    "collapsed": true
   },
   "outputs": [],
   "source": [
    "import os\n",
    "import numpy as np\n",
    "import pandas as pd\n",
    "from datetime import datetime\n",
    "import matplotlib.pyplot as plt\n",
    "%matplotlib inline\n",
    "from ggplot import *\n",
    "import pickle\n",
    "import feather\n",
    "# from multiprocessing import Pool"
   ]
  },
  {
   "cell_type": "code",
   "execution_count": 2,
   "metadata": {
    "collapsed": false
   },
   "outputs": [],
   "source": [
    "os.chdir('meta/')"
   ]
  },
  {
   "cell_type": "code",
   "execution_count": 3,
   "metadata": {
    "collapsed": false
   },
   "outputs": [],
   "source": [
    "files = os.listdir()"
   ]
  },
  {
   "cell_type": "code",
   "execution_count": 4,
   "metadata": {
    "collapsed": false
   },
   "outputs": [],
   "source": [
    "# p = Pool(8)"
   ]
  },
  {
   "cell_type": "code",
   "execution_count": 5,
   "metadata": {
    "collapsed": true
   },
   "outputs": [],
   "source": [
    "def read_from_csv(file):\n",
    "    return pd.read_csv(file, parse_dates=['published_at']).ix[:, 1:]"
   ]
  },
  {
   "cell_type": "code",
   "execution_count": 6,
   "metadata": {
    "collapsed": false
   },
   "outputs": [],
   "source": [
    "sample = pd.concat(map(read_from_csv, files))"
   ]
  },
  {
   "cell_type": "code",
   "execution_count": 7,
   "metadata": {
    "collapsed": false
   },
   "outputs": [
    {
     "data": {
      "text/plain": [
       "(1013863, 10)"
      ]
     },
     "execution_count": 7,
     "metadata": {},
     "output_type": "execute_result"
    }
   ],
   "source": [
    "sample.shape"
   ]
  },
  {
   "cell_type": "code",
   "execution_count": 8,
   "metadata": {
    "collapsed": false
   },
   "outputs": [
    {
     "data": {
      "text/html": [
       "<div>\n",
       "<table border=\"1\" class=\"dataframe\">\n",
       "  <thead>\n",
       "    <tr style=\"text-align: right;\">\n",
       "      <th></th>\n",
       "      <th>video_id</th>\n",
       "      <th>duration</th>\n",
       "      <th>title</th>\n",
       "      <th>channel_id</th>\n",
       "      <th>channel_title</th>\n",
       "      <th>published_at</th>\n",
       "      <th>views</th>\n",
       "      <th>likes</th>\n",
       "      <th>dislikes</th>\n",
       "      <th>comments</th>\n",
       "    </tr>\n",
       "  </thead>\n",
       "  <tbody>\n",
       "    <tr>\n",
       "      <th>0</th>\n",
       "      <td>--DwgB78t-c</td>\n",
       "      <td>PT2M36S</td>\n",
       "      <td>Fruto Dulce - Geraldine Rojas &amp; Ezequiel Paludi 3</td>\n",
       "      <td>UCdzU3DSGzyWzN2118yd9X9g</td>\n",
       "      <td>Abdullah AYDIN</td>\n",
       "      <td>2012-01-19 18:20:02</td>\n",
       "      <td>1671</td>\n",
       "      <td>10</td>\n",
       "      <td>1</td>\n",
       "      <td>0</td>\n",
       "    </tr>\n",
       "    <tr>\n",
       "      <th>1</th>\n",
       "      <td>--NZRkXBV7k</td>\n",
       "      <td>PT4M53S</td>\n",
       "      <td>Carlos Santana presents Cindy Blackman in Mexi...</td>\n",
       "      <td>UC0UnhAG47DRyVZGVcbhAXhQ</td>\n",
       "      <td>Saul TP</td>\n",
       "      <td>2015-03-30 04:04:40</td>\n",
       "      <td>9994</td>\n",
       "      <td>41</td>\n",
       "      <td>3</td>\n",
       "      <td>2</td>\n",
       "    </tr>\n",
       "    <tr>\n",
       "      <th>2</th>\n",
       "      <td>--hoQ2sGG4M</td>\n",
       "      <td>PT4M35S</td>\n",
       "      <td>Taoist monk Tian Xin Shan in Brazil,Wudang San...</td>\n",
       "      <td>UCXjtAvK5P3wXBGh0vbGylzg</td>\n",
       "      <td>TheTVtaoista</td>\n",
       "      <td>2009-08-07 06:36:33</td>\n",
       "      <td>3407</td>\n",
       "      <td>8</td>\n",
       "      <td>1</td>\n",
       "      <td>2</td>\n",
       "    </tr>\n",
       "    <tr>\n",
       "      <th>3</th>\n",
       "      <td>--sBoaqBlzA</td>\n",
       "      <td>PT8M19S</td>\n",
       "      <td>MAKEUP FOR GUYS:  Actors, TV Hosts, On Camera ...</td>\n",
       "      <td>UCeKHMeUlcLNPLCLUfZUQI2w</td>\n",
       "      <td>Tiffany Hendra</td>\n",
       "      <td>2011-08-04 00:47:49</td>\n",
       "      <td>15816</td>\n",
       "      <td>120</td>\n",
       "      <td>2</td>\n",
       "      <td>8</td>\n",
       "    </tr>\n",
       "    <tr>\n",
       "      <th>4</th>\n",
       "      <td>--7h1S4neDM</td>\n",
       "      <td>PT3M19S</td>\n",
       "      <td>Pet Rescue Saga Level 539 2 Stars No Boosts</td>\n",
       "      <td>UCNWPDyaWf2eAHnofFLSnEMg</td>\n",
       "      <td>All Gamers</td>\n",
       "      <td>2014-04-29 15:44:44</td>\n",
       "      <td>2167</td>\n",
       "      <td>1</td>\n",
       "      <td>0</td>\n",
       "      <td>0</td>\n",
       "    </tr>\n",
       "  </tbody>\n",
       "</table>\n",
       "</div>"
      ],
      "text/plain": [
       "      video_id duration                                              title  \\\n",
       "0  --DwgB78t-c  PT2M36S  Fruto Dulce - Geraldine Rojas & Ezequiel Paludi 3   \n",
       "1  --NZRkXBV7k  PT4M53S  Carlos Santana presents Cindy Blackman in Mexi...   \n",
       "2  --hoQ2sGG4M  PT4M35S  Taoist monk Tian Xin Shan in Brazil,Wudang San...   \n",
       "3  --sBoaqBlzA  PT8M19S  MAKEUP FOR GUYS:  Actors, TV Hosts, On Camera ...   \n",
       "4  --7h1S4neDM  PT3M19S        Pet Rescue Saga Level 539 2 Stars No Boosts   \n",
       "\n",
       "                 channel_id   channel_title        published_at  views  likes  \\\n",
       "0  UCdzU3DSGzyWzN2118yd9X9g  Abdullah AYDIN 2012-01-19 18:20:02   1671     10   \n",
       "1  UC0UnhAG47DRyVZGVcbhAXhQ         Saul TP 2015-03-30 04:04:40   9994     41   \n",
       "2  UCXjtAvK5P3wXBGh0vbGylzg    TheTVtaoista 2009-08-07 06:36:33   3407      8   \n",
       "3  UCeKHMeUlcLNPLCLUfZUQI2w  Tiffany Hendra 2011-08-04 00:47:49  15816    120   \n",
       "4  UCNWPDyaWf2eAHnofFLSnEMg      All Gamers 2014-04-29 15:44:44   2167      1   \n",
       "\n",
       "   dislikes  comments  \n",
       "0         1         0  \n",
       "1         3         2  \n",
       "2         1         2  \n",
       "3         2         8  \n",
       "4         0         0  "
      ]
     },
     "execution_count": 8,
     "metadata": {},
     "output_type": "execute_result"
    }
   ],
   "source": [
    "sample.head()"
   ]
  },
  {
   "cell_type": "code",
   "execution_count": 9,
   "metadata": {
    "collapsed": false
   },
   "outputs": [
    {
     "data": {
      "text/plain": [
       "video_id                 object\n",
       "duration                 object\n",
       "title                    object\n",
       "channel_id               object\n",
       "channel_title            object\n",
       "published_at     datetime64[ns]\n",
       "views                     int64\n",
       "likes                     int64\n",
       "dislikes                  int64\n",
       "comments                  int64\n",
       "dtype: object"
      ]
     },
     "execution_count": 9,
     "metadata": {},
     "output_type": "execute_result"
    }
   ],
   "source": [
    "sample.dtypes"
   ]
  },
  {
   "cell_type": "code",
   "execution_count": 10,
   "metadata": {
    "collapsed": true
   },
   "outputs": [],
   "source": [
    "labels = pd.read_csv(\"../../train_labels.csv\", header=None)"
   ]
  },
  {
   "cell_type": "code",
   "execution_count": 11,
   "metadata": {
    "collapsed": false
   },
   "outputs": [
    {
     "data": {
      "text/html": [
       "<div>\n",
       "<table border=\"1\" class=\"dataframe\">\n",
       "  <thead>\n",
       "    <tr style=\"text-align: right;\">\n",
       "      <th></th>\n",
       "      <th>0</th>\n",
       "      <th>1</th>\n",
       "    </tr>\n",
       "  </thead>\n",
       "  <tbody>\n",
       "    <tr>\n",
       "      <th>0</th>\n",
       "      <td>--DwgB78t-c</td>\n",
       "      <td>16 5 430</td>\n",
       "    </tr>\n",
       "    <tr>\n",
       "      <th>1</th>\n",
       "      <td>--NZRkXBV7k</td>\n",
       "      <td>128 3 39 7 44 13 16 30</td>\n",
       "    </tr>\n",
       "    <tr>\n",
       "      <th>2</th>\n",
       "      <td>--hoQ2sGG4M</td>\n",
       "      <td>694</td>\n",
       "    </tr>\n",
       "    <tr>\n",
       "      <th>3</th>\n",
       "      <td>--ABhs9ik7c</td>\n",
       "      <td>2232 1 4 517 270</td>\n",
       "    </tr>\n",
       "    <tr>\n",
       "      <th>4</th>\n",
       "      <td>--sBoaqBlzA</td>\n",
       "      <td>45 125</td>\n",
       "    </tr>\n",
       "  </tbody>\n",
       "</table>\n",
       "</div>"
      ],
      "text/plain": [
       "             0                       1\n",
       "0  --DwgB78t-c                16 5 430\n",
       "1  --NZRkXBV7k  128 3 39 7 44 13 16 30\n",
       "2  --hoQ2sGG4M                     694\n",
       "3  --ABhs9ik7c        2232 1 4 517 270\n",
       "4  --sBoaqBlzA                  45 125"
      ]
     },
     "execution_count": 11,
     "metadata": {},
     "output_type": "execute_result"
    }
   ],
   "source": [
    "labels.head()"
   ]
  },
  {
   "cell_type": "code",
   "execution_count": 12,
   "metadata": {
    "collapsed": true
   },
   "outputs": [],
   "source": [
    "merged = sample.merge(labels, left_on='video_id', right_on=0)"
   ]
  },
  {
   "cell_type": "code",
   "execution_count": 13,
   "metadata": {
    "collapsed": false
   },
   "outputs": [],
   "source": [
    "merged = merged.ix[:, [x for x in merged.columns if x != 0]]"
   ]
  },
  {
   "cell_type": "code",
   "execution_count": 14,
   "metadata": {
    "collapsed": false
   },
   "outputs": [],
   "source": [
    "merged = merged.rename(columns={1: 'labels'})"
   ]
  },
  {
   "cell_type": "code",
   "execution_count": 15,
   "metadata": {
    "collapsed": false
   },
   "outputs": [
    {
     "data": {
      "text/html": [
       "<div>\n",
       "<table border=\"1\" class=\"dataframe\">\n",
       "  <thead>\n",
       "    <tr style=\"text-align: right;\">\n",
       "      <th></th>\n",
       "      <th>video_id</th>\n",
       "      <th>duration</th>\n",
       "      <th>title</th>\n",
       "      <th>channel_id</th>\n",
       "      <th>channel_title</th>\n",
       "      <th>published_at</th>\n",
       "      <th>views</th>\n",
       "      <th>likes</th>\n",
       "      <th>dislikes</th>\n",
       "      <th>comments</th>\n",
       "      <th>labels</th>\n",
       "    </tr>\n",
       "  </thead>\n",
       "  <tbody>\n",
       "    <tr>\n",
       "      <th>0</th>\n",
       "      <td>--DwgB78t-c</td>\n",
       "      <td>PT2M36S</td>\n",
       "      <td>Fruto Dulce - Geraldine Rojas &amp; Ezequiel Paludi 3</td>\n",
       "      <td>UCdzU3DSGzyWzN2118yd9X9g</td>\n",
       "      <td>Abdullah AYDIN</td>\n",
       "      <td>2012-01-19 18:20:02</td>\n",
       "      <td>1671</td>\n",
       "      <td>10</td>\n",
       "      <td>1</td>\n",
       "      <td>0</td>\n",
       "      <td>16 5 430</td>\n",
       "    </tr>\n",
       "    <tr>\n",
       "      <th>1</th>\n",
       "      <td>--NZRkXBV7k</td>\n",
       "      <td>PT4M53S</td>\n",
       "      <td>Carlos Santana presents Cindy Blackman in Mexi...</td>\n",
       "      <td>UC0UnhAG47DRyVZGVcbhAXhQ</td>\n",
       "      <td>Saul TP</td>\n",
       "      <td>2015-03-30 04:04:40</td>\n",
       "      <td>9994</td>\n",
       "      <td>41</td>\n",
       "      <td>3</td>\n",
       "      <td>2</td>\n",
       "      <td>128 3 39 7 44 13 16 30</td>\n",
       "    </tr>\n",
       "    <tr>\n",
       "      <th>2</th>\n",
       "      <td>--hoQ2sGG4M</td>\n",
       "      <td>PT4M35S</td>\n",
       "      <td>Taoist monk Tian Xin Shan in Brazil,Wudang San...</td>\n",
       "      <td>UCXjtAvK5P3wXBGh0vbGylzg</td>\n",
       "      <td>TheTVtaoista</td>\n",
       "      <td>2009-08-07 06:36:33</td>\n",
       "      <td>3407</td>\n",
       "      <td>8</td>\n",
       "      <td>1</td>\n",
       "      <td>2</td>\n",
       "      <td>694</td>\n",
       "    </tr>\n",
       "    <tr>\n",
       "      <th>3</th>\n",
       "      <td>--sBoaqBlzA</td>\n",
       "      <td>PT8M19S</td>\n",
       "      <td>MAKEUP FOR GUYS:  Actors, TV Hosts, On Camera ...</td>\n",
       "      <td>UCeKHMeUlcLNPLCLUfZUQI2w</td>\n",
       "      <td>Tiffany Hendra</td>\n",
       "      <td>2011-08-04 00:47:49</td>\n",
       "      <td>15816</td>\n",
       "      <td>120</td>\n",
       "      <td>2</td>\n",
       "      <td>8</td>\n",
       "      <td>45 125</td>\n",
       "    </tr>\n",
       "    <tr>\n",
       "      <th>4</th>\n",
       "      <td>--7h1S4neDM</td>\n",
       "      <td>PT3M19S</td>\n",
       "      <td>Pet Rescue Saga Level 539 2 Stars No Boosts</td>\n",
       "      <td>UCNWPDyaWf2eAHnofFLSnEMg</td>\n",
       "      <td>All Gamers</td>\n",
       "      <td>2014-04-29 15:44:44</td>\n",
       "      <td>2167</td>\n",
       "      <td>1</td>\n",
       "      <td>0</td>\n",
       "      <td>0</td>\n",
       "      <td>0 48 10 356</td>\n",
       "    </tr>\n",
       "  </tbody>\n",
       "</table>\n",
       "</div>"
      ],
      "text/plain": [
       "      video_id duration                                              title  \\\n",
       "0  --DwgB78t-c  PT2M36S  Fruto Dulce - Geraldine Rojas & Ezequiel Paludi 3   \n",
       "1  --NZRkXBV7k  PT4M53S  Carlos Santana presents Cindy Blackman in Mexi...   \n",
       "2  --hoQ2sGG4M  PT4M35S  Taoist monk Tian Xin Shan in Brazil,Wudang San...   \n",
       "3  --sBoaqBlzA  PT8M19S  MAKEUP FOR GUYS:  Actors, TV Hosts, On Camera ...   \n",
       "4  --7h1S4neDM  PT3M19S        Pet Rescue Saga Level 539 2 Stars No Boosts   \n",
       "\n",
       "                 channel_id   channel_title        published_at  views  likes  \\\n",
       "0  UCdzU3DSGzyWzN2118yd9X9g  Abdullah AYDIN 2012-01-19 18:20:02   1671     10   \n",
       "1  UC0UnhAG47DRyVZGVcbhAXhQ         Saul TP 2015-03-30 04:04:40   9994     41   \n",
       "2  UCXjtAvK5P3wXBGh0vbGylzg    TheTVtaoista 2009-08-07 06:36:33   3407      8   \n",
       "3  UCeKHMeUlcLNPLCLUfZUQI2w  Tiffany Hendra 2011-08-04 00:47:49  15816    120   \n",
       "4  UCNWPDyaWf2eAHnofFLSnEMg      All Gamers 2014-04-29 15:44:44   2167      1   \n",
       "\n",
       "   dislikes  comments                  labels  \n",
       "0         1         0                16 5 430  \n",
       "1         3         2  128 3 39 7 44 13 16 30  \n",
       "2         1         2                     694  \n",
       "3         2         8                  45 125  \n",
       "4         0         0             0 48 10 356  "
      ]
     },
     "execution_count": 15,
     "metadata": {},
     "output_type": "execute_result"
    }
   ],
   "source": [
    "merged.head()"
   ]
  },
  {
   "cell_type": "code",
   "execution_count": 16,
   "metadata": {
    "collapsed": true
   },
   "outputs": [],
   "source": [
    "feather.write_dataframe(sample, \"../sample_larger.feather\")"
   ]
  },
  {
   "cell_type": "code",
   "execution_count": null,
   "metadata": {
    "collapsed": true
   },
   "outputs": [],
   "source": []
  }
 ],
 "metadata": {
  "anaconda-cloud": {},
  "kernelspec": {
   "display_name": "Python [Root]",
   "language": "python",
   "name": "Python [Root]"
  },
  "language_info": {
   "codemirror_mode": {
    "name": "ipython",
    "version": 3
   },
   "file_extension": ".py",
   "mimetype": "text/x-python",
   "name": "python",
   "nbconvert_exporter": "python",
   "pygments_lexer": "ipython3",
   "version": "3.5.2"
  }
 },
 "nbformat": 4,
 "nbformat_minor": 0
}

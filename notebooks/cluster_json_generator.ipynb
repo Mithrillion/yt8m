{
 "cells": [
  {
   "cell_type": "markdown",
   "metadata": {},
   "source": [
    "This script is used to generate hierarchically named tags to be used in bundled heirarchincal graph visualisation."
   ]
  },
  {
   "cell_type": "code",
   "execution_count": 1,
   "metadata": {
    "collapsed": true
   },
   "outputs": [],
   "source": [
    "import numpy as np\n",
    "import pandas as pd\n",
    "import json\n",
    "import feather\n",
    "import pickle"
   ]
  },
  {
   "cell_type": "code",
   "execution_count": 2,
   "metadata": {
    "collapsed": true
   },
   "outputs": [],
   "source": [
    "dat = feather.read_dataframe(\"./label_members.feather\")"
   ]
  },
  {
   "cell_type": "code",
   "execution_count": 3,
   "metadata": {
    "collapsed": false
   },
   "outputs": [
    {
     "data": {
      "text/html": [
       "<div>\n",
       "<table border=\"1\" class=\"dataframe\">\n",
       "  <thead>\n",
       "    <tr style=\"text-align: right;\">\n",
       "      <th></th>\n",
       "      <th>label_id</th>\n",
       "      <th>label_name</th>\n",
       "      <th>count</th>\n",
       "      <th>G0</th>\n",
       "      <th>G1</th>\n",
       "      <th>G2</th>\n",
       "    </tr>\n",
       "  </thead>\n",
       "  <tbody>\n",
       "    <tr>\n",
       "      <th>0</th>\n",
       "      <td>0</td>\n",
       "      <td>Games</td>\n",
       "      <td>859519</td>\n",
       "      <td>0</td>\n",
       "      <td>0</td>\n",
       "      <td>0</td>\n",
       "    </tr>\n",
       "    <tr>\n",
       "      <th>1</th>\n",
       "      <td>1</td>\n",
       "      <td>Vehicle</td>\n",
       "      <td>678257</td>\n",
       "      <td>3</td>\n",
       "      <td>1</td>\n",
       "      <td>0</td>\n",
       "    </tr>\n",
       "    <tr>\n",
       "      <th>2</th>\n",
       "      <td>2</td>\n",
       "      <td>Video game</td>\n",
       "      <td>518981</td>\n",
       "      <td>0</td>\n",
       "      <td>0</td>\n",
       "      <td>0</td>\n",
       "    </tr>\n",
       "    <tr>\n",
       "      <th>3</th>\n",
       "      <td>3</td>\n",
       "      <td>Concert</td>\n",
       "      <td>494707</td>\n",
       "      <td>2</td>\n",
       "      <td>2</td>\n",
       "      <td>1</td>\n",
       "    </tr>\n",
       "    <tr>\n",
       "      <th>4</th>\n",
       "      <td>4</td>\n",
       "      <td>Car</td>\n",
       "      <td>371391</td>\n",
       "      <td>3</td>\n",
       "      <td>1</td>\n",
       "      <td>0</td>\n",
       "    </tr>\n",
       "  </tbody>\n",
       "</table>\n",
       "</div>"
      ],
      "text/plain": [
       "   label_id  label_name   count  G0  G1  G2\n",
       "0         0       Games  859519   0   0   0\n",
       "1         1     Vehicle  678257   3   1   0\n",
       "2         2  Video game  518981   0   0   0\n",
       "3         3     Concert  494707   2   2   1\n",
       "4         4         Car  371391   3   1   0"
      ]
     },
     "execution_count": 3,
     "metadata": {},
     "output_type": "execute_result"
    }
   ],
   "source": [
    "dat.head()"
   ]
  },
  {
   "cell_type": "code",
   "execution_count": 4,
   "metadata": {
    "collapsed": false
   },
   "outputs": [],
   "source": [
    "assoc = pickle.load(open(\"./co_mat.pkl\", 'rb'))"
   ]
  },
  {
   "cell_type": "code",
   "execution_count": 5,
   "metadata": {
    "collapsed": false
   },
   "outputs": [],
   "source": [
    "n = 200\n",
    "dense = assoc[:n, :n].todense()\n",
    "diag = np.diag(dense)\n",
    "total = np.repeat(np.matrix(diag), diag.shape[0], axis=0) + np.repeat(np.matrix(diag).T, diag.shape[0], axis=1)\n",
    "dense = (dense - diag * np.eye(dense.shape[0], dtype=\"uint32\")) / total\n",
    "dense = (dense >= 0.1) * 1"
   ]
  },
  {
   "cell_type": "code",
   "execution_count": 6,
   "metadata": {
    "collapsed": false
   },
   "outputs": [
    {
     "data": {
      "text/plain": [
       "matrix([[0, 0, 1, ..., 0, 0, 0],\n",
       "        [0, 0, 0, ..., 0, 0, 0],\n",
       "        [1, 0, 0, ..., 0, 0, 0],\n",
       "        ..., \n",
       "        [0, 0, 0, ..., 0, 0, 0],\n",
       "        [0, 0, 0, ..., 0, 0, 0],\n",
       "        [0, 0, 0, ..., 0, 0, 0]])"
      ]
     },
     "execution_count": 6,
     "metadata": {},
     "output_type": "execute_result"
    }
   ],
   "source": [
    "dense"
   ]
  },
  {
   "cell_type": "code",
   "execution_count": 7,
   "metadata": {
    "collapsed": false
   },
   "outputs": [
    {
     "data": {
      "text/plain": [
       "(200, 6)"
      ]
     },
     "execution_count": 7,
     "metadata": {},
     "output_type": "execute_result"
    }
   ],
   "source": [
    "dat.shape"
   ]
  },
  {
   "cell_type": "code",
   "execution_count": 8,
   "metadata": {
    "collapsed": false
   },
   "outputs": [
    {
     "data": {
      "text/plain": [
       "(200, 200)"
      ]
     },
     "execution_count": 8,
     "metadata": {},
     "output_type": "execute_result"
    }
   ],
   "source": [
    "dense.shape"
   ]
  },
  {
   "cell_type": "code",
   "execution_count": 9,
   "metadata": {
    "collapsed": true
   },
   "outputs": [],
   "source": [
    "dat['G3'] = 'G3_0'\n",
    "dat['G2'] = dat['G2'].apply(lambda s: 'G2_' + str(s))\n",
    "dat['G1'] = dat['G1'].apply(lambda s: 'G1_' + str(s))\n",
    "dat['G0'] = dat['G0'].apply(lambda s: 'G0_' + str(s))"
   ]
  },
  {
   "cell_type": "code",
   "execution_count": 10,
   "metadata": {
    "collapsed": false
   },
   "outputs": [
    {
     "data": {
      "text/html": [
       "<div>\n",
       "<table border=\"1\" class=\"dataframe\">\n",
       "  <thead>\n",
       "    <tr style=\"text-align: right;\">\n",
       "      <th></th>\n",
       "      <th>label_id</th>\n",
       "      <th>label_name</th>\n",
       "      <th>count</th>\n",
       "      <th>G0</th>\n",
       "      <th>G1</th>\n",
       "      <th>G2</th>\n",
       "      <th>G3</th>\n",
       "    </tr>\n",
       "  </thead>\n",
       "  <tbody>\n",
       "    <tr>\n",
       "      <th>0</th>\n",
       "      <td>0</td>\n",
       "      <td>Games</td>\n",
       "      <td>859519</td>\n",
       "      <td>G0_0</td>\n",
       "      <td>G1_0</td>\n",
       "      <td>G2_0</td>\n",
       "      <td>G3_0</td>\n",
       "    </tr>\n",
       "    <tr>\n",
       "      <th>1</th>\n",
       "      <td>1</td>\n",
       "      <td>Vehicle</td>\n",
       "      <td>678257</td>\n",
       "      <td>G0_3</td>\n",
       "      <td>G1_1</td>\n",
       "      <td>G2_0</td>\n",
       "      <td>G3_0</td>\n",
       "    </tr>\n",
       "    <tr>\n",
       "      <th>2</th>\n",
       "      <td>2</td>\n",
       "      <td>Video game</td>\n",
       "      <td>518981</td>\n",
       "      <td>G0_0</td>\n",
       "      <td>G1_0</td>\n",
       "      <td>G2_0</td>\n",
       "      <td>G3_0</td>\n",
       "    </tr>\n",
       "    <tr>\n",
       "      <th>3</th>\n",
       "      <td>3</td>\n",
       "      <td>Concert</td>\n",
       "      <td>494707</td>\n",
       "      <td>G0_2</td>\n",
       "      <td>G1_2</td>\n",
       "      <td>G2_1</td>\n",
       "      <td>G3_0</td>\n",
       "    </tr>\n",
       "    <tr>\n",
       "      <th>4</th>\n",
       "      <td>4</td>\n",
       "      <td>Car</td>\n",
       "      <td>371391</td>\n",
       "      <td>G0_3</td>\n",
       "      <td>G1_1</td>\n",
       "      <td>G2_0</td>\n",
       "      <td>G3_0</td>\n",
       "    </tr>\n",
       "  </tbody>\n",
       "</table>\n",
       "</div>"
      ],
      "text/plain": [
       "   label_id  label_name   count    G0    G1    G2    G3\n",
       "0         0       Games  859519  G0_0  G1_0  G2_0  G3_0\n",
       "1         1     Vehicle  678257  G0_3  G1_1  G2_0  G3_0\n",
       "2         2  Video game  518981  G0_0  G1_0  G2_0  G3_0\n",
       "3         3     Concert  494707  G0_2  G1_2  G2_1  G3_0\n",
       "4         4         Car  371391  G0_3  G1_1  G2_0  G3_0"
      ]
     },
     "execution_count": 10,
     "metadata": {},
     "output_type": "execute_result"
    }
   ],
   "source": [
    "dat.head()"
   ]
  },
  {
   "cell_type": "code",
   "execution_count": 11,
   "metadata": {
    "collapsed": true
   },
   "outputs": [],
   "source": [
    "feather.write_dataframe(dat, \"label_by_group.feather\")"
   ]
  },
  {
   "cell_type": "code",
   "execution_count": 25,
   "metadata": {
    "collapsed": false
   },
   "outputs": [],
   "source": [
    "fullnames = dat.ix[:, ['G3', 'G2', 'G1', 'G0', 'label_name']].apply(lambda s: \".\".join(s.astype(str)), axis=1)"
   ]
  },
  {
   "cell_type": "code",
   "execution_count": 26,
   "metadata": {
    "collapsed": false
   },
   "outputs": [],
   "source": [
    "exp = pd.DataFrame({'name': fullnames, 'size':dat['count']})"
   ]
  },
  {
   "cell_type": "code",
   "execution_count": 27,
   "metadata": {
    "collapsed": false
   },
   "outputs": [
    {
     "data": {
      "text/html": [
       "<div>\n",
       "<table border=\"1\" class=\"dataframe\">\n",
       "  <thead>\n",
       "    <tr style=\"text-align: right;\">\n",
       "      <th></th>\n",
       "      <th>name</th>\n",
       "      <th>size</th>\n",
       "    </tr>\n",
       "  </thead>\n",
       "  <tbody>\n",
       "    <tr>\n",
       "      <th>0</th>\n",
       "      <td>G3_0.G2_G2_0.G1_G1_0.G0_G0_0.Games</td>\n",
       "      <td>859519</td>\n",
       "    </tr>\n",
       "    <tr>\n",
       "      <th>1</th>\n",
       "      <td>G3_0.G2_G2_0.G1_G1_1.G0_G0_3.Vehicle</td>\n",
       "      <td>678257</td>\n",
       "    </tr>\n",
       "    <tr>\n",
       "      <th>2</th>\n",
       "      <td>G3_0.G2_G2_0.G1_G1_0.G0_G0_0.Video game</td>\n",
       "      <td>518981</td>\n",
       "    </tr>\n",
       "    <tr>\n",
       "      <th>3</th>\n",
       "      <td>G3_0.G2_G2_1.G1_G1_2.G0_G0_2.Concert</td>\n",
       "      <td>494707</td>\n",
       "    </tr>\n",
       "    <tr>\n",
       "      <th>4</th>\n",
       "      <td>G3_0.G2_G2_0.G1_G1_1.G0_G0_3.Car</td>\n",
       "      <td>371391</td>\n",
       "    </tr>\n",
       "  </tbody>\n",
       "</table>\n",
       "</div>"
      ],
      "text/plain": [
       "                                      name    size\n",
       "0       G3_0.G2_G2_0.G1_G1_0.G0_G0_0.Games  859519\n",
       "1     G3_0.G2_G2_0.G1_G1_1.G0_G0_3.Vehicle  678257\n",
       "2  G3_0.G2_G2_0.G1_G1_0.G0_G0_0.Video game  518981\n",
       "3     G3_0.G2_G2_1.G1_G1_2.G0_G0_2.Concert  494707\n",
       "4         G3_0.G2_G2_0.G1_G1_1.G0_G0_3.Car  371391"
      ]
     },
     "execution_count": 27,
     "metadata": {},
     "output_type": "execute_result"
    }
   ],
   "source": [
    "exp.head()"
   ]
  },
  {
   "cell_type": "code",
   "execution_count": 28,
   "metadata": {
    "collapsed": false
   },
   "outputs": [],
   "source": [
    "imports = []\n",
    "for i in range(exp.shape[0]):\n",
    "    imports += [list(exp.ix[np.ravel(dense[i, :] > 0), 'name'])]"
   ]
  },
  {
   "cell_type": "code",
   "execution_count": 29,
   "metadata": {
    "collapsed": true
   },
   "outputs": [],
   "source": [
    "exp['imports'] = imports"
   ]
  },
  {
   "cell_type": "code",
   "execution_count": 30,
   "metadata": {
    "collapsed": false
   },
   "outputs": [
    {
     "data": {
      "text/html": [
       "<div>\n",
       "<table border=\"1\" class=\"dataframe\">\n",
       "  <thead>\n",
       "    <tr style=\"text-align: right;\">\n",
       "      <th></th>\n",
       "      <th>name</th>\n",
       "      <th>size</th>\n",
       "      <th>imports</th>\n",
       "    </tr>\n",
       "  </thead>\n",
       "  <tbody>\n",
       "    <tr>\n",
       "      <th>0</th>\n",
       "      <td>G3_0.G2_G2_0.G1_G1_0.G0_G0_0.Games</td>\n",
       "      <td>859519</td>\n",
       "      <td>[G3_0.G2_G2_0.G1_G1_0.G0_G0_0.Video game, G3_0...</td>\n",
       "    </tr>\n",
       "    <tr>\n",
       "      <th>1</th>\n",
       "      <td>G3_0.G2_G2_0.G1_G1_1.G0_G0_3.Vehicle</td>\n",
       "      <td>678257</td>\n",
       "      <td>[G3_0.G2_G2_0.G1_G1_1.G0_G0_3.Car, G3_0.G2_G2_...</td>\n",
       "    </tr>\n",
       "    <tr>\n",
       "      <th>2</th>\n",
       "      <td>G3_0.G2_G2_0.G1_G1_0.G0_G0_0.Video game</td>\n",
       "      <td>518981</td>\n",
       "      <td>[G3_0.G2_G2_0.G1_G1_0.G0_G0_0.Games, G3_0.G2_G...</td>\n",
       "    </tr>\n",
       "    <tr>\n",
       "      <th>3</th>\n",
       "      <td>G3_0.G2_G2_1.G1_G1_2.G0_G0_2.Concert</td>\n",
       "      <td>494707</td>\n",
       "      <td>[G3_0.G2_G2_1.G1_G1_2.G0_G0_2.Musician, G3_0.G...</td>\n",
       "    </tr>\n",
       "    <tr>\n",
       "      <th>4</th>\n",
       "      <td>G3_0.G2_G2_0.G1_G1_1.G0_G0_3.Car</td>\n",
       "      <td>371391</td>\n",
       "      <td>[G3_0.G2_G2_0.G1_G1_1.G0_G0_3.Vehicle, G3_0.G2...</td>\n",
       "    </tr>\n",
       "  </tbody>\n",
       "</table>\n",
       "</div>"
      ],
      "text/plain": [
       "                                      name    size  \\\n",
       "0       G3_0.G2_G2_0.G1_G1_0.G0_G0_0.Games  859519   \n",
       "1     G3_0.G2_G2_0.G1_G1_1.G0_G0_3.Vehicle  678257   \n",
       "2  G3_0.G2_G2_0.G1_G1_0.G0_G0_0.Video game  518981   \n",
       "3     G3_0.G2_G2_1.G1_G1_2.G0_G0_2.Concert  494707   \n",
       "4         G3_0.G2_G2_0.G1_G1_1.G0_G0_3.Car  371391   \n",
       "\n",
       "                                             imports  \n",
       "0  [G3_0.G2_G2_0.G1_G1_0.G0_G0_0.Video game, G3_0...  \n",
       "1  [G3_0.G2_G2_0.G1_G1_1.G0_G0_3.Car, G3_0.G2_G2_...  \n",
       "2  [G3_0.G2_G2_0.G1_G1_0.G0_G0_0.Games, G3_0.G2_G...  \n",
       "3  [G3_0.G2_G2_1.G1_G1_2.G0_G0_2.Musician, G3_0.G...  \n",
       "4  [G3_0.G2_G2_0.G1_G1_1.G0_G0_3.Vehicle, G3_0.G2...  "
      ]
     },
     "execution_count": 30,
     "metadata": {},
     "output_type": "execute_result"
    }
   ],
   "source": [
    "exp.head()"
   ]
  },
  {
   "cell_type": "code",
   "execution_count": 31,
   "metadata": {
    "collapsed": true
   },
   "outputs": [],
   "source": [
    "exp.to_json(\"plot_cluster_0_1.json\", orient=\"records\")"
   ]
  },
  {
   "cell_type": "code",
   "execution_count": null,
   "metadata": {
    "collapsed": true
   },
   "outputs": [],
   "source": []
  }
 ],
 "metadata": {
  "anaconda-cloud": {},
  "kernelspec": {
   "display_name": "Python [Root]",
   "language": "python",
   "name": "Python [Root]"
  },
  "language_info": {
   "codemirror_mode": {
    "name": "ipython",
    "version": 3
   },
   "file_extension": ".py",
   "mimetype": "text/x-python",
   "name": "python",
   "nbconvert_exporter": "python",
   "pygments_lexer": "ipython3",
   "version": "3.5.2"
  }
 },
 "nbformat": 4,
 "nbformat_minor": 0
}

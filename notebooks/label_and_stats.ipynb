{
 "cells": [
  {
   "cell_type": "code",
   "execution_count": 1,
   "metadata": {
    "collapsed": false
   },
   "outputs": [],
   "source": [
    "import os\n",
    "import numpy as np\n",
    "import pandas as pd\n",
    "from scipy.sparse import dok_matrix\n",
    "from datetime import datetime\n",
    "import matplotlib.pyplot as plt\n",
    "%matplotlib inline\n",
    "from ggplot import *\n",
    "import pickle\n",
    "import feather\n",
    "from collections import Counter\n",
    "from scipy.io import mmread"
   ]
  },
  {
   "cell_type": "code",
   "execution_count": 2,
   "metadata": {
    "collapsed": false
   },
   "outputs": [
    {
     "data": {
      "text/html": [
       "<div>\n",
       "<table border=\"1\" class=\"dataframe\">\n",
       "  <thead>\n",
       "    <tr style=\"text-align: right;\">\n",
       "      <th></th>\n",
       "      <th>video_id</th>\n",
       "      <th>duration</th>\n",
       "      <th>title</th>\n",
       "      <th>channel_id</th>\n",
       "      <th>channel_title</th>\n",
       "      <th>published_at</th>\n",
       "      <th>views</th>\n",
       "      <th>likes</th>\n",
       "      <th>dislikes</th>\n",
       "      <th>comments</th>\n",
       "    </tr>\n",
       "  </thead>\n",
       "  <tbody>\n",
       "    <tr>\n",
       "      <th>0</th>\n",
       "      <td>--DwgB78t-c</td>\n",
       "      <td>PT2M36S</td>\n",
       "      <td>Fruto Dulce - Geraldine Rojas &amp; Ezequiel Paludi 3</td>\n",
       "      <td>UCdzU3DSGzyWzN2118yd9X9g</td>\n",
       "      <td>Abdullah AYDIN</td>\n",
       "      <td>2012-01-19 18:20:02</td>\n",
       "      <td>1671</td>\n",
       "      <td>10</td>\n",
       "      <td>1</td>\n",
       "      <td>0</td>\n",
       "    </tr>\n",
       "    <tr>\n",
       "      <th>1</th>\n",
       "      <td>--NZRkXBV7k</td>\n",
       "      <td>PT4M53S</td>\n",
       "      <td>Carlos Santana presents Cindy Blackman in Mexi...</td>\n",
       "      <td>UC0UnhAG47DRyVZGVcbhAXhQ</td>\n",
       "      <td>Saul TP</td>\n",
       "      <td>2015-03-30 04:04:40</td>\n",
       "      <td>9994</td>\n",
       "      <td>41</td>\n",
       "      <td>3</td>\n",
       "      <td>2</td>\n",
       "    </tr>\n",
       "    <tr>\n",
       "      <th>2</th>\n",
       "      <td>--hoQ2sGG4M</td>\n",
       "      <td>PT4M35S</td>\n",
       "      <td>Taoist monk Tian Xin Shan in Brazil,Wudang San...</td>\n",
       "      <td>UCXjtAvK5P3wXBGh0vbGylzg</td>\n",
       "      <td>TheTVtaoista</td>\n",
       "      <td>2009-08-07 06:36:33</td>\n",
       "      <td>3407</td>\n",
       "      <td>8</td>\n",
       "      <td>1</td>\n",
       "      <td>2</td>\n",
       "    </tr>\n",
       "    <tr>\n",
       "      <th>3</th>\n",
       "      <td>--sBoaqBlzA</td>\n",
       "      <td>PT8M19S</td>\n",
       "      <td>MAKEUP FOR GUYS:  Actors, TV Hosts, On Camera ...</td>\n",
       "      <td>UCeKHMeUlcLNPLCLUfZUQI2w</td>\n",
       "      <td>Tiffany Hendra</td>\n",
       "      <td>2011-08-04 00:47:49</td>\n",
       "      <td>15816</td>\n",
       "      <td>120</td>\n",
       "      <td>2</td>\n",
       "      <td>8</td>\n",
       "    </tr>\n",
       "    <tr>\n",
       "      <th>4</th>\n",
       "      <td>--7h1S4neDM</td>\n",
       "      <td>PT3M19S</td>\n",
       "      <td>Pet Rescue Saga Level 539 2 Stars No Boosts</td>\n",
       "      <td>UCNWPDyaWf2eAHnofFLSnEMg</td>\n",
       "      <td>All Gamers</td>\n",
       "      <td>2014-04-29 15:44:44</td>\n",
       "      <td>2167</td>\n",
       "      <td>1</td>\n",
       "      <td>0</td>\n",
       "      <td>0</td>\n",
       "    </tr>\n",
       "  </tbody>\n",
       "</table>\n",
       "</div>"
      ],
      "text/plain": [
       "      video_id duration                                              title  \\\n",
       "0  --DwgB78t-c  PT2M36S  Fruto Dulce - Geraldine Rojas & Ezequiel Paludi 3   \n",
       "1  --NZRkXBV7k  PT4M53S  Carlos Santana presents Cindy Blackman in Mexi...   \n",
       "2  --hoQ2sGG4M  PT4M35S  Taoist monk Tian Xin Shan in Brazil,Wudang San...   \n",
       "3  --sBoaqBlzA  PT8M19S  MAKEUP FOR GUYS:  Actors, TV Hosts, On Camera ...   \n",
       "4  --7h1S4neDM  PT3M19S        Pet Rescue Saga Level 539 2 Stars No Boosts   \n",
       "\n",
       "                 channel_id   channel_title        published_at  views  likes  \\\n",
       "0  UCdzU3DSGzyWzN2118yd9X9g  Abdullah AYDIN 2012-01-19 18:20:02   1671     10   \n",
       "1  UC0UnhAG47DRyVZGVcbhAXhQ         Saul TP 2015-03-30 04:04:40   9994     41   \n",
       "2  UCXjtAvK5P3wXBGh0vbGylzg    TheTVtaoista 2009-08-07 06:36:33   3407      8   \n",
       "3  UCeKHMeUlcLNPLCLUfZUQI2w  Tiffany Hendra 2011-08-04 00:47:49  15816    120   \n",
       "4  UCNWPDyaWf2eAHnofFLSnEMg      All Gamers 2014-04-29 15:44:44   2167      1   \n",
       "\n",
       "   dislikes  comments  \n",
       "0         1         0  \n",
       "1         3         2  \n",
       "2         1         2  \n",
       "3         2         8  \n",
       "4         0         0  "
      ]
     },
     "execution_count": 2,
     "metadata": {},
     "output_type": "execute_result"
    }
   ],
   "source": [
    "sample = feather.read_dataframe(\"./sample.feather\")\n",
    "sample.head()"
   ]
  },
  {
   "cell_type": "code",
   "execution_count": 3,
   "metadata": {
    "collapsed": false
   },
   "outputs": [],
   "source": [
    "videos = pd.read_csv(\"../train_labels.csv\", header=None)"
   ]
  },
  {
   "cell_type": "code",
   "execution_count": 48,
   "metadata": {
    "collapsed": true
   },
   "outputs": [],
   "source": [
    "videos.columns = ['video_id', 'labels']"
   ]
  },
  {
   "cell_type": "code",
   "execution_count": 49,
   "metadata": {
    "collapsed": false
   },
   "outputs": [
    {
     "data": {
      "text/html": [
       "<div>\n",
       "<table border=\"1\" class=\"dataframe\">\n",
       "  <thead>\n",
       "    <tr style=\"text-align: right;\">\n",
       "      <th></th>\n",
       "      <th>video_id</th>\n",
       "      <th>labels</th>\n",
       "    </tr>\n",
       "  </thead>\n",
       "  <tbody>\n",
       "    <tr>\n",
       "      <th>0</th>\n",
       "      <td>--DwgB78t-c</td>\n",
       "      <td>16 5 430</td>\n",
       "    </tr>\n",
       "    <tr>\n",
       "      <th>1</th>\n",
       "      <td>--NZRkXBV7k</td>\n",
       "      <td>128 3 39 7 44 13 16 30</td>\n",
       "    </tr>\n",
       "    <tr>\n",
       "      <th>2</th>\n",
       "      <td>--hoQ2sGG4M</td>\n",
       "      <td>694</td>\n",
       "    </tr>\n",
       "    <tr>\n",
       "      <th>3</th>\n",
       "      <td>--ABhs9ik7c</td>\n",
       "      <td>2232 1 4 517 270</td>\n",
       "    </tr>\n",
       "    <tr>\n",
       "      <th>4</th>\n",
       "      <td>--sBoaqBlzA</td>\n",
       "      <td>45 125</td>\n",
       "    </tr>\n",
       "  </tbody>\n",
       "</table>\n",
       "</div>"
      ],
      "text/plain": [
       "      video_id                  labels\n",
       "0  --DwgB78t-c                16 5 430\n",
       "1  --NZRkXBV7k  128 3 39 7 44 13 16 30\n",
       "2  --hoQ2sGG4M                     694\n",
       "3  --ABhs9ik7c        2232 1 4 517 270\n",
       "4  --sBoaqBlzA                  45 125"
      ]
     },
     "execution_count": 49,
     "metadata": {},
     "output_type": "execute_result"
    }
   ],
   "source": [
    "videos.head()"
   ]
  },
  {
   "cell_type": "code",
   "execution_count": 30,
   "metadata": {
    "collapsed": true
   },
   "outputs": [],
   "source": [
    "label_mat = mmread('./label_mat.mtx')"
   ]
  },
  {
   "cell_type": "code",
   "execution_count": 36,
   "metadata": {
    "collapsed": false
   },
   "outputs": [],
   "source": [
    "sel = np.concatenate([label_mat.getcol(i).todense() for i in range(20)], axis=1)"
   ]
  },
  {
   "cell_type": "code",
   "execution_count": 37,
   "metadata": {
    "collapsed": false
   },
   "outputs": [
    {
     "data": {
      "text/plain": [
       "(4906660, 20)"
      ]
     },
     "execution_count": 37,
     "metadata": {},
     "output_type": "execute_result"
    }
   ],
   "source": [
    "sel.shape"
   ]
  },
  {
   "cell_type": "code",
   "execution_count": 50,
   "metadata": {
    "collapsed": false
   },
   "outputs": [],
   "source": [
    "videos_top = pd.concat([videos['video_id'], pd.DataFrame(sel)], axis=1)"
   ]
  },
  {
   "cell_type": "code",
   "execution_count": 51,
   "metadata": {
    "collapsed": false
   },
   "outputs": [
    {
     "data": {
      "text/html": [
       "<div>\n",
       "<table border=\"1\" class=\"dataframe\">\n",
       "  <thead>\n",
       "    <tr style=\"text-align: right;\">\n",
       "      <th></th>\n",
       "      <th>video_id</th>\n",
       "      <th>0</th>\n",
       "      <th>1</th>\n",
       "      <th>2</th>\n",
       "      <th>3</th>\n",
       "      <th>4</th>\n",
       "      <th>5</th>\n",
       "      <th>6</th>\n",
       "      <th>7</th>\n",
       "      <th>8</th>\n",
       "      <th>...</th>\n",
       "      <th>10</th>\n",
       "      <th>11</th>\n",
       "      <th>12</th>\n",
       "      <th>13</th>\n",
       "      <th>14</th>\n",
       "      <th>15</th>\n",
       "      <th>16</th>\n",
       "      <th>17</th>\n",
       "      <th>18</th>\n",
       "      <th>19</th>\n",
       "    </tr>\n",
       "  </thead>\n",
       "  <tbody>\n",
       "    <tr>\n",
       "      <th>0</th>\n",
       "      <td>--DwgB78t-c</td>\n",
       "      <td>0</td>\n",
       "      <td>0</td>\n",
       "      <td>0</td>\n",
       "      <td>0</td>\n",
       "      <td>0</td>\n",
       "      <td>1</td>\n",
       "      <td>0</td>\n",
       "      <td>0</td>\n",
       "      <td>0</td>\n",
       "      <td>...</td>\n",
       "      <td>0</td>\n",
       "      <td>0</td>\n",
       "      <td>0</td>\n",
       "      <td>0</td>\n",
       "      <td>0</td>\n",
       "      <td>0</td>\n",
       "      <td>1</td>\n",
       "      <td>0</td>\n",
       "      <td>0</td>\n",
       "      <td>0</td>\n",
       "    </tr>\n",
       "    <tr>\n",
       "      <th>1</th>\n",
       "      <td>--NZRkXBV7k</td>\n",
       "      <td>0</td>\n",
       "      <td>0</td>\n",
       "      <td>0</td>\n",
       "      <td>1</td>\n",
       "      <td>0</td>\n",
       "      <td>0</td>\n",
       "      <td>0</td>\n",
       "      <td>1</td>\n",
       "      <td>0</td>\n",
       "      <td>...</td>\n",
       "      <td>0</td>\n",
       "      <td>0</td>\n",
       "      <td>0</td>\n",
       "      <td>1</td>\n",
       "      <td>0</td>\n",
       "      <td>0</td>\n",
       "      <td>1</td>\n",
       "      <td>0</td>\n",
       "      <td>0</td>\n",
       "      <td>0</td>\n",
       "    </tr>\n",
       "    <tr>\n",
       "      <th>2</th>\n",
       "      <td>--hoQ2sGG4M</td>\n",
       "      <td>0</td>\n",
       "      <td>0</td>\n",
       "      <td>0</td>\n",
       "      <td>0</td>\n",
       "      <td>0</td>\n",
       "      <td>0</td>\n",
       "      <td>0</td>\n",
       "      <td>0</td>\n",
       "      <td>0</td>\n",
       "      <td>...</td>\n",
       "      <td>0</td>\n",
       "      <td>0</td>\n",
       "      <td>0</td>\n",
       "      <td>0</td>\n",
       "      <td>0</td>\n",
       "      <td>0</td>\n",
       "      <td>0</td>\n",
       "      <td>0</td>\n",
       "      <td>0</td>\n",
       "      <td>0</td>\n",
       "    </tr>\n",
       "    <tr>\n",
       "      <th>3</th>\n",
       "      <td>--ABhs9ik7c</td>\n",
       "      <td>0</td>\n",
       "      <td>1</td>\n",
       "      <td>0</td>\n",
       "      <td>0</td>\n",
       "      <td>1</td>\n",
       "      <td>0</td>\n",
       "      <td>0</td>\n",
       "      <td>0</td>\n",
       "      <td>0</td>\n",
       "      <td>...</td>\n",
       "      <td>0</td>\n",
       "      <td>0</td>\n",
       "      <td>0</td>\n",
       "      <td>0</td>\n",
       "      <td>0</td>\n",
       "      <td>0</td>\n",
       "      <td>0</td>\n",
       "      <td>0</td>\n",
       "      <td>0</td>\n",
       "      <td>0</td>\n",
       "    </tr>\n",
       "    <tr>\n",
       "      <th>4</th>\n",
       "      <td>--sBoaqBlzA</td>\n",
       "      <td>0</td>\n",
       "      <td>0</td>\n",
       "      <td>0</td>\n",
       "      <td>0</td>\n",
       "      <td>0</td>\n",
       "      <td>0</td>\n",
       "      <td>0</td>\n",
       "      <td>0</td>\n",
       "      <td>0</td>\n",
       "      <td>...</td>\n",
       "      <td>0</td>\n",
       "      <td>0</td>\n",
       "      <td>0</td>\n",
       "      <td>0</td>\n",
       "      <td>0</td>\n",
       "      <td>0</td>\n",
       "      <td>0</td>\n",
       "      <td>0</td>\n",
       "      <td>0</td>\n",
       "      <td>0</td>\n",
       "    </tr>\n",
       "  </tbody>\n",
       "</table>\n",
       "<p>5 rows × 21 columns</p>\n",
       "</div>"
      ],
      "text/plain": [
       "      video_id  0  1  2  3  4  5  6  7  8 ...  10  11  12  13  14  15  16  17  \\\n",
       "0  --DwgB78t-c  0  0  0  0  0  1  0  0  0 ...   0   0   0   0   0   0   1   0   \n",
       "1  --NZRkXBV7k  0  0  0  1  0  0  0  1  0 ...   0   0   0   1   0   0   1   0   \n",
       "2  --hoQ2sGG4M  0  0  0  0  0  0  0  0  0 ...   0   0   0   0   0   0   0   0   \n",
       "3  --ABhs9ik7c  0  1  0  0  1  0  0  0  0 ...   0   0   0   0   0   0   0   0   \n",
       "4  --sBoaqBlzA  0  0  0  0  0  0  0  0  0 ...   0   0   0   0   0   0   0   0   \n",
       "\n",
       "   18  19  \n",
       "0   0   0  \n",
       "1   0   0  \n",
       "2   0   0  \n",
       "3   0   0  \n",
       "4   0   0  \n",
       "\n",
       "[5 rows x 21 columns]"
      ]
     },
     "execution_count": 51,
     "metadata": {},
     "output_type": "execute_result"
    }
   ],
   "source": [
    "videos_top.head()"
   ]
  },
  {
   "cell_type": "code",
   "execution_count": 52,
   "metadata": {
    "collapsed": true
   },
   "outputs": [],
   "source": [
    "videos_top['is_in'] = np.sum(videos_top.ix[:, 1:], axis=1) > 0"
   ]
  },
  {
   "cell_type": "code",
   "execution_count": 53,
   "metadata": {
    "collapsed": false
   },
   "outputs": [
    {
     "data": {
      "text/plain": [
       "(3385653, 22)"
      ]
     },
     "execution_count": 53,
     "metadata": {},
     "output_type": "execute_result"
    }
   ],
   "source": [
    "videos_top.query('is_in == True').shape"
   ]
  },
  {
   "cell_type": "code",
   "execution_count": 54,
   "metadata": {
    "collapsed": true
   },
   "outputs": [],
   "source": [
    "videos_sel = videos_top.query('is_in == True')"
   ]
  },
  {
   "cell_type": "code",
   "execution_count": 55,
   "metadata": {
    "collapsed": true
   },
   "outputs": [],
   "source": [
    "sample_top = sample.merge(videos_sel, on='video_id')"
   ]
  },
  {
   "cell_type": "code",
   "execution_count": 95,
   "metadata": {
    "collapsed": true
   },
   "outputs": [],
   "source": [
    "feather.write_dataframe(sample_top, \"sample_top.feather\")"
   ]
  },
  {
   "cell_type": "code",
   "execution_count": 56,
   "metadata": {
    "collapsed": false
   },
   "outputs": [
    {
     "data": {
      "text/html": [
       "<div>\n",
       "<table border=\"1\" class=\"dataframe\">\n",
       "  <thead>\n",
       "    <tr style=\"text-align: right;\">\n",
       "      <th></th>\n",
       "      <th>video_id</th>\n",
       "      <th>duration</th>\n",
       "      <th>title</th>\n",
       "      <th>channel_id</th>\n",
       "      <th>channel_title</th>\n",
       "      <th>published_at</th>\n",
       "      <th>views</th>\n",
       "      <th>likes</th>\n",
       "      <th>dislikes</th>\n",
       "      <th>comments</th>\n",
       "      <th>...</th>\n",
       "      <th>11</th>\n",
       "      <th>12</th>\n",
       "      <th>13</th>\n",
       "      <th>14</th>\n",
       "      <th>15</th>\n",
       "      <th>16</th>\n",
       "      <th>17</th>\n",
       "      <th>18</th>\n",
       "      <th>19</th>\n",
       "      <th>is_in</th>\n",
       "    </tr>\n",
       "  </thead>\n",
       "  <tbody>\n",
       "    <tr>\n",
       "      <th>0</th>\n",
       "      <td>--DwgB78t-c</td>\n",
       "      <td>PT2M36S</td>\n",
       "      <td>Fruto Dulce - Geraldine Rojas &amp; Ezequiel Paludi 3</td>\n",
       "      <td>UCdzU3DSGzyWzN2118yd9X9g</td>\n",
       "      <td>Abdullah AYDIN</td>\n",
       "      <td>2012-01-19 18:20:02</td>\n",
       "      <td>1671</td>\n",
       "      <td>10</td>\n",
       "      <td>1</td>\n",
       "      <td>0</td>\n",
       "      <td>...</td>\n",
       "      <td>0</td>\n",
       "      <td>0</td>\n",
       "      <td>0</td>\n",
       "      <td>0</td>\n",
       "      <td>0</td>\n",
       "      <td>1</td>\n",
       "      <td>0</td>\n",
       "      <td>0</td>\n",
       "      <td>0</td>\n",
       "      <td>True</td>\n",
       "    </tr>\n",
       "    <tr>\n",
       "      <th>1</th>\n",
       "      <td>--NZRkXBV7k</td>\n",
       "      <td>PT4M53S</td>\n",
       "      <td>Carlos Santana presents Cindy Blackman in Mexi...</td>\n",
       "      <td>UC0UnhAG47DRyVZGVcbhAXhQ</td>\n",
       "      <td>Saul TP</td>\n",
       "      <td>2015-03-30 04:04:40</td>\n",
       "      <td>9994</td>\n",
       "      <td>41</td>\n",
       "      <td>3</td>\n",
       "      <td>2</td>\n",
       "      <td>...</td>\n",
       "      <td>0</td>\n",
       "      <td>0</td>\n",
       "      <td>1</td>\n",
       "      <td>0</td>\n",
       "      <td>0</td>\n",
       "      <td>1</td>\n",
       "      <td>0</td>\n",
       "      <td>0</td>\n",
       "      <td>0</td>\n",
       "      <td>True</td>\n",
       "    </tr>\n",
       "    <tr>\n",
       "      <th>2</th>\n",
       "      <td>--7h1S4neDM</td>\n",
       "      <td>PT3M19S</td>\n",
       "      <td>Pet Rescue Saga Level 539 2 Stars No Boosts</td>\n",
       "      <td>UCNWPDyaWf2eAHnofFLSnEMg</td>\n",
       "      <td>All Gamers</td>\n",
       "      <td>2014-04-29 15:44:44</td>\n",
       "      <td>2167</td>\n",
       "      <td>1</td>\n",
       "      <td>0</td>\n",
       "      <td>0</td>\n",
       "      <td>...</td>\n",
       "      <td>0</td>\n",
       "      <td>0</td>\n",
       "      <td>0</td>\n",
       "      <td>0</td>\n",
       "      <td>0</td>\n",
       "      <td>0</td>\n",
       "      <td>0</td>\n",
       "      <td>0</td>\n",
       "      <td>0</td>\n",
       "      <td>True</td>\n",
       "    </tr>\n",
       "    <tr>\n",
       "      <th>3</th>\n",
       "      <td>--ezS5q-mZg</td>\n",
       "      <td>PT6M10S</td>\n",
       "      <td>McDonald's Beef</td>\n",
       "      <td>UCZNDDbxNipTnfrSH4NpuoOw</td>\n",
       "      <td>TimothyMBoudreaux</td>\n",
       "      <td>2010-03-09 19:45:08</td>\n",
       "      <td>8376</td>\n",
       "      <td>10</td>\n",
       "      <td>2</td>\n",
       "      <td>7</td>\n",
       "      <td>...</td>\n",
       "      <td>0</td>\n",
       "      <td>1</td>\n",
       "      <td>0</td>\n",
       "      <td>0</td>\n",
       "      <td>0</td>\n",
       "      <td>0</td>\n",
       "      <td>0</td>\n",
       "      <td>0</td>\n",
       "      <td>0</td>\n",
       "      <td>True</td>\n",
       "    </tr>\n",
       "    <tr>\n",
       "      <th>4</th>\n",
       "      <td>--XT8O4T3Wc</td>\n",
       "      <td>PT5M3S</td>\n",
       "      <td>Concealed the Conclusion - Stage 2C Theme: Wes...</td>\n",
       "      <td>UCgg5HS1oVuMSoGRPuHo-b_A</td>\n",
       "      <td>Hawelo92</td>\n",
       "      <td>2010-06-26 14:40:26</td>\n",
       "      <td>8119</td>\n",
       "      <td>44</td>\n",
       "      <td>0</td>\n",
       "      <td>3</td>\n",
       "      <td>...</td>\n",
       "      <td>0</td>\n",
       "      <td>0</td>\n",
       "      <td>0</td>\n",
       "      <td>0</td>\n",
       "      <td>0</td>\n",
       "      <td>0</td>\n",
       "      <td>0</td>\n",
       "      <td>0</td>\n",
       "      <td>0</td>\n",
       "      <td>True</td>\n",
       "    </tr>\n",
       "  </tbody>\n",
       "</table>\n",
       "<p>5 rows × 31 columns</p>\n",
       "</div>"
      ],
      "text/plain": [
       "      video_id duration                                              title  \\\n",
       "0  --DwgB78t-c  PT2M36S  Fruto Dulce - Geraldine Rojas & Ezequiel Paludi 3   \n",
       "1  --NZRkXBV7k  PT4M53S  Carlos Santana presents Cindy Blackman in Mexi...   \n",
       "2  --7h1S4neDM  PT3M19S        Pet Rescue Saga Level 539 2 Stars No Boosts   \n",
       "3  --ezS5q-mZg  PT6M10S                                    McDonald's Beef   \n",
       "4  --XT8O4T3Wc   PT5M3S  Concealed the Conclusion - Stage 2C Theme: Wes...   \n",
       "\n",
       "                 channel_id      channel_title        published_at  views  \\\n",
       "0  UCdzU3DSGzyWzN2118yd9X9g     Abdullah AYDIN 2012-01-19 18:20:02   1671   \n",
       "1  UC0UnhAG47DRyVZGVcbhAXhQ            Saul TP 2015-03-30 04:04:40   9994   \n",
       "2  UCNWPDyaWf2eAHnofFLSnEMg         All Gamers 2014-04-29 15:44:44   2167   \n",
       "3  UCZNDDbxNipTnfrSH4NpuoOw  TimothyMBoudreaux 2010-03-09 19:45:08   8376   \n",
       "4  UCgg5HS1oVuMSoGRPuHo-b_A           Hawelo92 2010-06-26 14:40:26   8119   \n",
       "\n",
       "   likes  dislikes  comments  ...    11  12  13  14  15  16  17  18  19  is_in  \n",
       "0     10         1         0  ...     0   0   0   0   0   1   0   0   0   True  \n",
       "1     41         3         2  ...     0   0   1   0   0   1   0   0   0   True  \n",
       "2      1         0         0  ...     0   0   0   0   0   0   0   0   0   True  \n",
       "3     10         2         7  ...     0   1   0   0   0   0   0   0   0   True  \n",
       "4     44         0         3  ...     0   0   0   0   0   0   0   0   0   True  \n",
       "\n",
       "[5 rows x 31 columns]"
      ]
     },
     "execution_count": 56,
     "metadata": {},
     "output_type": "execute_result"
    }
   ],
   "source": [
    "sample_top.head()"
   ]
  },
  {
   "cell_type": "code",
   "execution_count": 57,
   "metadata": {
    "collapsed": false
   },
   "outputs": [
    {
     "data": {
      "text/plain": [
       "(470331, 31)"
      ]
     },
     "execution_count": 57,
     "metadata": {},
     "output_type": "execute_result"
    }
   ],
   "source": [
    "sample_top.shape"
   ]
  },
  {
   "cell_type": "code",
   "execution_count": 58,
   "metadata": {
    "collapsed": false
   },
   "outputs": [
    {
     "data": {
      "text/plain": [
       "(681819, 10)"
      ]
     },
     "execution_count": 58,
     "metadata": {},
     "output_type": "execute_result"
    }
   ],
   "source": [
    "sample.shape"
   ]
  },
  {
   "cell_type": "code",
   "execution_count": 97,
   "metadata": {
    "collapsed": false,
    "scrolled": false
   },
   "outputs": [
    {
     "data": {
      "text/html": [
       "<div>\n",
       "<table border=\"1\" class=\"dataframe\">\n",
       "  <thead>\n",
       "    <tr style=\"text-align: right;\">\n",
       "      <th></th>\n",
       "      <th>video_id</th>\n",
       "      <th>duration</th>\n",
       "      <th>title</th>\n",
       "      <th>channel_id</th>\n",
       "      <th>channel_title</th>\n",
       "      <th>published_at</th>\n",
       "      <th>views</th>\n",
       "      <th>likes</th>\n",
       "      <th>dislikes</th>\n",
       "      <th>comments</th>\n",
       "      <th>...</th>\n",
       "      <th>11</th>\n",
       "      <th>12</th>\n",
       "      <th>13</th>\n",
       "      <th>14</th>\n",
       "      <th>15</th>\n",
       "      <th>16</th>\n",
       "      <th>17</th>\n",
       "      <th>18</th>\n",
       "      <th>19</th>\n",
       "      <th>is_in</th>\n",
       "    </tr>\n",
       "  </thead>\n",
       "  <tbody>\n",
       "    <tr>\n",
       "      <th>2</th>\n",
       "      <td>--7h1S4neDM</td>\n",
       "      <td>00:03:19</td>\n",
       "      <td>Pet Rescue Saga Level 539 2 Stars No Boosts</td>\n",
       "      <td>UCNWPDyaWf2eAHnofFLSnEMg</td>\n",
       "      <td>All Gamers</td>\n",
       "      <td>2014-04-29 15:44:44</td>\n",
       "      <td>2167</td>\n",
       "      <td>1</td>\n",
       "      <td>0</td>\n",
       "      <td>0</td>\n",
       "      <td>...</td>\n",
       "      <td>0</td>\n",
       "      <td>0</td>\n",
       "      <td>0</td>\n",
       "      <td>0</td>\n",
       "      <td>0</td>\n",
       "      <td>0</td>\n",
       "      <td>0</td>\n",
       "      <td>0</td>\n",
       "      <td>0</td>\n",
       "      <td>True</td>\n",
       "    </tr>\n",
       "    <tr>\n",
       "      <th>5</th>\n",
       "      <td>--Qgwg7mGZY</td>\n",
       "      <td>00:07:28</td>\n",
       "      <td>GRFS Goblin Gun Set Up and Review!</td>\n",
       "      <td>UCCNZDSGjG6xEoz2lv4FThMQ</td>\n",
       "      <td>Travis Conover</td>\n",
       "      <td>2012-06-05 12:37:29</td>\n",
       "      <td>6452</td>\n",
       "      <td>82</td>\n",
       "      <td>4</td>\n",
       "      <td>36</td>\n",
       "      <td>...</td>\n",
       "      <td>0</td>\n",
       "      <td>0</td>\n",
       "      <td>0</td>\n",
       "      <td>0</td>\n",
       "      <td>0</td>\n",
       "      <td>0</td>\n",
       "      <td>0</td>\n",
       "      <td>0</td>\n",
       "      <td>0</td>\n",
       "      <td>True</td>\n",
       "    </tr>\n",
       "    <tr>\n",
       "      <th>6</th>\n",
       "      <td>--pQCGgGjE8</td>\n",
       "      <td>00:03:32</td>\n",
       "      <td>Kingdom Hearts- Behemoth (Expert)</td>\n",
       "      <td>UCDUi7yW7tJ7QWJZgK8sRLLQ</td>\n",
       "      <td>RoxasNova</td>\n",
       "      <td>2009-03-14 13:11:06</td>\n",
       "      <td>1037</td>\n",
       "      <td>11</td>\n",
       "      <td>0</td>\n",
       "      <td>4</td>\n",
       "      <td>...</td>\n",
       "      <td>0</td>\n",
       "      <td>0</td>\n",
       "      <td>0</td>\n",
       "      <td>0</td>\n",
       "      <td>0</td>\n",
       "      <td>0</td>\n",
       "      <td>0</td>\n",
       "      <td>0</td>\n",
       "      <td>0</td>\n",
       "      <td>True</td>\n",
       "    </tr>\n",
       "    <tr>\n",
       "      <th>14</th>\n",
       "      <td>--o719vqu6Q</td>\n",
       "      <td>00:03:50</td>\n",
       "      <td>WPIAL Finals 2006 Fox Chapel vs. Ambridge - En...</td>\n",
       "      <td>UC9fwbix0hNiFQ-nhU209UXw</td>\n",
       "      <td>pokeeffe</td>\n",
       "      <td>2006-10-25 16:21:55</td>\n",
       "      <td>1679</td>\n",
       "      <td>3</td>\n",
       "      <td>0</td>\n",
       "      <td>1</td>\n",
       "      <td>...</td>\n",
       "      <td>0</td>\n",
       "      <td>0</td>\n",
       "      <td>0</td>\n",
       "      <td>0</td>\n",
       "      <td>0</td>\n",
       "      <td>0</td>\n",
       "      <td>0</td>\n",
       "      <td>0</td>\n",
       "      <td>0</td>\n",
       "      <td>True</td>\n",
       "    </tr>\n",
       "    <tr>\n",
       "      <th>15</th>\n",
       "      <td>--sW2Fk-LmY</td>\n",
       "      <td>00:06:28</td>\n",
       "      <td>Обзор модов [10]: Jammy Furnityre Mod - Уютная...</td>\n",
       "      <td>UC5rEKljNZfKS14WhkZ9o_oA</td>\n",
       "      <td>frostbool</td>\n",
       "      <td>2012-08-28 03:30:06</td>\n",
       "      <td>23122</td>\n",
       "      <td>251</td>\n",
       "      <td>6</td>\n",
       "      <td>22</td>\n",
       "      <td>...</td>\n",
       "      <td>0</td>\n",
       "      <td>0</td>\n",
       "      <td>0</td>\n",
       "      <td>0</td>\n",
       "      <td>0</td>\n",
       "      <td>0</td>\n",
       "      <td>0</td>\n",
       "      <td>0</td>\n",
       "      <td>0</td>\n",
       "      <td>True</td>\n",
       "    </tr>\n",
       "  </tbody>\n",
       "</table>\n",
       "<p>5 rows × 31 columns</p>\n",
       "</div>"
      ],
      "text/plain": [
       "       video_id  duration                                              title  \\\n",
       "2   --7h1S4neDM  00:03:19        Pet Rescue Saga Level 539 2 Stars No Boosts   \n",
       "5   --Qgwg7mGZY  00:07:28                 GRFS Goblin Gun Set Up and Review!   \n",
       "6   --pQCGgGjE8  00:03:32                  Kingdom Hearts- Behemoth (Expert)   \n",
       "14  --o719vqu6Q  00:03:50  WPIAL Finals 2006 Fox Chapel vs. Ambridge - En...   \n",
       "15  --sW2Fk-LmY  00:06:28  Обзор модов [10]: Jammy Furnityre Mod - Уютная...   \n",
       "\n",
       "                  channel_id   channel_title        published_at  views  \\\n",
       "2   UCNWPDyaWf2eAHnofFLSnEMg      All Gamers 2014-04-29 15:44:44   2167   \n",
       "5   UCCNZDSGjG6xEoz2lv4FThMQ  Travis Conover 2012-06-05 12:37:29   6452   \n",
       "6   UCDUi7yW7tJ7QWJZgK8sRLLQ       RoxasNova 2009-03-14 13:11:06   1037   \n",
       "14  UC9fwbix0hNiFQ-nhU209UXw        pokeeffe 2006-10-25 16:21:55   1679   \n",
       "15  UC5rEKljNZfKS14WhkZ9o_oA       frostbool 2012-08-28 03:30:06  23122   \n",
       "\n",
       "    likes  dislikes  comments  ...    11  12  13  14  15  16  17  18  19  \\\n",
       "2       1         0         0  ...     0   0   0   0   0   0   0   0   0   \n",
       "5      82         4        36  ...     0   0   0   0   0   0   0   0   0   \n",
       "6      11         0         4  ...     0   0   0   0   0   0   0   0   0   \n",
       "14      3         0         1  ...     0   0   0   0   0   0   0   0   0   \n",
       "15    251         6        22  ...     0   0   0   0   0   0   0   0   0   \n",
       "\n",
       "    is_in  \n",
       "2    True  \n",
       "5    True  \n",
       "6    True  \n",
       "14   True  \n",
       "15   True  \n",
       "\n",
       "[5 rows x 31 columns]"
      ]
     },
     "execution_count": 97,
     "metadata": {},
     "output_type": "execute_result"
    }
   ],
   "source": [
    "sample_top.ix[sample_top[0] == 1, :].head()"
   ]
  },
  {
   "cell_type": "code",
   "execution_count": 96,
   "metadata": {
    "collapsed": true
   },
   "outputs": [],
   "source": [
    "durations = pd.to_timedelta(sample_top['duration'].apply(lambda s: s[2:]))\n",
    "sample_top['duration'] = durations"
   ]
  },
  {
   "cell_type": "code",
   "execution_count": 63,
   "metadata": {
    "collapsed": true
   },
   "outputs": [],
   "source": [
    "labels = pickle.load(open('./labels.pkl', 'rb'))"
   ]
  },
  {
   "cell_type": "code",
   "execution_count": 64,
   "metadata": {
    "collapsed": false
   },
   "outputs": [
    {
     "data": {
      "text/html": [
       "<div>\n",
       "<table border=\"1\" class=\"dataframe\">\n",
       "  <thead>\n",
       "    <tr style=\"text-align: right;\">\n",
       "      <th></th>\n",
       "      <th>label_id</th>\n",
       "      <th>label_name</th>\n",
       "      <th>count</th>\n",
       "    </tr>\n",
       "  </thead>\n",
       "  <tbody>\n",
       "    <tr>\n",
       "      <th>0</th>\n",
       "      <td>0</td>\n",
       "      <td>Games</td>\n",
       "      <td>859519</td>\n",
       "    </tr>\n",
       "    <tr>\n",
       "      <th>1</th>\n",
       "      <td>1</td>\n",
       "      <td>Vehicle</td>\n",
       "      <td>678257</td>\n",
       "    </tr>\n",
       "    <tr>\n",
       "      <th>2</th>\n",
       "      <td>2</td>\n",
       "      <td>Video game</td>\n",
       "      <td>518981</td>\n",
       "    </tr>\n",
       "    <tr>\n",
       "      <th>3</th>\n",
       "      <td>3</td>\n",
       "      <td>Concert</td>\n",
       "      <td>494707</td>\n",
       "    </tr>\n",
       "    <tr>\n",
       "      <th>4</th>\n",
       "      <td>4</td>\n",
       "      <td>Car</td>\n",
       "      <td>371391</td>\n",
       "    </tr>\n",
       "    <tr>\n",
       "      <th>5</th>\n",
       "      <td>5</td>\n",
       "      <td>Dance</td>\n",
       "      <td>303295</td>\n",
       "    </tr>\n",
       "    <tr>\n",
       "      <th>6</th>\n",
       "      <td>6</td>\n",
       "      <td>Animation</td>\n",
       "      <td>296624</td>\n",
       "    </tr>\n",
       "    <tr>\n",
       "      <th>7</th>\n",
       "      <td>7</td>\n",
       "      <td>Musician</td>\n",
       "      <td>295199</td>\n",
       "    </tr>\n",
       "    <tr>\n",
       "      <th>8</th>\n",
       "      <td>8</td>\n",
       "      <td>Football</td>\n",
       "      <td>217920</td>\n",
       "    </tr>\n",
       "    <tr>\n",
       "      <th>9</th>\n",
       "      <td>9</td>\n",
       "      <td>Music video</td>\n",
       "      <td>214887</td>\n",
       "    </tr>\n",
       "    <tr>\n",
       "      <th>10</th>\n",
       "      <td>10</td>\n",
       "      <td>Animal</td>\n",
       "      <td>202073</td>\n",
       "    </tr>\n",
       "    <tr>\n",
       "      <th>11</th>\n",
       "      <td>11</td>\n",
       "      <td>Motorsport</td>\n",
       "      <td>196804</td>\n",
       "    </tr>\n",
       "    <tr>\n",
       "      <th>12</th>\n",
       "      <td>12</td>\n",
       "      <td>Food</td>\n",
       "      <td>195310</td>\n",
       "    </tr>\n",
       "    <tr>\n",
       "      <th>13</th>\n",
       "      <td>13</td>\n",
       "      <td>Musical ensemble</td>\n",
       "      <td>169704</td>\n",
       "    </tr>\n",
       "    <tr>\n",
       "      <th>14</th>\n",
       "      <td>14</td>\n",
       "      <td>Guitar</td>\n",
       "      <td>162048</td>\n",
       "    </tr>\n",
       "    <tr>\n",
       "      <th>15</th>\n",
       "      <td>15</td>\n",
       "      <td>Cartoon</td>\n",
       "      <td>161089</td>\n",
       "    </tr>\n",
       "    <tr>\n",
       "      <th>16</th>\n",
       "      <td>16</td>\n",
       "      <td>Performance art</td>\n",
       "      <td>159726</td>\n",
       "    </tr>\n",
       "    <tr>\n",
       "      <th>17</th>\n",
       "      <td>17</td>\n",
       "      <td>Racing</td>\n",
       "      <td>119952</td>\n",
       "    </tr>\n",
       "    <tr>\n",
       "      <th>18</th>\n",
       "      <td>18</td>\n",
       "      <td>Outdoor recreation</td>\n",
       "      <td>109582</td>\n",
       "    </tr>\n",
       "    <tr>\n",
       "      <th>19</th>\n",
       "      <td>19</td>\n",
       "      <td>PC game</td>\n",
       "      <td>106519</td>\n",
       "    </tr>\n",
       "  </tbody>\n",
       "</table>\n",
       "</div>"
      ],
      "text/plain": [
       "    label_id          label_name   count\n",
       "0          0               Games  859519\n",
       "1          1             Vehicle  678257\n",
       "2          2          Video game  518981\n",
       "3          3             Concert  494707\n",
       "4          4                 Car  371391\n",
       "5          5               Dance  303295\n",
       "6          6           Animation  296624\n",
       "7          7            Musician  295199\n",
       "8          8            Football  217920\n",
       "9          9         Music video  214887\n",
       "10        10              Animal  202073\n",
       "11        11          Motorsport  196804\n",
       "12        12                Food  195310\n",
       "13        13    Musical ensemble  169704\n",
       "14        14              Guitar  162048\n",
       "15        15             Cartoon  161089\n",
       "16        16     Performance art  159726\n",
       "17        17              Racing  119952\n",
       "18        18  Outdoor recreation  109582\n",
       "19        19             PC game  106519"
      ]
     },
     "execution_count": 64,
     "metadata": {},
     "output_type": "execute_result"
    }
   ],
   "source": [
    "labels.head(20)"
   ]
  },
  {
   "cell_type": "code",
   "execution_count": 99,
   "metadata": {
    "collapsed": false,
    "scrolled": false
   },
   "outputs": [],
   "source": [
    "rows = []\n",
    "for n in range(20):\n",
    "    selected = sample_top.ix[sample_top[n] == 1, :]\n",
    "    label_name = labels['label_name'][n]\n",
    "    rows += [[label_name, \n",
    "              np.median(selected['views']),\n",
    "              np.median(selected.query('likes >= 0')['likes']),\n",
    "              np.median(selected.query('dislikes >= 0')['dislikes']), \n",
    "              np.median(selected.query('comments >= 0')['comments']), \n",
    "              np.median(selected['duration'] / np.timedelta64(1, 's'))]]\n",
    "rows = pd.DataFrame(rows)\n",
    "rows.columns = ['tag', 'views', 'likes', 'dislikes', 'comments', 'seconds']"
   ]
  },
  {
   "cell_type": "code",
   "execution_count": 100,
   "metadata": {
    "collapsed": false
   },
   "outputs": [
    {
     "data": {
      "text/html": [
       "<div>\n",
       "<table border=\"1\" class=\"dataframe\">\n",
       "  <thead>\n",
       "    <tr style=\"text-align: right;\">\n",
       "      <th></th>\n",
       "      <th>tag</th>\n",
       "      <th>views</th>\n",
       "      <th>likes</th>\n",
       "      <th>dislikes</th>\n",
       "      <th>comments</th>\n",
       "      <th>seconds</th>\n",
       "    </tr>\n",
       "  </thead>\n",
       "  <tbody>\n",
       "    <tr>\n",
       "      <th>0</th>\n",
       "      <td>Games</td>\n",
       "      <td>4462.0</td>\n",
       "      <td>20.0</td>\n",
       "      <td>2.0</td>\n",
       "      <td>8.0</td>\n",
       "      <td>257.0</td>\n",
       "    </tr>\n",
       "    <tr>\n",
       "      <th>1</th>\n",
       "      <td>Vehicle</td>\n",
       "      <td>4373.0</td>\n",
       "      <td>10.0</td>\n",
       "      <td>1.0</td>\n",
       "      <td>3.0</td>\n",
       "      <td>226.0</td>\n",
       "    </tr>\n",
       "    <tr>\n",
       "      <th>2</th>\n",
       "      <td>Video game</td>\n",
       "      <td>5076.0</td>\n",
       "      <td>31.0</td>\n",
       "      <td>3.0</td>\n",
       "      <td>13.0</td>\n",
       "      <td>270.0</td>\n",
       "    </tr>\n",
       "    <tr>\n",
       "      <th>3</th>\n",
       "      <td>Concert</td>\n",
       "      <td>3790.0</td>\n",
       "      <td>14.0</td>\n",
       "      <td>0.0</td>\n",
       "      <td>2.0</td>\n",
       "      <td>247.0</td>\n",
       "    </tr>\n",
       "    <tr>\n",
       "      <th>4</th>\n",
       "      <td>Car</td>\n",
       "      <td>4882.0</td>\n",
       "      <td>11.0</td>\n",
       "      <td>1.0</td>\n",
       "      <td>3.0</td>\n",
       "      <td>224.0</td>\n",
       "    </tr>\n",
       "    <tr>\n",
       "      <th>5</th>\n",
       "      <td>Dance</td>\n",
       "      <td>3162.5</td>\n",
       "      <td>8.0</td>\n",
       "      <td>1.0</td>\n",
       "      <td>1.0</td>\n",
       "      <td>227.0</td>\n",
       "    </tr>\n",
       "    <tr>\n",
       "      <th>6</th>\n",
       "      <td>Animation</td>\n",
       "      <td>6886.0</td>\n",
       "      <td>29.0</td>\n",
       "      <td>2.0</td>\n",
       "      <td>6.0</td>\n",
       "      <td>225.0</td>\n",
       "    </tr>\n",
       "    <tr>\n",
       "      <th>7</th>\n",
       "      <td>Musician</td>\n",
       "      <td>3611.0</td>\n",
       "      <td>15.0</td>\n",
       "      <td>1.0</td>\n",
       "      <td>2.0</td>\n",
       "      <td>249.0</td>\n",
       "    </tr>\n",
       "    <tr>\n",
       "      <th>8</th>\n",
       "      <td>Football</td>\n",
       "      <td>3871.0</td>\n",
       "      <td>12.0</td>\n",
       "      <td>1.0</td>\n",
       "      <td>2.0</td>\n",
       "      <td>227.0</td>\n",
       "    </tr>\n",
       "    <tr>\n",
       "      <th>9</th>\n",
       "      <td>Music video</td>\n",
       "      <td>7460.0</td>\n",
       "      <td>54.0</td>\n",
       "      <td>3.0</td>\n",
       "      <td>7.0</td>\n",
       "      <td>228.0</td>\n",
       "    </tr>\n",
       "    <tr>\n",
       "      <th>10</th>\n",
       "      <td>Animal</td>\n",
       "      <td>4524.0</td>\n",
       "      <td>11.0</td>\n",
       "      <td>1.0</td>\n",
       "      <td>2.0</td>\n",
       "      <td>216.0</td>\n",
       "    </tr>\n",
       "    <tr>\n",
       "      <th>11</th>\n",
       "      <td>Motorsport</td>\n",
       "      <td>4063.0</td>\n",
       "      <td>9.0</td>\n",
       "      <td>1.0</td>\n",
       "      <td>2.0</td>\n",
       "      <td>226.0</td>\n",
       "    </tr>\n",
       "    <tr>\n",
       "      <th>12</th>\n",
       "      <td>Food</td>\n",
       "      <td>6172.0</td>\n",
       "      <td>21.0</td>\n",
       "      <td>2.0</td>\n",
       "      <td>4.0</td>\n",
       "      <td>238.0</td>\n",
       "    </tr>\n",
       "    <tr>\n",
       "      <th>13</th>\n",
       "      <td>Musical ensemble</td>\n",
       "      <td>3122.0</td>\n",
       "      <td>10.0</td>\n",
       "      <td>0.0</td>\n",
       "      <td>1.0</td>\n",
       "      <td>249.0</td>\n",
       "    </tr>\n",
       "    <tr>\n",
       "      <th>14</th>\n",
       "      <td>Guitar</td>\n",
       "      <td>4420.0</td>\n",
       "      <td>22.0</td>\n",
       "      <td>1.0</td>\n",
       "      <td>5.0</td>\n",
       "      <td>236.0</td>\n",
       "    </tr>\n",
       "    <tr>\n",
       "      <th>15</th>\n",
       "      <td>Cartoon</td>\n",
       "      <td>9088.0</td>\n",
       "      <td>35.0</td>\n",
       "      <td>3.0</td>\n",
       "      <td>6.0</td>\n",
       "      <td>223.0</td>\n",
       "    </tr>\n",
       "    <tr>\n",
       "      <th>16</th>\n",
       "      <td>Performance art</td>\n",
       "      <td>3524.0</td>\n",
       "      <td>11.0</td>\n",
       "      <td>0.0</td>\n",
       "      <td>1.0</td>\n",
       "      <td>242.0</td>\n",
       "    </tr>\n",
       "    <tr>\n",
       "      <th>17</th>\n",
       "      <td>Racing</td>\n",
       "      <td>3489.0</td>\n",
       "      <td>8.0</td>\n",
       "      <td>1.0</td>\n",
       "      <td>2.0</td>\n",
       "      <td>236.0</td>\n",
       "    </tr>\n",
       "    <tr>\n",
       "      <th>18</th>\n",
       "      <td>Outdoor recreation</td>\n",
       "      <td>3513.0</td>\n",
       "      <td>10.0</td>\n",
       "      <td>1.0</td>\n",
       "      <td>2.0</td>\n",
       "      <td>228.0</td>\n",
       "    </tr>\n",
       "    <tr>\n",
       "      <th>19</th>\n",
       "      <td>PC game</td>\n",
       "      <td>4410.0</td>\n",
       "      <td>40.0</td>\n",
       "      <td>4.0</td>\n",
       "      <td>15.0</td>\n",
       "      <td>303.0</td>\n",
       "    </tr>\n",
       "  </tbody>\n",
       "</table>\n",
       "</div>"
      ],
      "text/plain": [
       "                   tag   views  likes  dislikes  comments  seconds\n",
       "0                Games  4462.0   20.0       2.0       8.0    257.0\n",
       "1              Vehicle  4373.0   10.0       1.0       3.0    226.0\n",
       "2           Video game  5076.0   31.0       3.0      13.0    270.0\n",
       "3              Concert  3790.0   14.0       0.0       2.0    247.0\n",
       "4                  Car  4882.0   11.0       1.0       3.0    224.0\n",
       "5                Dance  3162.5    8.0       1.0       1.0    227.0\n",
       "6            Animation  6886.0   29.0       2.0       6.0    225.0\n",
       "7             Musician  3611.0   15.0       1.0       2.0    249.0\n",
       "8             Football  3871.0   12.0       1.0       2.0    227.0\n",
       "9          Music video  7460.0   54.0       3.0       7.0    228.0\n",
       "10              Animal  4524.0   11.0       1.0       2.0    216.0\n",
       "11          Motorsport  4063.0    9.0       1.0       2.0    226.0\n",
       "12                Food  6172.0   21.0       2.0       4.0    238.0\n",
       "13    Musical ensemble  3122.0   10.0       0.0       1.0    249.0\n",
       "14              Guitar  4420.0   22.0       1.0       5.0    236.0\n",
       "15             Cartoon  9088.0   35.0       3.0       6.0    223.0\n",
       "16     Performance art  3524.0   11.0       0.0       1.0    242.0\n",
       "17              Racing  3489.0    8.0       1.0       2.0    236.0\n",
       "18  Outdoor recreation  3513.0   10.0       1.0       2.0    228.0\n",
       "19             PC game  4410.0   40.0       4.0      15.0    303.0"
      ]
     },
     "execution_count": 100,
     "metadata": {},
     "output_type": "execute_result"
    }
   ],
   "source": [
    "rows"
   ]
  },
  {
   "cell_type": "code",
   "execution_count": 87,
   "metadata": {
    "collapsed": false
   },
   "outputs": [
    {
     "data": {
      "text/plain": [
       "<matplotlib.axes._subplots.AxesSubplot at 0x7f943b8f5438>"
      ]
     },
     "execution_count": 87,
     "metadata": {},
     "output_type": "execute_result"
    },
    {
     "data": {
      "image/png": "[encoded data removed]",
      "text/plain": [
       "<matplotlib.figure.Figure at 0x7f940c9271d0>"
      ]
     },
     "metadata": {},
     "output_type": "display_data"
    }
   ],
   "source": [
    "rows.plot.bar(x='tag', y='views', figsize=(10, 10))"
   ]
  },
  {
   "cell_type": "code",
   "execution_count": 92,
   "metadata": {
    "collapsed": false
   },
   "outputs": [
    {
     "data": {
      "text/plain": [
       "<matplotlib.legend.Legend at 0x7f940c3677b8>"
      ]
     },
     "execution_count": 92,
     "metadata": {},
     "output_type": "execute_result"
    },
    {
     "data": {
      "image/png": "[encoded data removed]",
      "text/plain": [
       "<matplotlib.figure.Figure at 0x7f940c4b9cc0>"
      ]
     },
     "metadata": {},
     "output_type": "display_data"
    }
   ],
   "source": [
    "plt.figure(figsize=(10, 10))\n",
    "ind = np.arange(20)\n",
    "width = 0.35\n",
    "p1 = plt.bar(ind, rows['dislikes'], width, color='#d62728')\n",
    "p2 = plt.bar(ind, rows['likes'], width,\n",
    "             bottom=rows['dislikes'])\n",
    "\n",
    "plt.ylabel('Median likes/dislikes')\n",
    "plt.title('Median likes/dislikes in top 20 tags')\n",
    "plt.xticks(ind, rows['tag'], rotation='vertical')\n",
    "# plt.yticks(np.arange(0, 81, 10))\n",
    "plt.legend((p1[0], p2[0]), ('Dislikes', 'Likes'))"
   ]
  },
  {
   "cell_type": "code",
   "execution_count": 93,
   "metadata": {
    "collapsed": false
   },
   "outputs": [
    {
     "data": {
      "text/plain": [
       "<matplotlib.legend.Legend at 0x7f940c656908>"
      ]
     },
     "execution_count": 93,
     "metadata": {},
     "output_type": "execute_result"
    },
    {
     "data": {
      "image/png": "[encoded data removed]",
      "text/plain": [
       "<matplotlib.figure.Figure at 0x7f940c306ef0>"
      ]
     },
     "metadata": {},
     "output_type": "display_data"
    }
   ],
   "source": [
    "plt.figure(figsize=(10, 10))\n",
    "ind = np.arange(20)\n",
    "width = 0.35\n",
    "sums = rows['likes'] + rows['dislikes']\n",
    "p1 = plt.bar(ind, rows['dislikes'] / sums, width, color='#d62728')\n",
    "p2 = plt.bar(ind, rows['likes'] /sums, width,\n",
    "             bottom=rows['dislikes'] / sums)\n",
    "\n",
    "plt.ylabel('Median likes/dislikes')\n",
    "plt.title('Median likes/dislikes in top 20 tags')\n",
    "plt.xticks(ind, rows['tag'], rotation='vertical')\n",
    "# plt.yticks(np.arange(0, 81, 10))\n",
    "plt.legend((p1[0], p2[0]), ('Dislikes', 'Likes'))"
   ]
  },
  {
   "cell_type": "code",
   "execution_count": 94,
   "metadata": {
    "collapsed": false
   },
   "outputs": [
    {
     "data": {
      "text/plain": [
       "<matplotlib.axes._subplots.AxesSubplot at 0x7f940c80ca20>"
      ]
     },
     "execution_count": 94,
     "metadata": {},
     "output_type": "execute_result"
    },
    {
     "data": {
      "image/png": "[encoded data removed]",
      "text/plain": [
       "<matplotlib.figure.Figure at 0x7f940c4978d0>"
      ]
     },
     "metadata": {},
     "output_type": "display_data"
    }
   ],
   "source": [
    "rows.plot.bar(x='tag', y='comments', figsize=(10, 10))"
   ]
  },
  {
   "cell_type": "code",
   "execution_count": 101,
   "metadata": {
    "collapsed": false
   },
   "outputs": [
    {
     "data": {
      "text/plain": [
       "<matplotlib.axes._subplots.AxesSubplot at 0x7f940c1f6898>"
      ]
     },
     "execution_count": 101,
     "metadata": {},
     "output_type": "execute_result"
    },
    {
     "data": {
      "image/png": "[encoded data removed]",
      "text/plain": [
       "<matplotlib.figure.Figure at 0x7f940c24df28>"
      ]
     },
     "metadata": {},
     "output_type": "display_data"
    }
   ],
   "source": [
    "rows.plot.bar(x='tag', y='seconds', figsize=(10, 10))"
   ]
  },
  {
   "cell_type": "code",
   "execution_count": 104,
   "metadata": {
    "collapsed": true
   },
   "outputs": [],
   "source": [
    "rows = []\n",
    "for n in range(20):\n",
    "    selected = sample_top.ix[sample_top[n] == 1, :]\n",
    "    label_name = labels['label_name'][n]\n",
    "    rows += [[label_name] + [np.log(selected['views'].quantile(q)) for q in [0, 0.25, 0.5, 0.75, 1]]]\n",
    "rows = pd.DataFrame(rows)\n",
    "rows.columns = ['tag', '0', '0.25', '0.5', '0.75', '1']"
   ]
  },
  {
   "cell_type": "code",
   "execution_count": 105,
   "metadata": {
    "collapsed": false
   },
   "outputs": [
    {
     "data": {
      "text/html": [
       "<div>\n",
       "<table border=\"1\" class=\"dataframe\">\n",
       "  <thead>\n",
       "    <tr style=\"text-align: right;\">\n",
       "      <th></th>\n",
       "      <th>tag</th>\n",
       "      <th>0</th>\n",
       "      <th>0.25</th>\n",
       "      <th>0.5</th>\n",
       "      <th>0.75</th>\n",
       "      <th>1</th>\n",
       "    </tr>\n",
       "  </thead>\n",
       "  <tbody>\n",
       "    <tr>\n",
       "      <th>0</th>\n",
       "      <td>Games</td>\n",
       "      <td>6.908755</td>\n",
       "      <td>7.628031</td>\n",
       "      <td>8.403352</td>\n",
       "      <td>9.550876</td>\n",
       "      <td>18.192091</td>\n",
       "    </tr>\n",
       "    <tr>\n",
       "      <th>1</th>\n",
       "      <td>Vehicle</td>\n",
       "      <td>6.908755</td>\n",
       "      <td>7.659171</td>\n",
       "      <td>8.383205</td>\n",
       "      <td>9.466841</td>\n",
       "      <td>18.826272</td>\n",
       "    </tr>\n",
       "    <tr>\n",
       "      <th>2</th>\n",
       "      <td>Video game</td>\n",
       "      <td>6.908755</td>\n",
       "      <td>7.700748</td>\n",
       "      <td>8.532279</td>\n",
       "      <td>9.725019</td>\n",
       "      <td>18.220145</td>\n",
       "    </tr>\n",
       "    <tr>\n",
       "      <th>3</th>\n",
       "      <td>Concert</td>\n",
       "      <td>6.908755</td>\n",
       "      <td>7.558517</td>\n",
       "      <td>8.240121</td>\n",
       "      <td>9.321211</td>\n",
       "      <td>17.681293</td>\n",
       "    </tr>\n",
       "    <tr>\n",
       "      <th>4</th>\n",
       "      <td>Car</td>\n",
       "      <td>6.908755</td>\n",
       "      <td>7.700295</td>\n",
       "      <td>8.493310</td>\n",
       "      <td>9.625690</td>\n",
       "      <td>18.826272</td>\n",
       "    </tr>\n",
       "    <tr>\n",
       "      <th>5</th>\n",
       "      <td>Dance</td>\n",
       "      <td>6.908755</td>\n",
       "      <td>7.484930</td>\n",
       "      <td>8.059118</td>\n",
       "      <td>9.021900</td>\n",
       "      <td>17.083772</td>\n",
       "    </tr>\n",
       "    <tr>\n",
       "      <th>6</th>\n",
       "      <td>Animation</td>\n",
       "      <td>6.914731</td>\n",
       "      <td>7.891705</td>\n",
       "      <td>8.837246</td>\n",
       "      <td>10.149928</td>\n",
       "      <td>18.366706</td>\n",
       "    </tr>\n",
       "    <tr>\n",
       "      <th>7</th>\n",
       "      <td>Musician</td>\n",
       "      <td>6.909753</td>\n",
       "      <td>7.553418</td>\n",
       "      <td>8.191740</td>\n",
       "      <td>9.218383</td>\n",
       "      <td>18.517148</td>\n",
       "    </tr>\n",
       "    <tr>\n",
       "      <th>8</th>\n",
       "      <td>Football</td>\n",
       "      <td>6.909753</td>\n",
       "      <td>7.545390</td>\n",
       "      <td>8.261268</td>\n",
       "      <td>9.330521</td>\n",
       "      <td>16.739503</td>\n",
       "    </tr>\n",
       "    <tr>\n",
       "      <th>9</th>\n",
       "      <td>Music video</td>\n",
       "      <td>6.911747</td>\n",
       "      <td>7.937732</td>\n",
       "      <td>8.917311</td>\n",
       "      <td>10.460199</td>\n",
       "      <td>19.485193</td>\n",
       "    </tr>\n",
       "    <tr>\n",
       "      <th>10</th>\n",
       "      <td>Animal</td>\n",
       "      <td>6.912743</td>\n",
       "      <td>7.659761</td>\n",
       "      <td>8.417152</td>\n",
       "      <td>9.570756</td>\n",
       "      <td>18.366706</td>\n",
       "    </tr>\n",
       "    <tr>\n",
       "      <th>11</th>\n",
       "      <td>Motorsport</td>\n",
       "      <td>6.912743</td>\n",
       "      <td>7.592366</td>\n",
       "      <td>8.309677</td>\n",
       "      <td>9.402282</td>\n",
       "      <td>16.094983</td>\n",
       "    </tr>\n",
       "    <tr>\n",
       "      <th>12</th>\n",
       "      <td>Food</td>\n",
       "      <td>6.910751</td>\n",
       "      <td>7.863459</td>\n",
       "      <td>8.727778</td>\n",
       "      <td>9.940542</td>\n",
       "      <td>17.008564</td>\n",
       "    </tr>\n",
       "    <tr>\n",
       "      <th>13</th>\n",
       "      <td>Musical ensemble</td>\n",
       "      <td>6.915723</td>\n",
       "      <td>7.495542</td>\n",
       "      <td>8.046229</td>\n",
       "      <td>8.939450</td>\n",
       "      <td>17.445668</td>\n",
       "    </tr>\n",
       "    <tr>\n",
       "      <th>14</th>\n",
       "      <td>Guitar</td>\n",
       "      <td>6.911747</td>\n",
       "      <td>7.647786</td>\n",
       "      <td>8.393895</td>\n",
       "      <td>9.523581</td>\n",
       "      <td>18.517148</td>\n",
       "    </tr>\n",
       "    <tr>\n",
       "      <th>15</th>\n",
       "      <td>Cartoon</td>\n",
       "      <td>6.917706</td>\n",
       "      <td>8.045909</td>\n",
       "      <td>9.114710</td>\n",
       "      <td>10.555709</td>\n",
       "      <td>18.366706</td>\n",
       "    </tr>\n",
       "    <tr>\n",
       "      <th>16</th>\n",
       "      <td>Performance art</td>\n",
       "      <td>6.910751</td>\n",
       "      <td>7.525640</td>\n",
       "      <td>8.167352</td>\n",
       "      <td>9.151969</td>\n",
       "      <td>16.593399</td>\n",
       "    </tr>\n",
       "    <tr>\n",
       "      <th>17</th>\n",
       "      <td>Racing</td>\n",
       "      <td>6.912743</td>\n",
       "      <td>7.515889</td>\n",
       "      <td>8.157370</td>\n",
       "      <td>9.188708</td>\n",
       "      <td>16.291643</td>\n",
       "    </tr>\n",
       "    <tr>\n",
       "      <th>18</th>\n",
       "      <td>Outdoor recreation</td>\n",
       "      <td>6.912743</td>\n",
       "      <td>7.546446</td>\n",
       "      <td>8.164226</td>\n",
       "      <td>9.174506</td>\n",
       "      <td>15.692546</td>\n",
       "    </tr>\n",
       "    <tr>\n",
       "      <th>19</th>\n",
       "      <td>PC game</td>\n",
       "      <td>6.909753</td>\n",
       "      <td>7.592870</td>\n",
       "      <td>8.391630</td>\n",
       "      <td>9.638675</td>\n",
       "      <td>16.016295</td>\n",
       "    </tr>\n",
       "  </tbody>\n",
       "</table>\n",
       "</div>"
      ],
      "text/plain": [
       "                   tag         0      0.25       0.5       0.75          1\n",
       "0                Games  6.908755  7.628031  8.403352   9.550876  18.192091\n",
       "1              Vehicle  6.908755  7.659171  8.383205   9.466841  18.826272\n",
       "2           Video game  6.908755  7.700748  8.532279   9.725019  18.220145\n",
       "3              Concert  6.908755  7.558517  8.240121   9.321211  17.681293\n",
       "4                  Car  6.908755  7.700295  8.493310   9.625690  18.826272\n",
       "5                Dance  6.908755  7.484930  8.059118   9.021900  17.083772\n",
       "6            Animation  6.914731  7.891705  8.837246  10.149928  18.366706\n",
       "7             Musician  6.909753  7.553418  8.191740   9.218383  18.517148\n",
       "8             Football  6.909753  7.545390  8.261268   9.330521  16.739503\n",
       "9          Music video  6.911747  7.937732  8.917311  10.460199  19.485193\n",
       "10              Animal  6.912743  7.659761  8.417152   9.570756  18.366706\n",
       "11          Motorsport  6.912743  7.592366  8.309677   9.402282  16.094983\n",
       "12                Food  6.910751  7.863459  8.727778   9.940542  17.008564\n",
       "13    Musical ensemble  6.915723  7.495542  8.046229   8.939450  17.445668\n",
       "14              Guitar  6.911747  7.647786  8.393895   9.523581  18.517148\n",
       "15             Cartoon  6.917706  8.045909  9.114710  10.555709  18.366706\n",
       "16     Performance art  6.910751  7.525640  8.167352   9.151969  16.593399\n",
       "17              Racing  6.912743  7.515889  8.157370   9.188708  16.291643\n",
       "18  Outdoor recreation  6.912743  7.546446  8.164226   9.174506  15.692546\n",
       "19             PC game  6.909753  7.592870  8.391630   9.638675  16.016295"
      ]
     },
     "execution_count": 105,
     "metadata": {},
     "output_type": "execute_result"
    }
   ],
   "source": [
    "rows"
   ]
  },
  {
   "cell_type": "code",
   "execution_count": 107,
   "metadata": {
    "collapsed": false
   },
   "outputs": [
    {
     "data": {
      "text/plain": [
       "([<matplotlib.axis.XTick at 0x7f940af99048>,\n",
       "  <matplotlib.axis.XTick at 0x7f940af2b748>,\n",
       "  <matplotlib.axis.XTick at 0x7f940aefad68>,\n",
       "  <matplotlib.axis.XTick at 0x7f940ad13b38>,\n",
       "  <matplotlib.axis.XTick at 0x7f940ad16550>,\n",
       "  <matplotlib.axis.XTick at 0x7f940ad16f28>,\n",
       "  <matplotlib.axis.XTick at 0x7f940ad1c940>,\n",
       "  <matplotlib.axis.XTick at 0x7f940ad22358>,\n",
       "  <matplotlib.axis.XTick at 0x7f940ad22d30>,\n",
       "  <matplotlib.axis.XTick at 0x7f940ad25748>,\n",
       "  <matplotlib.axis.XTick at 0x7f940ad29160>,\n",
       "  <matplotlib.axis.XTick at 0x7f940ad29b38>,\n",
       "  <matplotlib.axis.XTick at 0x7f940ad30550>,\n",
       "  <matplotlib.axis.XTick at 0x7f940ad30f28>,\n",
       "  <matplotlib.axis.XTick at 0x7f940ad32940>,\n",
       "  <matplotlib.axis.XTick at 0x7f940ad37358>,\n",
       "  <matplotlib.axis.XTick at 0x7f940ad37d30>,\n",
       "  <matplotlib.axis.XTick at 0x7f940acbd748>,\n",
       "  <matplotlib.axis.XTick at 0x7f940acc1160>,\n",
       "  <matplotlib.axis.XTick at 0x7f940acc1b38>],\n",
       " <a list of 20 Text xticklabel objects>)"
      ]
     },
     "execution_count": 107,
     "metadata": {},
     "output_type": "execute_result"
    },
    {
     "data": {
      "image/png": "[encoded data removed]",
      "text/plain": [
       "<matplotlib.figure.Figure at 0x7f940ae901d0>"
      ]
     },
     "metadata": {},
     "output_type": "display_data"
    }
   ],
   "source": [
    "plt.figure(figsize=(10, 10))\n",
    "ind = np.arange(20)\n",
    "width = 0.35\n",
    "# sums = rows['likes'] + rows['dislikes']\n",
    "# p1 = plt.bar(ind, rows['dislikes'] / sums, width, color='#d62728')\n",
    "# p2 = plt.bar(ind, rows['likes'] /sums, width,\n",
    "#              bottom=rows['dislikes'] / sums)\n",
    "quantiles = ['0', '0.25', '0.5', '0.75', '1']\n",
    "for i in range(5):\n",
    "    p = plt.bar(ind, rows[quantiles[4 - i]], width)\n",
    "\n",
    "plt.ylabel('log(View count quantiles)')\n",
    "plt.title('Log of view count quantiles in top 20 tags')\n",
    "plt.xticks(ind, rows['tag'], rotation='vertical')"
   ]
  },
  {
   "cell_type": "code",
   "execution_count": null,
   "metadata": {
    "collapsed": true
   },
   "outputs": [],
   "source": []
  }
 ],
 "metadata": {
  "anaconda-cloud": {},
  "kernelspec": {
   "display_name": "Python [Root]",
   "language": "python",
   "name": "Python [Root]"
  },
  "language_info": {
   "codemirror_mode": {
    "name": "ipython",
    "version": 3
   },
   "file_extension": ".py",
   "mimetype": "text/x-python",
   "name": "python",
   "nbconvert_exporter": "python",
   "pygments_lexer": "ipython3",
   "version": "3.5.2"
  }
 },
 "nbformat": 4,
 "nbformat_minor": 0
}

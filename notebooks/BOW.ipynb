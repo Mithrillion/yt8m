{
 "cells": [
  {
   "cell_type": "code",
   "execution_count": 1,
   "metadata": {
    "collapsed": true
   },
   "outputs": [],
   "source": [
    "import numpy as np\n",
    "import pandas as pd\n",
    "import matplotlib.pyplot as plt\n",
    "%matplotlib inline\n",
    "import pickle\n",
    "import feather\n",
    "import nltk"
   ]
  },
  {
   "cell_type": "code",
   "execution_count": 2,
   "metadata": {
    "collapsed": true
   },
   "outputs": [],
   "source": [
    "dat = pickle.load(open(\"./grouped_sample.pkl\", 'rb'))"
   ]
  },
  {
   "cell_type": "code",
   "execution_count": 3,
   "metadata": {
    "collapsed": false
   },
   "outputs": [
    {
     "data": {
      "text/plain": [
       "(681819, 22)"
      ]
     },
     "execution_count": 3,
     "metadata": {},
     "output_type": "execute_result"
    }
   ],
   "source": [
    "dat.shape"
   ]
  },
  {
   "cell_type": "code",
   "execution_count": 4,
   "metadata": {
    "collapsed": false
   },
   "outputs": [
    {
     "data": {
      "text/html": [
       "<div>\n",
       "<table border=\"1\" class=\"dataframe\">\n",
       "  <thead>\n",
       "    <tr style=\"text-align: right;\">\n",
       "      <th></th>\n",
       "      <th>video_id</th>\n",
       "      <th>duration</th>\n",
       "      <th>title</th>\n",
       "      <th>channel_id</th>\n",
       "      <th>channel_title</th>\n",
       "      <th>published_at</th>\n",
       "      <th>views</th>\n",
       "      <th>likes</th>\n",
       "      <th>dislikes</th>\n",
       "      <th>comments</th>\n",
       "      <th>...</th>\n",
       "      <th>1</th>\n",
       "      <th>2</th>\n",
       "      <th>3</th>\n",
       "      <th>4</th>\n",
       "      <th>5</th>\n",
       "      <th>6</th>\n",
       "      <th>7</th>\n",
       "      <th>8</th>\n",
       "      <th>9</th>\n",
       "      <th>10</th>\n",
       "    </tr>\n",
       "  </thead>\n",
       "  <tbody>\n",
       "    <tr>\n",
       "      <th>0</th>\n",
       "      <td>--DwgB78t-c</td>\n",
       "      <td>00:02:36</td>\n",
       "      <td>Fruto Dulce - Geraldine Rojas &amp; Ezequiel Paludi 3</td>\n",
       "      <td>UCdzU3DSGzyWzN2118yd9X9g</td>\n",
       "      <td>Abdullah AYDIN</td>\n",
       "      <td>2012-01-19 18:20:02</td>\n",
       "      <td>1671</td>\n",
       "      <td>10</td>\n",
       "      <td>1</td>\n",
       "      <td>0</td>\n",
       "      <td>...</td>\n",
       "      <td>0</td>\n",
       "      <td>1</td>\n",
       "      <td>0</td>\n",
       "      <td>0</td>\n",
       "      <td>0</td>\n",
       "      <td>0</td>\n",
       "      <td>0</td>\n",
       "      <td>0</td>\n",
       "      <td>0</td>\n",
       "      <td>0</td>\n",
       "    </tr>\n",
       "    <tr>\n",
       "      <th>1</th>\n",
       "      <td>--NZRkXBV7k</td>\n",
       "      <td>00:04:53</td>\n",
       "      <td>Carlos Santana presents Cindy Blackman in Mexi...</td>\n",
       "      <td>UC0UnhAG47DRyVZGVcbhAXhQ</td>\n",
       "      <td>Saul TP</td>\n",
       "      <td>2015-03-30 04:04:40</td>\n",
       "      <td>9994</td>\n",
       "      <td>41</td>\n",
       "      <td>3</td>\n",
       "      <td>2</td>\n",
       "      <td>...</td>\n",
       "      <td>0</td>\n",
       "      <td>1</td>\n",
       "      <td>0</td>\n",
       "      <td>0</td>\n",
       "      <td>0</td>\n",
       "      <td>0</td>\n",
       "      <td>0</td>\n",
       "      <td>0</td>\n",
       "      <td>0</td>\n",
       "      <td>0</td>\n",
       "    </tr>\n",
       "    <tr>\n",
       "      <th>2</th>\n",
       "      <td>--hoQ2sGG4M</td>\n",
       "      <td>00:04:35</td>\n",
       "      <td>Taoist monk Tian Xin Shan in Brazil,Wudang San...</td>\n",
       "      <td>UCXjtAvK5P3wXBGh0vbGylzg</td>\n",
       "      <td>TheTVtaoista</td>\n",
       "      <td>2009-08-07 06:36:33</td>\n",
       "      <td>3407</td>\n",
       "      <td>8</td>\n",
       "      <td>1</td>\n",
       "      <td>2</td>\n",
       "      <td>...</td>\n",
       "      <td>0</td>\n",
       "      <td>0</td>\n",
       "      <td>0</td>\n",
       "      <td>0</td>\n",
       "      <td>0</td>\n",
       "      <td>0</td>\n",
       "      <td>0</td>\n",
       "      <td>0</td>\n",
       "      <td>0</td>\n",
       "      <td>0</td>\n",
       "    </tr>\n",
       "    <tr>\n",
       "      <th>3</th>\n",
       "      <td>--sBoaqBlzA</td>\n",
       "      <td>00:08:19</td>\n",
       "      <td>MAKEUP FOR GUYS:  Actors, TV Hosts, On Camera ...</td>\n",
       "      <td>UCeKHMeUlcLNPLCLUfZUQI2w</td>\n",
       "      <td>Tiffany Hendra</td>\n",
       "      <td>2011-08-04 00:47:49</td>\n",
       "      <td>15816</td>\n",
       "      <td>120</td>\n",
       "      <td>2</td>\n",
       "      <td>8</td>\n",
       "      <td>...</td>\n",
       "      <td>0</td>\n",
       "      <td>1</td>\n",
       "      <td>0</td>\n",
       "      <td>1</td>\n",
       "      <td>0</td>\n",
       "      <td>0</td>\n",
       "      <td>0</td>\n",
       "      <td>0</td>\n",
       "      <td>0</td>\n",
       "      <td>0</td>\n",
       "    </tr>\n",
       "    <tr>\n",
       "      <th>4</th>\n",
       "      <td>--7h1S4neDM</td>\n",
       "      <td>00:03:19</td>\n",
       "      <td>Pet Rescue Saga Level 539 2 Stars No Boosts</td>\n",
       "      <td>UCNWPDyaWf2eAHnofFLSnEMg</td>\n",
       "      <td>All Gamers</td>\n",
       "      <td>2014-04-29 15:44:44</td>\n",
       "      <td>2167</td>\n",
       "      <td>1</td>\n",
       "      <td>0</td>\n",
       "      <td>0</td>\n",
       "      <td>...</td>\n",
       "      <td>0</td>\n",
       "      <td>0</td>\n",
       "      <td>0</td>\n",
       "      <td>0</td>\n",
       "      <td>0</td>\n",
       "      <td>1</td>\n",
       "      <td>0</td>\n",
       "      <td>0</td>\n",
       "      <td>0</td>\n",
       "      <td>0</td>\n",
       "    </tr>\n",
       "  </tbody>\n",
       "</table>\n",
       "<p>5 rows × 22 columns</p>\n",
       "</div>"
      ],
      "text/plain": [
       "      video_id  duration                                              title  \\\n",
       "0  --DwgB78t-c  00:02:36  Fruto Dulce - Geraldine Rojas & Ezequiel Paludi 3   \n",
       "1  --NZRkXBV7k  00:04:53  Carlos Santana presents Cindy Blackman in Mexi...   \n",
       "2  --hoQ2sGG4M  00:04:35  Taoist monk Tian Xin Shan in Brazil,Wudang San...   \n",
       "3  --sBoaqBlzA  00:08:19  MAKEUP FOR GUYS:  Actors, TV Hosts, On Camera ...   \n",
       "4  --7h1S4neDM  00:03:19        Pet Rescue Saga Level 539 2 Stars No Boosts   \n",
       "\n",
       "                 channel_id   channel_title        published_at  views  likes  \\\n",
       "0  UCdzU3DSGzyWzN2118yd9X9g  Abdullah AYDIN 2012-01-19 18:20:02   1671     10   \n",
       "1  UC0UnhAG47DRyVZGVcbhAXhQ         Saul TP 2015-03-30 04:04:40   9994     41   \n",
       "2  UCXjtAvK5P3wXBGh0vbGylzg    TheTVtaoista 2009-08-07 06:36:33   3407      8   \n",
       "3  UCeKHMeUlcLNPLCLUfZUQI2w  Tiffany Hendra 2011-08-04 00:47:49  15816    120   \n",
       "4  UCNWPDyaWf2eAHnofFLSnEMg      All Gamers 2014-04-29 15:44:44   2167      1   \n",
       "\n",
       "   dislikes  comments ...  1  2  3  4  5  6  7  8  9  10  \n",
       "0         1         0 ...  0  1  0  0  0  0  0  0  0   0  \n",
       "1         3         2 ...  0  1  0  0  0  0  0  0  0   0  \n",
       "2         1         2 ...  0  0  0  0  0  0  0  0  0   0  \n",
       "3         2         8 ...  0  1  0  1  0  0  0  0  0   0  \n",
       "4         0         0 ...  0  0  0  0  0  1  0  0  0   0  \n",
       "\n",
       "[5 rows x 22 columns]"
      ]
     },
     "execution_count": 4,
     "metadata": {},
     "output_type": "execute_result"
    }
   ],
   "source": [
    "dat.head()"
   ]
  },
  {
   "cell_type": "code",
   "execution_count": 3,
   "metadata": {
    "collapsed": true
   },
   "outputs": [],
   "source": [
    "from nltk.tokenize import word_tokenize\n",
    "from nltk.corpus import stopwords"
   ]
  },
  {
   "cell_type": "code",
   "execution_count": 8,
   "metadata": {
    "collapsed": false
   },
   "outputs": [],
   "source": [
    "# stops = set(stopwords.words('english')) # could consider using combined stop words from most popular languages\n",
    "stops = set(stopwords.words())"
   ]
  },
  {
   "cell_type": "code",
   "execution_count": 5,
   "metadata": {
    "collapsed": false
   },
   "outputs": [
    {
     "data": {
      "text/plain": [
       "0    Fruto Dulce - Geraldine Rojas & Ezequiel Paludi 3\n",
       "1    Carlos Santana presents Cindy Blackman in Mexi...\n",
       "2    Taoist monk Tian Xin Shan in Brazil,Wudang San...\n",
       "3    MAKEUP FOR GUYS:  Actors, TV Hosts, On Camera ...\n",
       "4          Pet Rescue Saga Level 539 2 Stars No Boosts\n",
       "Name: title, dtype: object"
      ]
     },
     "execution_count": 5,
     "metadata": {},
     "output_type": "execute_result"
    }
   ],
   "source": [
    "dat['title'].head()"
   ]
  },
  {
   "cell_type": "code",
   "execution_count": 15,
   "metadata": {
    "collapsed": false
   },
   "outputs": [
    {
     "name": "stdout",
     "output_type": "stream",
     "text": [
      "at sentense 681819\n"
     ]
    }
   ],
   "source": [
    "# tokens = [word_tokenize(t) for t in dat['title'] if t is not None]\n",
    "from IPython import display\n",
    "tokens = []\n",
    "w = 0\n",
    "for t in dat['title']:\n",
    "    if t is None:\n",
    "        tokens += [[]]\n",
    "    else:\n",
    "        tokens += [word_tokenize(t)]\n",
    "    display.clear_output(wait=True)\n",
    "    w += 1\n",
    "    print(\"at sentence {0}\".format(w))    "
   ]
  },
  {
   "cell_type": "code",
   "execution_count": 17,
   "metadata": {
    "collapsed": false
   },
   "outputs": [
    {
     "data": {
      "text/plain": [
       "[['Fruto', 'Dulce', '-', 'Geraldine', 'Rojas', '&', 'Ezequiel', 'Paludi', '3'],\n",
       " ['Carlos',\n",
       "  'Santana',\n",
       "  'presents',\n",
       "  'Cindy',\n",
       "  'Blackman',\n",
       "  'in',\n",
       "  'Mexico',\n",
       "  'City'],\n",
       " ['Taoist',\n",
       "  'monk',\n",
       "  'Tian',\n",
       "  'Xin',\n",
       "  'Shan',\n",
       "  'in',\n",
       "  'Brazil',\n",
       "  ',',\n",
       "  'Wudang',\n",
       "  'Sanfeng',\n",
       "  \"T'ai\",\n",
       "  'Chi',\n",
       "  'exercises'],\n",
       " ['MAKEUP',\n",
       "  'FOR',\n",
       "  'GUYS',\n",
       "  ':',\n",
       "  'Actors',\n",
       "  ',',\n",
       "  'TV',\n",
       "  'Hosts',\n",
       "  ',',\n",
       "  'On',\n",
       "  'Camera',\n",
       "  'Experts'],\n",
       " ['Pet', 'Rescue', 'Saga', 'Level', '539', '2', 'Stars', 'No', 'Boosts']]"
      ]
     },
     "execution_count": 17,
     "metadata": {},
     "output_type": "execute_result"
    }
   ],
   "source": [
    "tokens[:5]"
   ]
  },
  {
   "cell_type": "code",
   "execution_count": 42,
   "metadata": {
    "collapsed": true
   },
   "outputs": [],
   "source": [
    "# pickle.dump(tokens, open(\"tokens.pkl\", \"wb\"))"
   ]
  },
  {
   "cell_type": "markdown",
   "metadata": {},
   "source": [
    "**Assuming most titles are in English (consider language detection later)**"
   ]
  },
  {
   "cell_type": "code",
   "execution_count": 9,
   "metadata": {
    "collapsed": false
   },
   "outputs": [],
   "source": [
    "tokens = pickle.load(open(\"tokens.pkl\", \"rb\"))"
   ]
  },
  {
   "cell_type": "code",
   "execution_count": 10,
   "metadata": {
    "collapsed": true
   },
   "outputs": [],
   "source": [
    "import re"
   ]
  },
  {
   "cell_type": "code",
   "execution_count": 11,
   "metadata": {
    "collapsed": true
   },
   "outputs": [],
   "source": [
    "pure_tokens = [\" \".join([w.lower() for w in sent if w.lower() not in stops and re.match(\"\\w+\", w)])\\\n",
    "               for sent in tokens]"
   ]
  },
  {
   "cell_type": "code",
   "execution_count": 12,
   "metadata": {
    "collapsed": false
   },
   "outputs": [
    {
     "data": {
      "text/plain": [
       "['fruto dulce geraldine rojas ezequiel paludi 3',\n",
       " 'carlos santana presents cindy blackman mexico city',\n",
       " \"taoist monk tian xin brazil wudang sanfeng t'ai exercises\",\n",
       " 'makeup guys actors tv hosts camera experts',\n",
       " 'pet rescue saga level 539 2 stars boosts']"
      ]
     },
     "execution_count": 12,
     "metadata": {},
     "output_type": "execute_result"
    }
   ],
   "source": [
    "pure_tokens[:5]"
   ]
  },
  {
   "cell_type": "code",
   "execution_count": 13,
   "metadata": {
    "collapsed": true
   },
   "outputs": [],
   "source": [
    "from sklearn.feature_extraction.text import CountVectorizer"
   ]
  },
  {
   "cell_type": "code",
   "execution_count": 20,
   "metadata": {
    "collapsed": true
   },
   "outputs": [],
   "source": [
    "vectorizer = CountVectorizer(analyzer = \"word\",   \\\n",
    "                             tokenizer = None,    \\\n",
    "                             preprocessor = None, \\\n",
    "                             stop_words = None,   \\\n",
    "                             max_features = 5000)"
   ]
  },
  {
   "cell_type": "code",
   "execution_count": 21,
   "metadata": {
    "collapsed": true
   },
   "outputs": [],
   "source": [
    "features = vectorizer.fit_transform(pure_tokens)"
   ]
  },
  {
   "cell_type": "code",
   "execution_count": 22,
   "metadata": {
    "collapsed": false
   },
   "outputs": [],
   "source": [
    "feature_names = vectorizer.get_feature_names()"
   ]
  },
  {
   "cell_type": "code",
   "execution_count": 23,
   "metadata": {
    "collapsed": false
   },
   "outputs": [],
   "source": [
    "# feat_mat = features.todense()"
   ]
  },
  {
   "cell_type": "code",
   "execution_count": 24,
   "metadata": {
    "collapsed": false
   },
   "outputs": [
    {
     "data": {
      "text/plain": [
       "(681819, 5000)"
      ]
     },
     "execution_count": 24,
     "metadata": {},
     "output_type": "execute_result"
    }
   ],
   "source": [
    "features.shape"
   ]
  },
  {
   "cell_type": "code",
   "execution_count": 25,
   "metadata": {
    "collapsed": true
   },
   "outputs": [],
   "source": [
    "from sklearn.feature_selection import f_regression\n",
    "from sklearn.linear_model import LinearRegression"
   ]
  },
  {
   "cell_type": "code",
   "execution_count": 26,
   "metadata": {
    "collapsed": false
   },
   "outputs": [],
   "source": [
    "fs, ps = f_regression(features, np.log(dat['views']), center=False)\n",
    "alpha = 0.01\n",
    "sig_inds = np.where(ps < alpha)[0]\n",
    "reg = LinearRegression(n_jobs=4)\n",
    "reg.fit(features, np.log(dat['views']))\n",
    "views_stat = pd.DataFrame({\"feature_id\": sig_inds,\n",
    "              \"word\": np.array(feature_names)[sig_inds],\n",
    "              \"coef\": reg.coef_[sig_inds], \n",
    "              \"p\": ps[sig_inds]}).sort_values('coef', ascending=False)[['word', 'feature_id', 'coef', 'p']]"
   ]
  },
  {
   "cell_type": "code",
   "execution_count": 30,
   "metadata": {
    "collapsed": false
   },
   "outputs": [
    {
     "data": {
      "text/html": [
       "<div>\n",
       "<table border=\"1\" class=\"dataframe\">\n",
       "  <thead>\n",
       "    <tr style=\"text-align: right;\">\n",
       "      <th></th>\n",
       "      <th>word</th>\n",
       "      <th>feature_id</th>\n",
       "      <th>coef</th>\n",
       "      <th>p</th>\n",
       "    </tr>\n",
       "  </thead>\n",
       "  <tbody>\n",
       "    <tr>\n",
       "      <th>3940</th>\n",
       "      <td>sevenfold</td>\n",
       "      <td>3940</td>\n",
       "      <td>1.420393</td>\n",
       "      <td>1.367308e-34</td>\n",
       "    </tr>\n",
       "    <tr>\n",
       "      <th>4925</th>\n",
       "      <td>детей</td>\n",
       "      <td>4925</td>\n",
       "      <td>1.360317</td>\n",
       "      <td>3.526555e-33</td>\n",
       "    </tr>\n",
       "    <tr>\n",
       "      <th>1665</th>\n",
       "      <td>faze</td>\n",
       "      <td>1665</td>\n",
       "      <td>1.320893</td>\n",
       "      <td>4.176124e-28</td>\n",
       "    </tr>\n",
       "    <tr>\n",
       "      <th>3657</th>\n",
       "      <td>reset</td>\n",
       "      <td>3657</td>\n",
       "      <td>1.108704</td>\n",
       "      <td>3.360949e-46</td>\n",
       "    </tr>\n",
       "    <tr>\n",
       "      <th>729</th>\n",
       "      <td>britain</td>\n",
       "      <td>729</td>\n",
       "      <td>1.099806</td>\n",
       "      <td>5.744635e-34</td>\n",
       "    </tr>\n",
       "    <tr>\n",
       "      <th>4950</th>\n",
       "      <td>серия</td>\n",
       "      <td>4950</td>\n",
       "      <td>1.037553</td>\n",
       "      <td>3.900010e-63</td>\n",
       "    </tr>\n",
       "    <tr>\n",
       "      <th>3929</th>\n",
       "      <td>sesame</td>\n",
       "      <td>3929</td>\n",
       "      <td>1.020937</td>\n",
       "      <td>7.879123e-32</td>\n",
       "    </tr>\n",
       "    <tr>\n",
       "      <th>4943</th>\n",
       "      <td>рецепт</td>\n",
       "      <td>4943</td>\n",
       "      <td>1.018323</td>\n",
       "      <td>2.094089e-35</td>\n",
       "    </tr>\n",
       "    <tr>\n",
       "      <th>4715</th>\n",
       "      <td>viña</td>\n",
       "      <td>4715</td>\n",
       "      <td>0.971714</td>\n",
       "      <td>3.637986e-29</td>\n",
       "    </tr>\n",
       "    <tr>\n",
       "      <th>4781</th>\n",
       "      <td>webisode</td>\n",
       "      <td>4781</td>\n",
       "      <td>0.943215</td>\n",
       "      <td>1.486629e-31</td>\n",
       "    </tr>\n",
       "  </tbody>\n",
       "</table>\n",
       "</div>"
      ],
      "text/plain": [
       "           word  feature_id      coef             p\n",
       "3940  sevenfold        3940  1.420393  1.367308e-34\n",
       "4925      детей        4925  1.360317  3.526555e-33\n",
       "1665       faze        1665  1.320893  4.176124e-28\n",
       "3657      reset        3657  1.108704  3.360949e-46\n",
       "729     britain         729  1.099806  5.744635e-34\n",
       "4950      серия        4950  1.037553  3.900010e-63\n",
       "3929     sesame        3929  1.020937  7.879123e-32\n",
       "4943     рецепт        4943  1.018323  2.094089e-35\n",
       "4715       viña        4715  0.971714  3.637986e-29\n",
       "4781   webisode        4781  0.943215  1.486629e-31"
      ]
     },
     "execution_count": 30,
     "metadata": {},
     "output_type": "execute_result"
    }
   ],
   "source": [
    "views_stat.head(10)"
   ]
  },
  {
   "cell_type": "code",
   "execution_count": 31,
   "metadata": {
    "collapsed": false
   },
   "outputs": [
    {
     "data": {
      "text/html": [
       "<div>\n",
       "<table border=\"1\" class=\"dataframe\">\n",
       "  <thead>\n",
       "    <tr style=\"text-align: right;\">\n",
       "      <th></th>\n",
       "      <th>word</th>\n",
       "      <th>feature_id</th>\n",
       "      <th>coef</th>\n",
       "      <th>p</th>\n",
       "    </tr>\n",
       "  </thead>\n",
       "  <tbody>\n",
       "    <tr>\n",
       "      <th>503</th>\n",
       "      <td>ballroom</td>\n",
       "      <td>503</td>\n",
       "      <td>-0.538840</td>\n",
       "      <td>5.534705e-22</td>\n",
       "    </tr>\n",
       "    <tr>\n",
       "      <th>125</th>\n",
       "      <td>3gp</td>\n",
       "      <td>125</td>\n",
       "      <td>-0.543457</td>\n",
       "      <td>1.927154e-42</td>\n",
       "    </tr>\n",
       "    <tr>\n",
       "      <th>385</th>\n",
       "      <td>apresentação</td>\n",
       "      <td>385</td>\n",
       "      <td>-0.553671</td>\n",
       "      <td>1.323539e-20</td>\n",
       "    </tr>\n",
       "    <tr>\n",
       "      <th>4033</th>\n",
       "      <td>skatepark</td>\n",
       "      <td>4033</td>\n",
       "      <td>-0.560497</td>\n",
       "      <td>1.355982e-40</td>\n",
       "    </tr>\n",
       "    <tr>\n",
       "      <th>3586</th>\n",
       "      <td>ranked</td>\n",
       "      <td>3586</td>\n",
       "      <td>-0.560828</td>\n",
       "      <td>2.837027e-35</td>\n",
       "    </tr>\n",
       "    <tr>\n",
       "      <th>2201</th>\n",
       "      <td>iglesia</td>\n",
       "      <td>2201</td>\n",
       "      <td>-0.561589</td>\n",
       "      <td>4.916255e-23</td>\n",
       "    </tr>\n",
       "    <tr>\n",
       "      <th>3990</th>\n",
       "      <td>showreel</td>\n",
       "      <td>3990</td>\n",
       "      <td>-0.564596</td>\n",
       "      <td>8.195069e-20</td>\n",
       "    </tr>\n",
       "    <tr>\n",
       "      <th>4171</th>\n",
       "      <td>ssbb</td>\n",
       "      <td>4171</td>\n",
       "      <td>-0.648883</td>\n",
       "      <td>3.861534e-21</td>\n",
       "    </tr>\n",
       "    <tr>\n",
       "      <th>1256</th>\n",
       "      <td>darkorbit</td>\n",
       "      <td>1256</td>\n",
       "      <td>-0.717136</td>\n",
       "      <td>7.847164e-32</td>\n",
       "    </tr>\n",
       "    <tr>\n",
       "      <th>460</th>\n",
       "      <td>avenged</td>\n",
       "      <td>460</td>\n",
       "      <td>-0.975518</td>\n",
       "      <td>6.304315e-35</td>\n",
       "    </tr>\n",
       "  </tbody>\n",
       "</table>\n",
       "</div>"
      ],
      "text/plain": [
       "              word  feature_id      coef             p\n",
       "503       ballroom         503 -0.538840  5.534705e-22\n",
       "125            3gp         125 -0.543457  1.927154e-42\n",
       "385   apresentação         385 -0.553671  1.323539e-20\n",
       "4033     skatepark        4033 -0.560497  1.355982e-40\n",
       "3586        ranked        3586 -0.560828  2.837027e-35\n",
       "2201       iglesia        2201 -0.561589  4.916255e-23\n",
       "3990      showreel        3990 -0.564596  8.195069e-20\n",
       "4171          ssbb        4171 -0.648883  3.861534e-21\n",
       "1256     darkorbit        1256 -0.717136  7.847164e-32\n",
       "460        avenged         460 -0.975518  6.304315e-35"
      ]
     },
     "execution_count": 31,
     "metadata": {},
     "output_type": "execute_result"
    }
   ],
   "source": [
    "views_stat.tail(10)"
   ]
  },
  {
   "cell_type": "code",
   "execution_count": 32,
   "metadata": {
    "collapsed": true
   },
   "outputs": [],
   "source": [
    "fs, ps = f_regression(features, dat['duration'] / np.timedelta64(1, 's'), center=False)\n",
    "alpha = 0.01\n",
    "sig_inds = np.where(ps < alpha)[0]\n",
    "reg = LinearRegression(n_jobs=4)\n",
    "reg.fit(features, dat['duration'] / np.timedelta64(1, 's'))\n",
    "duration_stat = pd.DataFrame({\"feature_id\": sig_inds,\n",
    "              \"word\": np.array(feature_names)[sig_inds],\n",
    "              \"coef\": reg.coef_[sig_inds], \n",
    "              \"p\": ps[sig_inds]}).sort_values('coef', ascending=False)[['word', 'feature_id', 'coef', 'p']]"
   ]
  },
  {
   "cell_type": "code",
   "execution_count": 33,
   "metadata": {
    "collapsed": false
   },
   "outputs": [
    {
     "data": {
      "text/html": [
       "<div>\n",
       "<table border=\"1\" class=\"dataframe\">\n",
       "  <thead>\n",
       "    <tr style=\"text-align: right;\">\n",
       "      <th></th>\n",
       "      <th>word</th>\n",
       "      <th>feature_id</th>\n",
       "      <th>coef</th>\n",
       "      <th>p</th>\n",
       "    </tr>\n",
       "  </thead>\n",
       "  <tbody>\n",
       "    <tr>\n",
       "      <th>2065</th>\n",
       "      <td>haul</td>\n",
       "      <td>2065</td>\n",
       "      <td>100.410777</td>\n",
       "      <td>5.237096e-322</td>\n",
       "    </tr>\n",
       "    <tr>\n",
       "      <th>3617</th>\n",
       "      <td>recensione</td>\n",
       "      <td>3617</td>\n",
       "      <td>80.550428</td>\n",
       "      <td>4.063264e-42</td>\n",
       "    </tr>\n",
       "    <tr>\n",
       "      <th>2829</th>\n",
       "      <td>metallica</td>\n",
       "      <td>2829</td>\n",
       "      <td>79.620075</td>\n",
       "      <td>1.088874e-135</td>\n",
       "    </tr>\n",
       "    <tr>\n",
       "      <th>4995</th>\n",
       "      <td>神魔之塔</td>\n",
       "      <td>4995</td>\n",
       "      <td>75.879521</td>\n",
       "      <td>7.527500e-40</td>\n",
       "    </tr>\n",
       "    <tr>\n",
       "      <th>3251</th>\n",
       "      <td>partie</td>\n",
       "      <td>3251</td>\n",
       "      <td>68.749905</td>\n",
       "      <td>1.169152e-67</td>\n",
       "    </tr>\n",
       "    <tr>\n",
       "      <th>3248</th>\n",
       "      <td>part3</td>\n",
       "      <td>3248</td>\n",
       "      <td>67.428301</td>\n",
       "      <td>2.930866e-40</td>\n",
       "    </tr>\n",
       "    <tr>\n",
       "      <th>3379</th>\n",
       "      <td>playthrough</td>\n",
       "      <td>3379</td>\n",
       "      <td>65.521045</td>\n",
       "      <td>1.985373e-139</td>\n",
       "    </tr>\n",
       "    <tr>\n",
       "      <th>3204</th>\n",
       "      <td>p1</td>\n",
       "      <td>3204</td>\n",
       "      <td>64.910025</td>\n",
       "      <td>1.570365e-37</td>\n",
       "    </tr>\n",
       "    <tr>\n",
       "      <th>1285</th>\n",
       "      <td>deel</td>\n",
       "      <td>1285</td>\n",
       "      <td>64.906273</td>\n",
       "      <td>9.453681e-39</td>\n",
       "    </tr>\n",
       "    <tr>\n",
       "      <th>3940</th>\n",
       "      <td>sevenfold</td>\n",
       "      <td>3940</td>\n",
       "      <td>63.532622</td>\n",
       "      <td>4.177819e-45</td>\n",
       "    </tr>\n",
       "  </tbody>\n",
       "</table>\n",
       "</div>"
      ],
      "text/plain": [
       "             word  feature_id        coef              p\n",
       "2065         haul        2065  100.410777  5.237096e-322\n",
       "3617   recensione        3617   80.550428   4.063264e-42\n",
       "2829    metallica        2829   79.620075  1.088874e-135\n",
       "4995         神魔之塔        4995   75.879521   7.527500e-40\n",
       "3251       partie        3251   68.749905   1.169152e-67\n",
       "3248        part3        3248   67.428301   2.930866e-40\n",
       "3379  playthrough        3379   65.521045  1.985373e-139\n",
       "3204           p1        3204   64.910025   1.570365e-37\n",
       "1285         deel        1285   64.906273   9.453681e-39\n",
       "3940    sevenfold        3940   63.532622   4.177819e-45"
      ]
     },
     "execution_count": 33,
     "metadata": {},
     "output_type": "execute_result"
    }
   ],
   "source": [
    "duration_stat.head(10)"
   ]
  },
  {
   "cell_type": "code",
   "execution_count": 34,
   "metadata": {
    "collapsed": false
   },
   "outputs": [
    {
     "data": {
      "text/html": [
       "<div>\n",
       "<table border=\"1\" class=\"dataframe\">\n",
       "  <thead>\n",
       "    <tr style=\"text-align: right;\">\n",
       "      <th></th>\n",
       "      <th>word</th>\n",
       "      <th>feature_id</th>\n",
       "      <th>coef</th>\n",
       "      <th>p</th>\n",
       "    </tr>\n",
       "  </thead>\n",
       "  <tbody>\n",
       "    <tr>\n",
       "      <th>4133</th>\n",
       "      <td>sparta</td>\n",
       "      <td>4133</td>\n",
       "      <td>-48.576669</td>\n",
       "      <td>1.969519e-15</td>\n",
       "    </tr>\n",
       "    <tr>\n",
       "      <th>4191</th>\n",
       "      <td>stats</td>\n",
       "      <td>4191</td>\n",
       "      <td>-48.724739</td>\n",
       "      <td>1.567058e-27</td>\n",
       "    </tr>\n",
       "    <tr>\n",
       "      <th>511</th>\n",
       "      <td>bande</td>\n",
       "      <td>511</td>\n",
       "      <td>-49.127083</td>\n",
       "      <td>2.288318e-20</td>\n",
       "    </tr>\n",
       "    <tr>\n",
       "      <th>943</th>\n",
       "      <td>cheerleaders</td>\n",
       "      <td>943</td>\n",
       "      <td>-50.351524</td>\n",
       "      <td>1.929454e-18</td>\n",
       "    </tr>\n",
       "    <tr>\n",
       "      <th>942</th>\n",
       "      <td>cheer</td>\n",
       "      <td>942</td>\n",
       "      <td>-50.567213</td>\n",
       "      <td>7.618557e-45</td>\n",
       "    </tr>\n",
       "    <tr>\n",
       "      <th>3067</th>\n",
       "      <td>nightcore</td>\n",
       "      <td>3067</td>\n",
       "      <td>-54.737429</td>\n",
       "      <td>7.784102e-21</td>\n",
       "    </tr>\n",
       "    <tr>\n",
       "      <th>4993</th>\n",
       "      <td>太鼓の達人</td>\n",
       "      <td>4993</td>\n",
       "      <td>-71.311398</td>\n",
       "      <td>5.095912e-12</td>\n",
       "    </tr>\n",
       "    <tr>\n",
       "      <th>4486</th>\n",
       "      <td>trailer</td>\n",
       "      <td>4486</td>\n",
       "      <td>-72.788387</td>\n",
       "      <td>0.000000e+00</td>\n",
       "    </tr>\n",
       "    <tr>\n",
       "      <th>4955</th>\n",
       "      <td>трейлер</td>\n",
       "      <td>4955</td>\n",
       "      <td>-97.373937</td>\n",
       "      <td>7.697384e-35</td>\n",
       "    </tr>\n",
       "    <tr>\n",
       "      <th>4541</th>\n",
       "      <td>tráiler</td>\n",
       "      <td>4541</td>\n",
       "      <td>-98.536315</td>\n",
       "      <td>2.168022e-10</td>\n",
       "    </tr>\n",
       "  </tbody>\n",
       "</table>\n",
       "</div>"
      ],
      "text/plain": [
       "              word  feature_id       coef             p\n",
       "4133        sparta        4133 -48.576669  1.969519e-15\n",
       "4191         stats        4191 -48.724739  1.567058e-27\n",
       "511          bande         511 -49.127083  2.288318e-20\n",
       "943   cheerleaders         943 -50.351524  1.929454e-18\n",
       "942          cheer         942 -50.567213  7.618557e-45\n",
       "3067     nightcore        3067 -54.737429  7.784102e-21\n",
       "4993         太鼓の達人        4993 -71.311398  5.095912e-12\n",
       "4486       trailer        4486 -72.788387  0.000000e+00\n",
       "4955       трейлер        4955 -97.373937  7.697384e-35\n",
       "4541       tráiler        4541 -98.536315  2.168022e-10"
      ]
     },
     "execution_count": 34,
     "metadata": {},
     "output_type": "execute_result"
    }
   ],
   "source": [
    "duration_stat.tail(10)"
   ]
  },
  {
   "cell_type": "markdown",
   "metadata": {
    "collapsed": true
   },
   "source": [
    "### generate json list for word cloud"
   ]
  },
  {
   "cell_type": "code",
   "execution_count": 35,
   "metadata": {
    "collapsed": false
   },
   "outputs": [
    {
     "data": {
      "text/plain": [
       "(5000, 4)"
      ]
     },
     "execution_count": 35,
     "metadata": {},
     "output_type": "execute_result"
    }
   ],
   "source": [
    "views_stat.shape"
   ]
  },
  {
   "cell_type": "code",
   "execution_count": 36,
   "metadata": {
    "collapsed": false
   },
   "outputs": [],
   "source": [
    "top100_views = views_stat.head(100)[['word', 'coef']]"
   ]
  },
  {
   "cell_type": "code",
   "execution_count": 37,
   "metadata": {
    "collapsed": false
   },
   "outputs": [
    {
     "data": {
      "text/html": [
       "<div>\n",
       "<table border=\"1\" class=\"dataframe\">\n",
       "  <thead>\n",
       "    <tr style=\"text-align: right;\">\n",
       "      <th></th>\n",
       "      <th>text</th>\n",
       "      <th>coef</th>\n",
       "      <th>size</th>\n",
       "    </tr>\n",
       "  </thead>\n",
       "  <tbody>\n",
       "    <tr>\n",
       "      <th>3940</th>\n",
       "      <td>sevenfold</td>\n",
       "      <td>1.420393</td>\n",
       "      <td>2475</td>\n",
       "    </tr>\n",
       "    <tr>\n",
       "      <th>4925</th>\n",
       "      <td>детей</td>\n",
       "      <td>1.360317</td>\n",
       "      <td>1780</td>\n",
       "    </tr>\n",
       "    <tr>\n",
       "      <th>1665</th>\n",
       "      <td>faze</td>\n",
       "      <td>1.320893</td>\n",
       "      <td>1434</td>\n",
       "    </tr>\n",
       "    <tr>\n",
       "      <th>3657</th>\n",
       "      <td>reset</td>\n",
       "      <td>1.108704</td>\n",
       "      <td>449</td>\n",
       "    </tr>\n",
       "    <tr>\n",
       "      <th>729</th>\n",
       "      <td>britain</td>\n",
       "      <td>1.099806</td>\n",
       "      <td>428</td>\n",
       "    </tr>\n",
       "  </tbody>\n",
       "</table>\n",
       "</div>"
      ],
      "text/plain": [
       "           text      coef  size\n",
       "3940  sevenfold  1.420393  2475\n",
       "4925      детей  1.360317  1780\n",
       "1665       faze  1.320893  1434\n",
       "3657      reset  1.108704   449\n",
       "729     britain  1.099806   428"
      ]
     },
     "execution_count": 37,
     "metadata": {},
     "output_type": "execute_result"
    }
   ],
   "source": [
    "top100_views['size'] = np.exp(5.5 * top100_views['coef']).astype(int) + 5\n",
    "top100_views.rename(columns={\"word\": \"text\"}, inplace=True)\n",
    "top100_views.head()"
   ]
  },
  {
   "cell_type": "code",
   "execution_count": 38,
   "metadata": {
    "collapsed": false
   },
   "outputs": [],
   "source": [
    "top100_views[['text', 'size']].to_json(\"word_cloud/top100_views_5000.json\", orient='records')"
   ]
  },
  {
   "cell_type": "code",
   "execution_count": 39,
   "metadata": {
    "collapsed": false
   },
   "outputs": [],
   "source": [
    "bot100_views = views_stat.tail(100)[['word', 'coef']]\n",
    "bot100_views['size'] = np.exp(-8.5 * bot100_views['coef']).astype(int) + 5\n",
    "bot100_views.rename(columns={\"word\": \"text\"}, inplace=True)\n",
    "bot100_views[['text', 'size']].to_json(\"word_cloud/bot100_views.json_5000\", orient='records')"
   ]
  },
  {
   "cell_type": "markdown",
   "metadata": {
    "collapsed": true
   },
   "source": [
    "### TF-IDF"
   ]
  },
  {
   "cell_type": "code",
   "execution_count": 40,
   "metadata": {
    "collapsed": false
   },
   "outputs": [],
   "source": [
    "from sklearn.feature_extraction.text import TfidfVectorizer\n",
    "vectorizer = TfidfVectorizer(min_df=1, max_features=5000)\n",
    "tdidf = vectorizer.fit_transform(pure_tokens)"
   ]
  },
  {
   "cell_type": "code",
   "execution_count": 41,
   "metadata": {
    "collapsed": false
   },
   "outputs": [],
   "source": [
    "words = vectorizer.get_feature_names()"
   ]
  },
  {
   "cell_type": "code",
   "execution_count": 42,
   "metadata": {
    "collapsed": false
   },
   "outputs": [
    {
     "data": {
      "text/plain": [
       "['advent',\n",
       " 'adventure',\n",
       " 'adventures',\n",
       " 'advice',\n",
       " 'ae',\n",
       " 'aerial',\n",
       " 'africa',\n",
       " 'african',\n",
       " 'afro',\n",
       " 'aftermovie']"
      ]
     },
     "execution_count": 42,
     "metadata": {},
     "output_type": "execute_result"
    }
   ],
   "source": [
    "words[250:260]"
   ]
  },
  {
   "cell_type": "code",
   "execution_count": 43,
   "metadata": {
    "collapsed": false
   },
   "outputs": [
    {
     "data": {
      "text/plain": [
       "array([ 8.86417647,  8.25043607,  9.2850265 , ...,  9.75038975,\n",
       "        8.94772404,  9.67034704])"
      ]
     },
     "execution_count": 43,
     "metadata": {},
     "output_type": "execute_result"
    }
   ],
   "source": [
    "idf = vectorizer.idf_\n",
    "idf"
   ]
  },
  {
   "cell_type": "code",
   "execution_count": 44,
   "metadata": {
    "collapsed": false
   },
   "outputs": [
    {
     "data": {
      "text/plain": [
       "<681819x5000 sparse matrix of type '<class 'numpy.float64'>'\n",
       "\twith 2042418 stored elements in Compressed Sparse Row format>"
      ]
     },
     "execution_count": 44,
     "metadata": {},
     "output_type": "execute_result"
    }
   ],
   "source": [
    "tdidf"
   ]
  },
  {
   "cell_type": "code",
   "execution_count": 45,
   "metadata": {
    "collapsed": false
   },
   "outputs": [],
   "source": [
    "fs, ps = f_regression(tdidf, np.log(dat['views']), center=False)\n",
    "alpha = 0.01\n",
    "sig_inds = np.where(ps < alpha)[0]\n",
    "reg = LinearRegression(n_jobs=4)\n",
    "reg.fit(tdidf, np.log(dat['views']))\n",
    "views_stat_tdidf = pd.DataFrame({\"feature_id\": sig_inds,\n",
    "              \"word\": np.array(words)[sig_inds],\n",
    "              \"coef\": reg.coef_[sig_inds], \n",
    "              \"p\": ps[sig_inds]}).sort_values('coef', ascending=False)[['word', 'feature_id', 'coef', 'p']]"
   ]
  },
  {
   "cell_type": "code",
   "execution_count": 46,
   "metadata": {
    "collapsed": false
   },
   "outputs": [
    {
     "data": {
      "text/html": [
       "<div>\n",
       "<table border=\"1\" class=\"dataframe\">\n",
       "  <thead>\n",
       "    <tr style=\"text-align: right;\">\n",
       "      <th></th>\n",
       "      <th>word</th>\n",
       "      <th>feature_id</th>\n",
       "      <th>coef</th>\n",
       "      <th>p</th>\n",
       "    </tr>\n",
       "  </thead>\n",
       "  <tbody>\n",
       "    <tr>\n",
       "      <th>1665</th>\n",
       "      <td>faze</td>\n",
       "      <td>1665</td>\n",
       "      <td>2.593950</td>\n",
       "      <td>7.033313e-30</td>\n",
       "    </tr>\n",
       "    <tr>\n",
       "      <th>3286</th>\n",
       "      <td>peppa</td>\n",
       "      <td>3286</td>\n",
       "      <td>2.590707</td>\n",
       "      <td>6.906898e-45</td>\n",
       "    </tr>\n",
       "    <tr>\n",
       "      <th>3940</th>\n",
       "      <td>sevenfold</td>\n",
       "      <td>3940</td>\n",
       "      <td>2.353965</td>\n",
       "      <td>6.153159e-34</td>\n",
       "    </tr>\n",
       "    <tr>\n",
       "      <th>1387</th>\n",
       "      <td>doh</td>\n",
       "      <td>1387</td>\n",
       "      <td>2.059334</td>\n",
       "      <td>1.323623e-83</td>\n",
       "    </tr>\n",
       "    <tr>\n",
       "      <th>3657</th>\n",
       "      <td>reset</td>\n",
       "      <td>3657</td>\n",
       "      <td>2.004721</td>\n",
       "      <td>2.840415e-44</td>\n",
       "    </tr>\n",
       "    <tr>\n",
       "      <th>3929</th>\n",
       "      <td>sesame</td>\n",
       "      <td>3929</td>\n",
       "      <td>1.972696</td>\n",
       "      <td>3.716675e-31</td>\n",
       "    </tr>\n",
       "    <tr>\n",
       "      <th>729</th>\n",
       "      <td>britain</td>\n",
       "      <td>729</td>\n",
       "      <td>1.927408</td>\n",
       "      <td>6.926686e-32</td>\n",
       "    </tr>\n",
       "    <tr>\n",
       "      <th>4925</th>\n",
       "      <td>детей</td>\n",
       "      <td>4925</td>\n",
       "      <td>1.726540</td>\n",
       "      <td>1.175329e-32</td>\n",
       "    </tr>\n",
       "    <tr>\n",
       "      <th>4476</th>\n",
       "      <td>toys</td>\n",
       "      <td>4476</td>\n",
       "      <td>1.639863</td>\n",
       "      <td>2.235558e-143</td>\n",
       "    </tr>\n",
       "    <tr>\n",
       "      <th>4781</th>\n",
       "      <td>webisode</td>\n",
       "      <td>4781</td>\n",
       "      <td>1.631487</td>\n",
       "      <td>8.459493e-31</td>\n",
       "    </tr>\n",
       "    <tr>\n",
       "      <th>3140</th>\n",
       "      <td>official</td>\n",
       "      <td>3140</td>\n",
       "      <td>1.630020</td>\n",
       "      <td>0.000000e+00</td>\n",
       "    </tr>\n",
       "    <tr>\n",
       "      <th>4715</th>\n",
       "      <td>viña</td>\n",
       "      <td>4715</td>\n",
       "      <td>1.548290</td>\n",
       "      <td>5.345474e-28</td>\n",
       "    </tr>\n",
       "    <tr>\n",
       "      <th>1628</th>\n",
       "      <td>facts</td>\n",
       "      <td>1628</td>\n",
       "      <td>1.523064</td>\n",
       "      <td>6.234653e-27</td>\n",
       "    </tr>\n",
       "    <tr>\n",
       "      <th>3352</th>\n",
       "      <td>pixar</td>\n",
       "      <td>3352</td>\n",
       "      <td>1.464726</td>\n",
       "      <td>1.282094e-29</td>\n",
       "    </tr>\n",
       "    <tr>\n",
       "      <th>1515</th>\n",
       "      <td>elsa</td>\n",
       "      <td>1515</td>\n",
       "      <td>1.434376</td>\n",
       "      <td>1.924071e-49</td>\n",
       "    </tr>\n",
       "    <tr>\n",
       "      <th>356</th>\n",
       "      <td>animated</td>\n",
       "      <td>356</td>\n",
       "      <td>1.424021</td>\n",
       "      <td>2.084360e-74</td>\n",
       "    </tr>\n",
       "    <tr>\n",
       "      <th>4950</th>\n",
       "      <td>серия</td>\n",
       "      <td>4950</td>\n",
       "      <td>1.406353</td>\n",
       "      <td>8.923276e-61</td>\n",
       "    </tr>\n",
       "    <tr>\n",
       "      <th>1816</th>\n",
       "      <td>freddy</td>\n",
       "      <td>1816</td>\n",
       "      <td>1.400841</td>\n",
       "      <td>2.085736e-72</td>\n",
       "    </tr>\n",
       "    <tr>\n",
       "      <th>2663</th>\n",
       "      <td>lyrics</td>\n",
       "      <td>2663</td>\n",
       "      <td>1.395063</td>\n",
       "      <td>4.360195e-268</td>\n",
       "    </tr>\n",
       "    <tr>\n",
       "      <th>2234</th>\n",
       "      <td>inkigayo</td>\n",
       "      <td>2234</td>\n",
       "      <td>1.373301</td>\n",
       "      <td>2.506858e-26</td>\n",
       "    </tr>\n",
       "  </tbody>\n",
       "</table>\n",
       "</div>"
      ],
      "text/plain": [
       "           word  feature_id      coef              p\n",
       "1665       faze        1665  2.593950   7.033313e-30\n",
       "3286      peppa        3286  2.590707   6.906898e-45\n",
       "3940  sevenfold        3940  2.353965   6.153159e-34\n",
       "1387        doh        1387  2.059334   1.323623e-83\n",
       "3657      reset        3657  2.004721   2.840415e-44\n",
       "3929     sesame        3929  1.972696   3.716675e-31\n",
       "729     britain         729  1.927408   6.926686e-32\n",
       "4925      детей        4925  1.726540   1.175329e-32\n",
       "4476       toys        4476  1.639863  2.235558e-143\n",
       "4781   webisode        4781  1.631487   8.459493e-31\n",
       "3140   official        3140  1.630020   0.000000e+00\n",
       "4715       viña        4715  1.548290   5.345474e-28\n",
       "1628      facts        1628  1.523064   6.234653e-27\n",
       "3352      pixar        3352  1.464726   1.282094e-29\n",
       "1515       elsa        1515  1.434376   1.924071e-49\n",
       "356    animated         356  1.424021   2.084360e-74\n",
       "4950      серия        4950  1.406353   8.923276e-61\n",
       "1816     freddy        1816  1.400841   2.085736e-72\n",
       "2663     lyrics        2663  1.395063  4.360195e-268\n",
       "2234   inkigayo        2234  1.373301   2.506858e-26"
      ]
     },
     "execution_count": 46,
     "metadata": {},
     "output_type": "execute_result"
    }
   ],
   "source": [
    "views_stat_tdidf.head(20)"
   ]
  },
  {
   "cell_type": "code",
   "execution_count": 47,
   "metadata": {
    "collapsed": false
   },
   "outputs": [
    {
     "data": {
      "text/html": [
       "<div>\n",
       "<table border=\"1\" class=\"dataframe\">\n",
       "  <thead>\n",
       "    <tr style=\"text-align: right;\">\n",
       "      <th></th>\n",
       "      <th>word</th>\n",
       "      <th>feature_id</th>\n",
       "      <th>coef</th>\n",
       "      <th>p</th>\n",
       "    </tr>\n",
       "  </thead>\n",
       "  <tbody>\n",
       "    <tr>\n",
       "      <th>3990</th>\n",
       "      <td>showreel</td>\n",
       "      <td>3990</td>\n",
       "      <td>-0.836485</td>\n",
       "      <td>1.191903e-18</td>\n",
       "    </tr>\n",
       "    <tr>\n",
       "      <th>3824</th>\n",
       "      <td>sale</td>\n",
       "      <td>3824</td>\n",
       "      <td>-0.839451</td>\n",
       "      <td>3.091472e-183</td>\n",
       "    </tr>\n",
       "    <tr>\n",
       "      <th>385</th>\n",
       "      <td>apresentação</td>\n",
       "      <td>385</td>\n",
       "      <td>-0.842155</td>\n",
       "      <td>2.320745e-19</td>\n",
       "    </tr>\n",
       "    <tr>\n",
       "      <th>2015</th>\n",
       "      <td>guild</td>\n",
       "      <td>2015</td>\n",
       "      <td>-0.849559</td>\n",
       "      <td>2.911795e-52</td>\n",
       "    </tr>\n",
       "    <tr>\n",
       "      <th>4284</th>\n",
       "      <td>sv</td>\n",
       "      <td>4284</td>\n",
       "      <td>-0.858576</td>\n",
       "      <td>6.261931e-25</td>\n",
       "    </tr>\n",
       "    <tr>\n",
       "      <th>4033</th>\n",
       "      <td>skatepark</td>\n",
       "      <td>4033</td>\n",
       "      <td>-0.861907</td>\n",
       "      <td>3.645241e-38</td>\n",
       "    </tr>\n",
       "    <tr>\n",
       "      <th>2231</th>\n",
       "      <td>information</td>\n",
       "      <td>2231</td>\n",
       "      <td>-0.866183</td>\n",
       "      <td>8.036755e-22</td>\n",
       "    </tr>\n",
       "    <tr>\n",
       "      <th>2546</th>\n",
       "      <td>lets</td>\n",
       "      <td>2546</td>\n",
       "      <td>-0.872722</td>\n",
       "      <td>2.241874e-59</td>\n",
       "    </tr>\n",
       "    <tr>\n",
       "      <th>3915</th>\n",
       "      <td>senior</td>\n",
       "      <td>3915</td>\n",
       "      <td>-0.881183</td>\n",
       "      <td>8.223449e-57</td>\n",
       "    </tr>\n",
       "    <tr>\n",
       "      <th>1993</th>\n",
       "      <td>grove</td>\n",
       "      <td>1993</td>\n",
       "      <td>-0.904690</td>\n",
       "      <td>6.217760e-21</td>\n",
       "    </tr>\n",
       "    <tr>\n",
       "      <th>3556</th>\n",
       "      <td>raceway</td>\n",
       "      <td>3556</td>\n",
       "      <td>-0.928252</td>\n",
       "      <td>3.556068e-27</td>\n",
       "    </tr>\n",
       "    <tr>\n",
       "      <th>1256</th>\n",
       "      <td>darkorbit</td>\n",
       "      <td>1256</td>\n",
       "      <td>-0.931579</td>\n",
       "      <td>2.087114e-30</td>\n",
       "    </tr>\n",
       "    <tr>\n",
       "      <th>3022</th>\n",
       "      <td>nationals</td>\n",
       "      <td>3022</td>\n",
       "      <td>-0.933858</td>\n",
       "      <td>2.095112e-46</td>\n",
       "    </tr>\n",
       "    <tr>\n",
       "      <th>3172</th>\n",
       "      <td>orbit</td>\n",
       "      <td>3172</td>\n",
       "      <td>-0.938447</td>\n",
       "      <td>1.334308e-21</td>\n",
       "    </tr>\n",
       "    <tr>\n",
       "      <th>4143</th>\n",
       "      <td>speedway</td>\n",
       "      <td>4143</td>\n",
       "      <td>-0.951265</td>\n",
       "      <td>5.567427e-40</td>\n",
       "    </tr>\n",
       "    <tr>\n",
       "      <th>503</th>\n",
       "      <td>ballroom</td>\n",
       "      <td>503</td>\n",
       "      <td>-0.962408</td>\n",
       "      <td>7.181697e-21</td>\n",
       "    </tr>\n",
       "    <tr>\n",
       "      <th>4094</th>\n",
       "      <td>sold</td>\n",
       "      <td>4094</td>\n",
       "      <td>-0.968785</td>\n",
       "      <td>6.424130e-46</td>\n",
       "    </tr>\n",
       "    <tr>\n",
       "      <th>4171</th>\n",
       "      <td>ssbb</td>\n",
       "      <td>4171</td>\n",
       "      <td>-1.007251</td>\n",
       "      <td>2.090353e-20</td>\n",
       "    </tr>\n",
       "    <tr>\n",
       "      <th>3586</th>\n",
       "      <td>ranked</td>\n",
       "      <td>3586</td>\n",
       "      <td>-1.045534</td>\n",
       "      <td>5.437502e-34</td>\n",
       "    </tr>\n",
       "    <tr>\n",
       "      <th>460</th>\n",
       "      <td>avenged</td>\n",
       "      <td>460</td>\n",
       "      <td>-1.540057</td>\n",
       "      <td>3.251457e-34</td>\n",
       "    </tr>\n",
       "  </tbody>\n",
       "</table>\n",
       "</div>"
      ],
      "text/plain": [
       "              word  feature_id      coef              p\n",
       "3990      showreel        3990 -0.836485   1.191903e-18\n",
       "3824          sale        3824 -0.839451  3.091472e-183\n",
       "385   apresentação         385 -0.842155   2.320745e-19\n",
       "2015         guild        2015 -0.849559   2.911795e-52\n",
       "4284            sv        4284 -0.858576   6.261931e-25\n",
       "4033     skatepark        4033 -0.861907   3.645241e-38\n",
       "2231   information        2231 -0.866183   8.036755e-22\n",
       "2546          lets        2546 -0.872722   2.241874e-59\n",
       "3915        senior        3915 -0.881183   8.223449e-57\n",
       "1993         grove        1993 -0.904690   6.217760e-21\n",
       "3556       raceway        3556 -0.928252   3.556068e-27\n",
       "1256     darkorbit        1256 -0.931579   2.087114e-30\n",
       "3022     nationals        3022 -0.933858   2.095112e-46\n",
       "3172         orbit        3172 -0.938447   1.334308e-21\n",
       "4143      speedway        4143 -0.951265   5.567427e-40\n",
       "503       ballroom         503 -0.962408   7.181697e-21\n",
       "4094          sold        4094 -0.968785   6.424130e-46\n",
       "4171          ssbb        4171 -1.007251   2.090353e-20\n",
       "3586        ranked        3586 -1.045534   5.437502e-34\n",
       "460        avenged         460 -1.540057   3.251457e-34"
      ]
     },
     "execution_count": 47,
     "metadata": {},
     "output_type": "execute_result"
    }
   ],
   "source": [
    "views_stat_tdidf.tail(20)"
   ]
  },
  {
   "cell_type": "markdown",
   "metadata": {},
   "source": [
    "### bigrams"
   ]
  },
  {
   "cell_type": "code",
   "execution_count": 48,
   "metadata": {
    "collapsed": true
   },
   "outputs": [],
   "source": [
    "vectorizer = CountVectorizer(analyzer = \"word\",   \\\n",
    "                             tokenizer = None,    \\\n",
    "                             preprocessor = None, \\\n",
    "                             stop_words = None,   \\\n",
    "                             max_features = 5000,\\\n",
    "                             ngram_range = (2, 2))\n",
    "features = vectorizer.fit_transform(pure_tokens)\n",
    "feature_names = vectorizer.get_feature_names()\n",
    "fs, ps = f_regression(features, np.log(dat['views']), center=False)\n",
    "alpha = 0.01\n",
    "sig_inds = np.where(ps < alpha)[0]\n",
    "reg = LinearRegression(n_jobs=4)\n",
    "reg.fit(features, np.log(dat['views']))\n",
    "views_stat = pd.DataFrame({\"feature_id\": sig_inds,\n",
    "              \"word\": np.array(feature_names)[sig_inds],\n",
    "              \"coef\": reg.coef_[sig_inds], \n",
    "              \"p\": ps[sig_inds]}).sort_values('coef', ascending=False)[['word', 'feature_id', 'coef', 'p']]"
   ]
  },
  {
   "cell_type": "code",
   "execution_count": 49,
   "metadata": {
    "collapsed": false
   },
   "outputs": [
    {
     "data": {
      "text/html": [
       "<div>\n",
       "<table border=\"1\" class=\"dataframe\">\n",
       "  <thead>\n",
       "    <tr style=\"text-align: right;\">\n",
       "      <th></th>\n",
       "      <th>word</th>\n",
       "      <th>feature_id</th>\n",
       "      <th>coef</th>\n",
       "      <th>p</th>\n",
       "    </tr>\n",
       "  </thead>\n",
       "  <tbody>\n",
       "    <tr>\n",
       "      <th>4979</th>\n",
       "      <td>уральские пельмени</td>\n",
       "      <td>4979</td>\n",
       "      <td>2.788098</td>\n",
       "      <td>3.571239e-11</td>\n",
       "    </tr>\n",
       "    <tr>\n",
       "      <th>1724</th>\n",
       "      <td>disney junior</td>\n",
       "      <td>1724</td>\n",
       "      <td>2.723160</td>\n",
       "      <td>1.521721e-18</td>\n",
       "    </tr>\n",
       "    <tr>\n",
       "      <th>2405</th>\n",
       "      <td>hard reset</td>\n",
       "      <td>2405</td>\n",
       "      <td>2.139729</td>\n",
       "      <td>2.767609e-19</td>\n",
       "    </tr>\n",
       "    <tr>\n",
       "      <th>3448</th>\n",
       "      <td>official mv</td>\n",
       "      <td>3448</td>\n",
       "      <td>2.018507</td>\n",
       "      <td>5.746141e-27</td>\n",
       "    </tr>\n",
       "    <tr>\n",
       "      <th>4392</th>\n",
       "      <td>swap force</td>\n",
       "      <td>4392</td>\n",
       "      <td>1.995135</td>\n",
       "      <td>2.234033e-08</td>\n",
       "    </tr>\n",
       "    <tr>\n",
       "      <th>4129</th>\n",
       "      <td>sing along</td>\n",
       "      <td>4129</td>\n",
       "      <td>1.920715</td>\n",
       "      <td>5.322569e-09</td>\n",
       "    </tr>\n",
       "    <tr>\n",
       "      <th>3240</th>\n",
       "      <td>mr bean</td>\n",
       "      <td>3240</td>\n",
       "      <td>1.882065</td>\n",
       "      <td>6.595934e-14</td>\n",
       "    </tr>\n",
       "    <tr>\n",
       "      <th>3200</th>\n",
       "      <td>moments episode</td>\n",
       "      <td>3200</td>\n",
       "      <td>1.881037</td>\n",
       "      <td>1.141150e-09</td>\n",
       "    </tr>\n",
       "    <tr>\n",
       "      <th>3232</th>\n",
       "      <td>movie clip</td>\n",
       "      <td>3232</td>\n",
       "      <td>1.817223</td>\n",
       "      <td>1.708964e-73</td>\n",
       "    </tr>\n",
       "    <tr>\n",
       "      <th>4998</th>\n",
       "      <td>인기가요 inkigayo</td>\n",
       "      <td>4998</td>\n",
       "      <td>1.794608</td>\n",
       "      <td>2.597464e-09</td>\n",
       "    </tr>\n",
       "  </tbody>\n",
       "</table>\n",
       "</div>"
      ],
      "text/plain": [
       "                    word  feature_id      coef             p\n",
       "4979  уральские пельмени        4979  2.788098  3.571239e-11\n",
       "1724       disney junior        1724  2.723160  1.521721e-18\n",
       "2405          hard reset        2405  2.139729  2.767609e-19\n",
       "3448         official mv        3448  2.018507  5.746141e-27\n",
       "4392          swap force        4392  1.995135  2.234033e-08\n",
       "4129          sing along        4129  1.920715  5.322569e-09\n",
       "3240             mr bean        3240  1.882065  6.595934e-14\n",
       "3200     moments episode        3200  1.881037  1.141150e-09\n",
       "3232          movie clip        3232  1.817223  1.708964e-73\n",
       "4998       인기가요 inkigayo        4998  1.794608  2.597464e-09"
      ]
     },
     "execution_count": 49,
     "metadata": {},
     "output_type": "execute_result"
    }
   ],
   "source": [
    "views_stat.head(10)"
   ]
  },
  {
   "cell_type": "code",
   "execution_count": 50,
   "metadata": {
    "collapsed": false
   },
   "outputs": [
    {
     "data": {
      "text/html": [
       "<div>\n",
       "<table border=\"1\" class=\"dataframe\">\n",
       "  <thead>\n",
       "    <tr style=\"text-align: right;\">\n",
       "      <th></th>\n",
       "      <th>word</th>\n",
       "      <th>feature_id</th>\n",
       "      <th>coef</th>\n",
       "      <th>p</th>\n",
       "    </tr>\n",
       "  </thead>\n",
       "  <tbody>\n",
       "    <tr>\n",
       "      <th>1925</th>\n",
       "      <td>eyed peas</td>\n",
       "      <td>1925</td>\n",
       "      <td>-1.338781</td>\n",
       "      <td>7.361969e-16</td>\n",
       "    </tr>\n",
       "    <tr>\n",
       "      <th>2781</th>\n",
       "      <td>last light</td>\n",
       "      <td>2781</td>\n",
       "      <td>-1.346087</td>\n",
       "      <td>1.844461e-06</td>\n",
       "    </tr>\n",
       "    <tr>\n",
       "      <th>4574</th>\n",
       "      <td>trans siberian</td>\n",
       "      <td>4574</td>\n",
       "      <td>-1.491705</td>\n",
       "      <td>3.037604e-07</td>\n",
       "    </tr>\n",
       "    <tr>\n",
       "      <th>882</th>\n",
       "      <td>albert hall</td>\n",
       "      <td>882</td>\n",
       "      <td>-1.498994</td>\n",
       "      <td>5.705677e-12</td>\n",
       "    </tr>\n",
       "    <tr>\n",
       "      <th>4950</th>\n",
       "      <td>zombies garden</td>\n",
       "      <td>4950</td>\n",
       "      <td>-1.560755</td>\n",
       "      <td>2.139907e-06</td>\n",
       "    </tr>\n",
       "    <tr>\n",
       "      <th>1372</th>\n",
       "      <td>chasse sous</td>\n",
       "      <td>1372</td>\n",
       "      <td>-1.655578</td>\n",
       "      <td>4.957017e-06</td>\n",
       "    </tr>\n",
       "    <tr>\n",
       "      <th>4942</th>\n",
       "      <td>yu gi</td>\n",
       "      <td>4942</td>\n",
       "      <td>-1.723673</td>\n",
       "      <td>1.959647e-43</td>\n",
       "    </tr>\n",
       "    <tr>\n",
       "      <th>1084</th>\n",
       "      <td>bath body</td>\n",
       "      <td>1084</td>\n",
       "      <td>-1.836075</td>\n",
       "      <td>1.468648e-06</td>\n",
       "    </tr>\n",
       "    <tr>\n",
       "      <th>4186</th>\n",
       "      <td>somebody used</td>\n",
       "      <td>4186</td>\n",
       "      <td>-1.864296</td>\n",
       "      <td>8.027923e-07</td>\n",
       "    </tr>\n",
       "    <tr>\n",
       "      <th>4144</th>\n",
       "      <td>skylanders swap</td>\n",
       "      <td>4144</td>\n",
       "      <td>-1.927097</td>\n",
       "      <td>4.283380e-07</td>\n",
       "    </tr>\n",
       "  </tbody>\n",
       "</table>\n",
       "</div>"
      ],
      "text/plain": [
       "                 word  feature_id      coef             p\n",
       "1925        eyed peas        1925 -1.338781  7.361969e-16\n",
       "2781       last light        2781 -1.346087  1.844461e-06\n",
       "4574   trans siberian        4574 -1.491705  3.037604e-07\n",
       "882       albert hall         882 -1.498994  5.705677e-12\n",
       "4950   zombies garden        4950 -1.560755  2.139907e-06\n",
       "1372      chasse sous        1372 -1.655578  4.957017e-06\n",
       "4942            yu gi        4942 -1.723673  1.959647e-43\n",
       "1084        bath body        1084 -1.836075  1.468648e-06\n",
       "4186    somebody used        4186 -1.864296  8.027923e-07\n",
       "4144  skylanders swap        4144 -1.927097  4.283380e-07"
      ]
     },
     "execution_count": 50,
     "metadata": {},
     "output_type": "execute_result"
    }
   ],
   "source": [
    "views_stat.tail(10)"
   ]
  },
  {
   "cell_type": "markdown",
   "metadata": {},
   "source": [
    "### What about 3?"
   ]
  },
  {
   "cell_type": "code",
   "execution_count": 51,
   "metadata": {
    "collapsed": true
   },
   "outputs": [],
   "source": [
    "vectorizer = CountVectorizer(analyzer = \"word\",   \\\n",
    "                             tokenizer = None,    \\\n",
    "                             preprocessor = None, \\\n",
    "                             stop_words = None,   \\\n",
    "                             max_features = 5000,\\\n",
    "                             ngram_range = (3, 3))\n",
    "features = vectorizer.fit_transform(pure_tokens)\n",
    "feature_names = vectorizer.get_feature_names()\n",
    "fs, ps = f_regression(features, np.log(dat['views']), center=False)\n",
    "alpha = 0.01\n",
    "sig_inds = np.where(ps < alpha)[0]\n",
    "reg = LinearRegression(n_jobs=4)\n",
    "reg.fit(features, np.log(dat['views']))\n",
    "views_stat = pd.DataFrame({\"feature_id\": sig_inds,\n",
    "              \"word\": np.array(feature_names)[sig_inds],\n",
    "              \"coef\": reg.coef_[sig_inds], \n",
    "              \"p\": ps[sig_inds]}).sort_values('coef', ascending=False)[['word', 'feature_id', 'coef', 'p']]"
   ]
  },
  {
   "cell_type": "code",
   "execution_count": 52,
   "metadata": {
    "collapsed": false
   },
   "outputs": [
    {
     "data": {
      "text/html": [
       "<div>\n",
       "<table border=\"1\" class=\"dataframe\">\n",
       "  <thead>\n",
       "    <tr style=\"text-align: right;\">\n",
       "      <th></th>\n",
       "      <th>word</th>\n",
       "      <th>feature_id</th>\n",
       "      <th>coef</th>\n",
       "      <th>p</th>\n",
       "    </tr>\n",
       "  </thead>\n",
       "  <tbody>\n",
       "    <tr>\n",
       "      <th>2155</th>\n",
       "      <td>lol moments episode</td>\n",
       "      <td>2636</td>\n",
       "      <td>5.797829</td>\n",
       "      <td>1.739851e-05</td>\n",
       "    </tr>\n",
       "    <tr>\n",
       "      <th>3372</th>\n",
       "      <td>spotlight league legends</td>\n",
       "      <td>4101</td>\n",
       "      <td>5.596789</td>\n",
       "      <td>7.279373e-05</td>\n",
       "    </tr>\n",
       "    <tr>\n",
       "      <th>3491</th>\n",
       "      <td>surprise egg learn</td>\n",
       "      <td>4242</td>\n",
       "      <td>4.977492</td>\n",
       "      <td>4.427025e-05</td>\n",
       "    </tr>\n",
       "    <tr>\n",
       "      <th>1407</th>\n",
       "      <td>girls rainbow rocks</td>\n",
       "      <td>1741</td>\n",
       "      <td>4.605891</td>\n",
       "      <td>5.930941e-07</td>\n",
       "    </tr>\n",
       "    <tr>\n",
       "      <th>2880</th>\n",
       "      <td>play doh peppa</td>\n",
       "      <td>3499</td>\n",
       "      <td>4.313814</td>\n",
       "      <td>1.991457e-05</td>\n",
       "    </tr>\n",
       "    <tr>\n",
       "      <th>2234</th>\n",
       "      <td>mario 3d land</td>\n",
       "      <td>2736</td>\n",
       "      <td>4.259233</td>\n",
       "      <td>9.026767e-06</td>\n",
       "    </tr>\n",
       "    <tr>\n",
       "      <th>2665</th>\n",
       "      <td>official disney channel</td>\n",
       "      <td>3238</td>\n",
       "      <td>4.157216</td>\n",
       "      <td>1.896397e-04</td>\n",
       "    </tr>\n",
       "    <tr>\n",
       "      <th>2351</th>\n",
       "      <td>minecraft mob battles</td>\n",
       "      <td>2873</td>\n",
       "      <td>4.091725</td>\n",
       "      <td>1.326052e-04</td>\n",
       "    </tr>\n",
       "    <tr>\n",
       "      <th>231</th>\n",
       "      <td>3gs ipod touch</td>\n",
       "      <td>356</td>\n",
       "      <td>3.982495</td>\n",
       "      <td>1.034121e-04</td>\n",
       "    </tr>\n",
       "    <tr>\n",
       "      <th>3704</th>\n",
       "      <td>tv top 10</td>\n",
       "      <td>4495</td>\n",
       "      <td>3.905590</td>\n",
       "      <td>3.248346e-07</td>\n",
       "    </tr>\n",
       "  </tbody>\n",
       "</table>\n",
       "</div>"
      ],
      "text/plain": [
       "                          word  feature_id      coef             p\n",
       "2155       lol moments episode        2636  5.797829  1.739851e-05\n",
       "3372  spotlight league legends        4101  5.596789  7.279373e-05\n",
       "3491        surprise egg learn        4242  4.977492  4.427025e-05\n",
       "1407       girls rainbow rocks        1741  4.605891  5.930941e-07\n",
       "2880            play doh peppa        3499  4.313814  1.991457e-05\n",
       "2234             mario 3d land        2736  4.259233  9.026767e-06\n",
       "2665   official disney channel        3238  4.157216  1.896397e-04\n",
       "2351     minecraft mob battles        2873  4.091725  1.326052e-04\n",
       "231             3gs ipod touch         356  3.982495  1.034121e-04\n",
       "3704                 tv top 10        4495  3.905590  3.248346e-07"
      ]
     },
     "execution_count": 52,
     "metadata": {},
     "output_type": "execute_result"
    }
   ],
   "source": [
    "views_stat.head(10)"
   ]
  },
  {
   "cell_type": "code",
   "execution_count": 53,
   "metadata": {
    "collapsed": false
   },
   "outputs": [
    {
     "data": {
      "text/html": [
       "<div>\n",
       "<table border=\"1\" class=\"dataframe\">\n",
       "  <thead>\n",
       "    <tr style=\"text-align: right;\">\n",
       "      <th></th>\n",
       "      <th>word</th>\n",
       "      <th>feature_id</th>\n",
       "      <th>coef</th>\n",
       "      <th>p</th>\n",
       "    </tr>\n",
       "  </thead>\n",
       "  <tbody>\n",
       "    <tr>\n",
       "      <th>3790</th>\n",
       "      <td>vii advent children</td>\n",
       "      <td>4588</td>\n",
       "      <td>-2.552412</td>\n",
       "      <td>4.498069e-03</td>\n",
       "    </tr>\n",
       "    <tr>\n",
       "      <th>978</th>\n",
       "      <td>doh peppa pig</td>\n",
       "      <td>1240</td>\n",
       "      <td>-2.640899</td>\n",
       "      <td>1.865725e-04</td>\n",
       "    </tr>\n",
       "    <tr>\n",
       "      <th>766</th>\n",
       "      <td>clash clans town</td>\n",
       "      <td>985</td>\n",
       "      <td>-2.852679</td>\n",
       "      <td>5.329695e-06</td>\n",
       "    </tr>\n",
       "    <tr>\n",
       "      <th>4116</th>\n",
       "      <td>موقع نفهم موقع</td>\n",
       "      <td>4971</td>\n",
       "      <td>-3.192902</td>\n",
       "      <td>5.956471e-03</td>\n",
       "    </tr>\n",
       "    <tr>\n",
       "      <th>1052</th>\n",
       "      <td>egg learn word</td>\n",
       "      <td>1327</td>\n",
       "      <td>-3.310927</td>\n",
       "      <td>1.504307e-04</td>\n",
       "    </tr>\n",
       "    <tr>\n",
       "      <th>1083</th>\n",
       "      <td>equestria girls rainbow</td>\n",
       "      <td>1361</td>\n",
       "      <td>-3.503676</td>\n",
       "      <td>4.505173e-07</td>\n",
       "    </tr>\n",
       "    <tr>\n",
       "      <th>1421</th>\n",
       "      <td>go far kid</td>\n",
       "      <td>1757</td>\n",
       "      <td>-3.530142</td>\n",
       "      <td>5.936652e-04</td>\n",
       "    </tr>\n",
       "    <tr>\n",
       "      <th>3463</th>\n",
       "      <td>super mario 3d</td>\n",
       "      <td>4214</td>\n",
       "      <td>-3.688581</td>\n",
       "      <td>3.082788e-10</td>\n",
       "    </tr>\n",
       "    <tr>\n",
       "      <th>2223</th>\n",
       "      <td>man web shadows</td>\n",
       "      <td>2720</td>\n",
       "      <td>-3.971966</td>\n",
       "      <td>7.687022e-03</td>\n",
       "    </tr>\n",
       "    <tr>\n",
       "      <th>1797</th>\n",
       "      <td>iphone 3gs ipod</td>\n",
       "      <td>2216</td>\n",
       "      <td>-4.451688</td>\n",
       "      <td>2.731455e-03</td>\n",
       "    </tr>\n",
       "  </tbody>\n",
       "</table>\n",
       "</div>"
      ],
      "text/plain": [
       "                         word  feature_id      coef             p\n",
       "3790      vii advent children        4588 -2.552412  4.498069e-03\n",
       "978             doh peppa pig        1240 -2.640899  1.865725e-04\n",
       "766          clash clans town         985 -2.852679  5.329695e-06\n",
       "4116           موقع نفهم موقع        4971 -3.192902  5.956471e-03\n",
       "1052           egg learn word        1327 -3.310927  1.504307e-04\n",
       "1083  equestria girls rainbow        1361 -3.503676  4.505173e-07\n",
       "1421               go far kid        1757 -3.530142  5.936652e-04\n",
       "3463           super mario 3d        4214 -3.688581  3.082788e-10\n",
       "2223          man web shadows        2720 -3.971966  7.687022e-03\n",
       "1797          iphone 3gs ipod        2216 -4.451688  2.731455e-03"
      ]
     },
     "execution_count": 53,
     "metadata": {},
     "output_type": "execute_result"
    }
   ],
   "source": [
    "views_stat.tail(10)"
   ]
  },
  {
   "cell_type": "code",
   "execution_count": null,
   "metadata": {
    "collapsed": true
   },
   "outputs": [],
   "source": []
  }
 ],
 "metadata": {
  "anaconda-cloud": {},
  "kernelspec": {
   "display_name": "Python [Root]",
   "language": "python",
   "name": "Python [Root]"
  },
  "language_info": {
   "codemirror_mode": {
    "name": "ipython",
    "version": 3
   },
   "file_extension": ".py",
   "mimetype": "text/x-python",
   "name": "python",
   "nbconvert_exporter": "python",
   "pygments_lexer": "ipython3",
   "version": "3.5.2"
  }
 },
 "nbformat": 4,
 "nbformat_minor": 0
}

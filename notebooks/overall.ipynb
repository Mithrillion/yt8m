{
 "cells": [
  {
   "cell_type": "markdown",
   "metadata": {},
   "source": [
    "***Data Exploration***"
   ]
  },
  {
   "cell_type": "markdown",
   "metadata": {},
   "source": [
    "Dataset composition:\n",
    "1. videoID + labels\n",
    "2. video_id,duration,title,channel_id,channel_title,published_at,views,likes,dislikes,comments"
   ]
  },
  {
   "cell_type": "markdown",
   "metadata": {},
   "source": [
    "Exploration goals:\n",
    "1. ~~Find the most popular content types~~.\n",
    "2. ~~Find the relationship between different content tags and clusters of content types. Find the major content clusters~~.\n",
    "3. Group videos into major clusters and run some basic stats on the video info table. Find and contrast the basic stats of different clusters:\n",
    "    a. compare the average duration of videos in different clusters or specific popular tags\n",
    "    b. compare the popularity (view count) of different clusters over time\n",
    "    c. compare the controversy of different clusters and certain tags\n",
    "4. Investigate the view count / like count growth pattern\n",
    "5. Investigate channels. Find the most popular channels in each cluster. Find whether content creators make contents in multiple content categories.\n",
    "6. Investigate view count distribution among channels.\n",
    "7. Investiage the relationship between title and popularity."
   ]
  },
  {
   "cell_type": "code",
   "execution_count": null,
   "metadata": {
    "collapsed": true
   },
   "outputs": [],
   "source": []
  }
 ],
 "metadata": {
  "anaconda-cloud": {},
  "kernelspec": {
   "display_name": "Python [Root]",
   "language": "python",
   "name": "Python [Root]"
  },
  "language_info": {
   "codemirror_mode": {
    "name": "ipython",
    "version": 3
   },
   "file_extension": ".py",
   "mimetype": "text/x-python",
   "name": "python",
   "nbconvert_exporter": "python",
   "pygments_lexer": "ipython3",
   "version": "3.5.2"
  }
 },
 "nbformat": 4,
 "nbformat_minor": 0
}

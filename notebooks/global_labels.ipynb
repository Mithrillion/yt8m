{
 "cells": [
  {
   "cell_type": "code",
   "execution_count": 2,
   "metadata": {
    "collapsed": true
   },
   "outputs": [],
   "source": [
    "import numpy as np\n",
    "import pandas as pd\n",
    "import matplotlib.pyplot as plt\n",
    "%matplotlib inline"
   ]
  },
  {
   "cell_type": "code",
   "execution_count": 3,
   "metadata": {
    "collapsed": false
   },
   "outputs": [
    {
     "data": {
      "text/html": [
       "<div>\n",
       "<table border=\"1\" class=\"dataframe\">\n",
       "  <thead>\n",
       "    <tr style=\"text-align: right;\">\n",
       "      <th></th>\n",
       "      <th>label_id</th>\n",
       "      <th>label_name</th>\n",
       "    </tr>\n",
       "  </thead>\n",
       "  <tbody>\n",
       "    <tr>\n",
       "      <th>0</th>\n",
       "      <td>0</td>\n",
       "      <td>Games</td>\n",
       "    </tr>\n",
       "    <tr>\n",
       "      <th>1</th>\n",
       "      <td>1</td>\n",
       "      <td>Vehicle</td>\n",
       "    </tr>\n",
       "    <tr>\n",
       "      <th>2</th>\n",
       "      <td>2</td>\n",
       "      <td>Video game</td>\n",
       "    </tr>\n",
       "    <tr>\n",
       "      <th>3</th>\n",
       "      <td>3</td>\n",
       "      <td>Concert</td>\n",
       "    </tr>\n",
       "    <tr>\n",
       "      <th>4</th>\n",
       "      <td>4</td>\n",
       "      <td>Car</td>\n",
       "    </tr>\n",
       "  </tbody>\n",
       "</table>\n",
       "</div>"
      ],
      "text/plain": [
       "   label_id  label_name\n",
       "0         0       Games\n",
       "1         1     Vehicle\n",
       "2         2  Video game\n",
       "3         3     Concert\n",
       "4         4         Car"
      ]
     },
     "execution_count": 3,
     "metadata": {},
     "output_type": "execute_result"
    }
   ],
   "source": [
    "labels = pd.read_csv(\"../label_names.csv\")\n",
    "labels.head()"
   ]
  },
  {
   "cell_type": "code",
   "execution_count": 4,
   "metadata": {
    "collapsed": false
   },
   "outputs": [
    {
     "data": {
      "text/html": [
       "<div>\n",
       "<table border=\"1\" class=\"dataframe\">\n",
       "  <thead>\n",
       "    <tr style=\"text-align: right;\">\n",
       "      <th></th>\n",
       "      <th>0</th>\n",
       "      <th>1</th>\n",
       "    </tr>\n",
       "  </thead>\n",
       "  <tbody>\n",
       "    <tr>\n",
       "      <th>0</th>\n",
       "      <td>--DwgB78t-c</td>\n",
       "      <td>16 5 430</td>\n",
       "    </tr>\n",
       "    <tr>\n",
       "      <th>1</th>\n",
       "      <td>--NZRkXBV7k</td>\n",
       "      <td>128 3 39 7 44 13 16 30</td>\n",
       "    </tr>\n",
       "    <tr>\n",
       "      <th>2</th>\n",
       "      <td>--hoQ2sGG4M</td>\n",
       "      <td>694</td>\n",
       "    </tr>\n",
       "    <tr>\n",
       "      <th>3</th>\n",
       "      <td>--ABhs9ik7c</td>\n",
       "      <td>2232 1 4 517 270</td>\n",
       "    </tr>\n",
       "    <tr>\n",
       "      <th>4</th>\n",
       "      <td>--sBoaqBlzA</td>\n",
       "      <td>45 125</td>\n",
       "    </tr>\n",
       "  </tbody>\n",
       "</table>\n",
       "</div>"
      ],
      "text/plain": [
       "             0                       1\n",
       "0  --DwgB78t-c                16 5 430\n",
       "1  --NZRkXBV7k  128 3 39 7 44 13 16 30\n",
       "2  --hoQ2sGG4M                     694\n",
       "3  --ABhs9ik7c        2232 1 4 517 270\n",
       "4  --sBoaqBlzA                  45 125"
      ]
     },
     "execution_count": 4,
     "metadata": {},
     "output_type": "execute_result"
    }
   ],
   "source": [
    "videos = pd.read_csv(\"../train_labels.csv\", header=None)\n",
    "videos.head()"
   ]
  },
  {
   "cell_type": "code",
   "execution_count": 5,
   "metadata": {
    "collapsed": false
   },
   "outputs": [
    {
     "data": {
      "text/html": [
       "<div>\n",
       "<table border=\"1\" class=\"dataframe\">\n",
       "  <thead>\n",
       "    <tr style=\"text-align: right;\">\n",
       "      <th></th>\n",
       "      <th>video_id</th>\n",
       "      <th>labels</th>\n",
       "    </tr>\n",
       "  </thead>\n",
       "  <tbody>\n",
       "    <tr>\n",
       "      <th>0</th>\n",
       "      <td>--DwgB78t-c</td>\n",
       "      <td>16 5 430</td>\n",
       "    </tr>\n",
       "    <tr>\n",
       "      <th>1</th>\n",
       "      <td>--NZRkXBV7k</td>\n",
       "      <td>128 3 39 7 44 13 16 30</td>\n",
       "    </tr>\n",
       "    <tr>\n",
       "      <th>2</th>\n",
       "      <td>--hoQ2sGG4M</td>\n",
       "      <td>694</td>\n",
       "    </tr>\n",
       "    <tr>\n",
       "      <th>3</th>\n",
       "      <td>--ABhs9ik7c</td>\n",
       "      <td>2232 1 4 517 270</td>\n",
       "    </tr>\n",
       "    <tr>\n",
       "      <th>4</th>\n",
       "      <td>--sBoaqBlzA</td>\n",
       "      <td>45 125</td>\n",
       "    </tr>\n",
       "  </tbody>\n",
       "</table>\n",
       "</div>"
      ],
      "text/plain": [
       "      video_id                  labels\n",
       "0  --DwgB78t-c                16 5 430\n",
       "1  --NZRkXBV7k  128 3 39 7 44 13 16 30\n",
       "2  --hoQ2sGG4M                     694\n",
       "3  --ABhs9ik7c        2232 1 4 517 270\n",
       "4  --sBoaqBlzA                  45 125"
      ]
     },
     "execution_count": 5,
     "metadata": {},
     "output_type": "execute_result"
    }
   ],
   "source": [
    "videos.columns = ['video_id', 'labels']\n",
    "videos.head()"
   ]
  },
  {
   "cell_type": "markdown",
   "metadata": {},
   "source": [
    "Counting labels"
   ]
  },
  {
   "cell_type": "code",
   "execution_count": 6,
   "metadata": {
    "collapsed": true
   },
   "outputs": [],
   "source": [
    "from collections import Counter\n",
    "from itertools import chain"
   ]
  },
  {
   "cell_type": "code",
   "execution_count": 7,
   "metadata": {
    "collapsed": false
   },
   "outputs": [
    {
     "data": {
      "text/plain": [
       "0                       [16, 5, 430]\n",
       "1    [128, 3, 39, 7, 44, 13, 16, 30]\n",
       "2                              [694]\n",
       "3             [2232, 1, 4, 517, 270]\n",
       "4                          [45, 125]\n",
       "Name: labels, dtype: object"
      ]
     },
     "execution_count": 7,
     "metadata": {},
     "output_type": "execute_result"
    }
   ],
   "source": [
    "separated = videos['labels'].apply(lambda x: x.split(\" \"))\n",
    "separated.head()"
   ]
  },
  {
   "cell_type": "code",
   "execution_count": 8,
   "metadata": {
    "collapsed": false
   },
   "outputs": [
    {
     "data": {
      "text/plain": [
       "['16', '5', '430', '128', '3', '39', '7', '44', '13', '16']"
      ]
     },
     "execution_count": 8,
     "metadata": {},
     "output_type": "execute_result"
    }
   ],
   "source": [
    "all_labels = list(chain.from_iterable(separated))\n",
    "all_labels[:10]"
   ]
  },
  {
   "cell_type": "code",
   "execution_count": 9,
   "metadata": {
    "collapsed": false
   },
   "outputs": [
    {
     "data": {
      "text/plain": [
       "[('0', 859519),\n",
       " ('1', 678257),\n",
       " ('2', 518981),\n",
       " ('3', 494707),\n",
       " ('4', 371391),\n",
       " ('5', 303295),\n",
       " ('6', 296624),\n",
       " ('7', 295199),\n",
       " ('8', 217920),\n",
       " ('9', 214887)]"
      ]
     },
     "execution_count": 9,
     "metadata": {},
     "output_type": "execute_result"
    }
   ],
   "source": [
    "labels_count = Counter(all_labels)\n",
    "labels_count.most_common(10)"
   ]
  },
  {
   "cell_type": "code",
   "execution_count": 10,
   "metadata": {
    "collapsed": false
   },
   "outputs": [
    {
     "data": {
      "text/plain": [
       "0    859519\n",
       "1    678257\n",
       "2    518981\n",
       "3    494707\n",
       "4    371391\n",
       "5    303295\n",
       "6    296624\n",
       "7    295199\n",
       "8    217920\n",
       "9    214887\n",
       "Name: label_id, dtype: int64"
      ]
     },
     "execution_count": 10,
     "metadata": {},
     "output_type": "execute_result"
    }
   ],
   "source": [
    "col_counts = labels['label_id'].apply(lambda x: labels_count[str(x)])\n",
    "col_counts[:10]"
   ]
  },
  {
   "cell_type": "code",
   "execution_count": 11,
   "metadata": {
    "collapsed": false
   },
   "outputs": [
    {
     "data": {
      "text/html": [
       "<div>\n",
       "<table border=\"1\" class=\"dataframe\">\n",
       "  <thead>\n",
       "    <tr style=\"text-align: right;\">\n",
       "      <th></th>\n",
       "      <th>label_id</th>\n",
       "      <th>label_name</th>\n",
       "      <th>count</th>\n",
       "    </tr>\n",
       "  </thead>\n",
       "  <tbody>\n",
       "    <tr>\n",
       "      <th>0</th>\n",
       "      <td>0</td>\n",
       "      <td>Games</td>\n",
       "      <td>859519</td>\n",
       "    </tr>\n",
       "    <tr>\n",
       "      <th>1</th>\n",
       "      <td>1</td>\n",
       "      <td>Vehicle</td>\n",
       "      <td>678257</td>\n",
       "    </tr>\n",
       "    <tr>\n",
       "      <th>2</th>\n",
       "      <td>2</td>\n",
       "      <td>Video game</td>\n",
       "      <td>518981</td>\n",
       "    </tr>\n",
       "    <tr>\n",
       "      <th>3</th>\n",
       "      <td>3</td>\n",
       "      <td>Concert</td>\n",
       "      <td>494707</td>\n",
       "    </tr>\n",
       "    <tr>\n",
       "      <th>4</th>\n",
       "      <td>4</td>\n",
       "      <td>Car</td>\n",
       "      <td>371391</td>\n",
       "    </tr>\n",
       "  </tbody>\n",
       "</table>\n",
       "</div>"
      ],
      "text/plain": [
       "   label_id  label_name   count\n",
       "0         0       Games  859519\n",
       "1         1     Vehicle  678257\n",
       "2         2  Video game  518981\n",
       "3         3     Concert  494707\n",
       "4         4         Car  371391"
      ]
     },
     "execution_count": 11,
     "metadata": {},
     "output_type": "execute_result"
    }
   ],
   "source": [
    "labels['count'] = col_counts\n",
    "labels.head()"
   ]
  },
  {
   "cell_type": "markdown",
   "metadata": {},
   "source": [
    "Plot the top 15 labels"
   ]
  },
  {
   "cell_type": "code",
   "execution_count": 12,
   "metadata": {
    "collapsed": false
   },
   "outputs": [
    {
     "data": {
      "image/png": "[encoded data removed]",
      "text/plain": [
       "<matplotlib.figure.Figure at 0x7fb77f6a3908>"
      ]
     },
     "metadata": {},
     "output_type": "display_data"
    }
   ],
   "source": [
    "labels.ix[:15, 1:].plot.bar(figsize=(12, 12))\n",
    "plt.xticks(range(16), labels.ix[:15, 1], rotation='vertical')\n",
    "plt.show()"
   ]
  },
  {
   "cell_type": "code",
   "execution_count": 13,
   "metadata": {
    "collapsed": false
   },
   "outputs": [
    {
     "name": "stdout",
     "output_type": "stream",
     "text": [
      "11301584\n"
     ]
    }
   ],
   "source": [
    "others = np.sum(labels['count'][16:])\n",
    "print(others)"
   ]
  },
  {
   "cell_type": "code",
   "execution_count": 52,
   "metadata": {
    "collapsed": false
   },
   "outputs": [],
   "source": [
    "top_labels = labels.ix[:15, :]"
   ]
  },
  {
   "cell_type": "code",
   "execution_count": 53,
   "metadata": {
    "collapsed": false
   },
   "outputs": [
    {
     "name": "stderr",
     "output_type": "stream",
     "text": [
      "/home/mithrillion/anaconda3/lib/python3.5/site-packages/ipykernel/__main__.py:1: SettingWithCopyWarning: \n",
      "A value is trying to be set on a copy of a slice from a DataFrame\n",
      "\n",
      "See the caveats in the documentation: http://pandas.pydata.org/pandas-docs/stable/indexing.html#indexing-view-versus-copy\n",
      "  if __name__ == '__main__':\n"
     ]
    }
   ],
   "source": [
    "top_labels.loc[16, :] = [16, 'Others', others]"
   ]
  },
  {
   "cell_type": "code",
   "execution_count": 55,
   "metadata": {
    "collapsed": false,
    "scrolled": false
   },
   "outputs": [
    {
     "data": {
      "image/png": "[encoded data removed]",
      "text/plain": [
       "<matplotlib.figure.Figure at 0x7fb73caa2c18>"
      ]
     },
     "metadata": {},
     "output_type": "display_data"
    }
   ],
   "source": [
    "ax = top_labels.plot.pie(y='count', figsize=(12, 12))\n",
    "plt.legend(loc='lower right', labels=top_labels['label_name'])\n",
    "plt.show()"
   ]
  },
  {
   "cell_type": "markdown",
   "metadata": {},
   "source": [
    "Now we look at co-occurence of labels"
   ]
  },
  {
   "cell_type": "code",
   "execution_count": 17,
   "metadata": {
    "collapsed": false
   },
   "outputs": [
    {
     "data": {
      "text/html": [
       "<div>\n",
       "<table border=\"1\" class=\"dataframe\">\n",
       "  <thead>\n",
       "    <tr style=\"text-align: right;\">\n",
       "      <th></th>\n",
       "      <th>video_id</th>\n",
       "      <th>labels</th>\n",
       "    </tr>\n",
       "  </thead>\n",
       "  <tbody>\n",
       "    <tr>\n",
       "      <th>0</th>\n",
       "      <td>--DwgB78t-c</td>\n",
       "      <td>16 5 430</td>\n",
       "    </tr>\n",
       "    <tr>\n",
       "      <th>1</th>\n",
       "      <td>--NZRkXBV7k</td>\n",
       "      <td>128 3 39 7 44 13 16 30</td>\n",
       "    </tr>\n",
       "    <tr>\n",
       "      <th>2</th>\n",
       "      <td>--hoQ2sGG4M</td>\n",
       "      <td>694</td>\n",
       "    </tr>\n",
       "    <tr>\n",
       "      <th>3</th>\n",
       "      <td>--ABhs9ik7c</td>\n",
       "      <td>2232 1 4 517 270</td>\n",
       "    </tr>\n",
       "    <tr>\n",
       "      <th>4</th>\n",
       "      <td>--sBoaqBlzA</td>\n",
       "      <td>45 125</td>\n",
       "    </tr>\n",
       "  </tbody>\n",
       "</table>\n",
       "</div>"
      ],
      "text/plain": [
       "      video_id                  labels\n",
       "0  --DwgB78t-c                16 5 430\n",
       "1  --NZRkXBV7k  128 3 39 7 44 13 16 30\n",
       "2  --hoQ2sGG4M                     694\n",
       "3  --ABhs9ik7c        2232 1 4 517 270\n",
       "4  --sBoaqBlzA                  45 125"
      ]
     },
     "execution_count": 17,
     "metadata": {},
     "output_type": "execute_result"
    }
   ],
   "source": [
    "videos.head()"
   ]
  },
  {
   "cell_type": "code",
   "execution_count": 18,
   "metadata": {
    "collapsed": false
   },
   "outputs": [
    {
     "data": {
      "text/plain": [
       "(4716, 3)"
      ]
     },
     "execution_count": 18,
     "metadata": {},
     "output_type": "execute_result"
    }
   ],
   "source": [
    "labels.shape"
   ]
  },
  {
   "cell_type": "code",
   "execution_count": 19,
   "metadata": {
    "collapsed": true
   },
   "outputs": [],
   "source": [
    "N_LABELS = labels.shape[0]"
   ]
  },
  {
   "cell_type": "code",
   "execution_count": 20,
   "metadata": {
    "collapsed": true
   },
   "outputs": [],
   "source": [
    "def string_to_list(s):\n",
    "    return np.fromstring(s, dtype=np.uint16, sep=' ')"
   ]
  },
  {
   "cell_type": "code",
   "execution_count": 21,
   "metadata": {
    "collapsed": false
   },
   "outputs": [
    {
     "data": {
      "text/plain": [
       "array([ 16,   5, 430], dtype=uint16)"
      ]
     },
     "execution_count": 21,
     "metadata": {},
     "output_type": "execute_result"
    }
   ],
   "source": [
    "string_to_list('16 5 430')"
   ]
  },
  {
   "cell_type": "code",
   "execution_count": 37,
   "metadata": {
    "collapsed": true
   },
   "outputs": [],
   "source": [
    "from scipy.sparse import dok_matrix\n",
    "import pickle"
   ]
  },
  {
   "cell_type": "code",
   "execution_count": 23,
   "metadata": {
    "collapsed": true
   },
   "outputs": [],
   "source": [
    "N_VIDEOS = videos.shape[0]"
   ]
  },
  {
   "cell_type": "code",
   "execution_count": 24,
   "metadata": {
    "collapsed": false
   },
   "outputs": [
    {
     "name": "stdout",
     "output_type": "stream",
     "text": [
      "4906660 4716\n"
     ]
    }
   ],
   "source": [
    "print(N_VIDEOS, N_LABELS)"
   ]
  },
  {
   "cell_type": "code",
   "execution_count": 25,
   "metadata": {
    "collapsed": false
   },
   "outputs": [
    {
     "data": {
      "text/plain": [
       "<4906660x4716 sparse matrix of type '<class 'numpy.uint32'>'\n",
       "\twith 0 stored elements in Dictionary Of Keys format>"
      ]
     },
     "execution_count": 25,
     "metadata": {},
     "output_type": "execute_result"
    }
   ],
   "source": [
    "binary_mat = dok_matrix((N_VIDEOS, N_LABELS), dtype=np.uint32)\n",
    "binary_mat"
   ]
  },
  {
   "cell_type": "code",
   "execution_count": 26,
   "metadata": {
    "collapsed": false
   },
   "outputs": [],
   "source": [
    "for row in range(N_VIDEOS):\n",
    "    for col in string_to_list(videos.ix[row, 'labels']):\n",
    "        binary_mat[row, col] = 1"
   ]
  },
  {
   "cell_type": "code",
   "execution_count": 27,
   "metadata": {
    "collapsed": false
   },
   "outputs": [],
   "source": [
    "co_mat = binary_mat.T.dot(binary_mat)"
   ]
  },
  {
   "cell_type": "code",
   "execution_count": 99,
   "metadata": {
    "collapsed": false
   },
   "outputs": [
    {
     "data": {
      "text/plain": [
       "<4716x4716 sparse matrix of type '<class 'numpy.uint32'>'\n",
       "\twith 1093202 stored elements in Compressed Sparse Row format>"
      ]
     },
     "execution_count": 99,
     "metadata": {},
     "output_type": "execute_result"
    }
   ],
   "source": [
    "co_mat"
   ]
  },
  {
   "cell_type": "code",
   "execution_count": 38,
   "metadata": {
    "collapsed": true
   },
   "outputs": [],
   "source": [
    "pickle.dump(co_mat, open(\"co_mat.pkl\", \"wb\"))"
   ]
  },
  {
   "cell_type": "code",
   "execution_count": 29,
   "metadata": {
    "collapsed": false
   },
   "outputs": [],
   "source": [
    "co_mat_dense = co_mat[:20, :20].todense()"
   ]
  },
  {
   "cell_type": "code",
   "execution_count": 30,
   "metadata": {
    "collapsed": false
   },
   "outputs": [
    {
     "data": {
      "image/png": "[encoded data removed]",
      "text/plain": [
       "<matplotlib.figure.Figure at 0x7fb68bbb6978>"
      ]
     },
     "metadata": {},
     "output_type": "display_data"
    }
   ],
   "source": [
    "plt.figure(figsize=(12, 12))\n",
    "plt.imshow(co_mat_dense, cmap='hot', interpolation='nearest')\n",
    "plt.xticks(range(20), labels['label_name'][:20], rotation='vertical')\n",
    "plt.yticks(range(20), labels['label_name'][:20], rotation='horizontal')\n",
    "plt.gca().xaxis.tick_top()\n",
    "plt.show()"
   ]
  },
  {
   "cell_type": "code",
   "execution_count": 56,
   "metadata": {
    "collapsed": true
   },
   "outputs": [],
   "source": [
    "co_mat_dense = co_mat[:100, :100].todense()"
   ]
  },
  {
   "cell_type": "code",
   "execution_count": 69,
   "metadata": {
    "collapsed": false
   },
   "outputs": [],
   "source": [
    "co_mat_dense_no_diag = co_mat_dense - np.diag(co_mat_dense) * np.eye(co_mat_dense.shape[0], dtype=\"uint32\")"
   ]
  },
  {
   "cell_type": "code",
   "execution_count": 59,
   "metadata": {
    "collapsed": false
   },
   "outputs": [
    {
     "data": {
      "text/plain": [
       "(0, 0)"
      ]
     },
     "execution_count": 59,
     "metadata": {},
     "output_type": "execute_result"
    }
   ],
   "source": [
    "np.unravel_index(np.argmax(co_mat_dense), dims=co_mat_dense.shape)"
   ]
  },
  {
   "cell_type": "code",
   "execution_count": 120,
   "metadata": {
    "collapsed": false
   },
   "outputs": [
    {
     "data": {
      "text/plain": [
       "array([859519, 678257, 518981, 494707, 371391, 303295, 296624, 295199,\n",
       "       217920, 214887, 202073, 196804, 195310, 169704, 162048, 161089,\n",
       "       159726, 119952, 109582, 106519,  96490,  94418,  92185,  89874,\n",
       "        85567,  84609,  84323,  83730,  83789,  81896,  78544,  73917,\n",
       "        72524,  72133,  68156,  66591,  63601,  60669,  60124,  59004,\n",
       "        58713,  58654,  58338,  58481,  57300,  57374,  56559,  55210,\n",
       "        52328,  52169,  49773,  49379,  49554,  48472,  47320,  47171,\n",
       "        47048,  45787,  45965,  44648,  43467,  43247,  43063,  42781,\n",
       "        42650,  42257,  39842,  38538,  38932,  37796,  36455,  36008,\n",
       "        36163,  35946,  35550,  34729,  34128,  34129,  33904,  33695,\n",
       "        32913,  32592,  32474,  32171,  32121,  31875,  31944,  30772,\n",
       "        30933,  30468,  30378,  30461,  30431,  30250,  29719,  29465,\n",
       "        29313,  29137,  28953,  28944], dtype=uint32)"
      ]
     },
     "execution_count": 120,
     "metadata": {},
     "output_type": "execute_result"
    }
   ],
   "source": [
    "counts = np.diag(co_mat_dense)\n",
    "counts"
   ]
  },
  {
   "cell_type": "code",
   "execution_count": 71,
   "metadata": {
    "collapsed": false
   },
   "outputs": [
    {
     "data": {
      "text/plain": [
       "matrix([[859519,  48552, 450313, ...,    547,    112,    842],\n",
       "        [ 48552, 678257,  44848, ...,    507,    585,    586],\n",
       "        [450313,  44848, 518981, ...,    268,     49,    476],\n",
       "        ..., \n",
       "        [   547,    507,    268, ...,  29137,     12,    126],\n",
       "        [   112,    585,     49, ...,     12,  28953,    229],\n",
       "        [   842,    586,    476, ...,    126,    229,  28944]], dtype=uint32)"
      ]
     },
     "execution_count": 71,
     "metadata": {},
     "output_type": "execute_result"
    }
   ],
   "source": [
    "co_mat_dense"
   ]
  },
  {
   "cell_type": "code",
   "execution_count": 72,
   "metadata": {
    "collapsed": false
   },
   "outputs": [
    {
     "data": {
      "text/plain": [
       "matrix([[     0,  48552, 450313, ...,    547,    112,    842],\n",
       "        [ 48552,      0,  44848, ...,    507,    585,    586],\n",
       "        [450313,  44848,      0, ...,    268,     49,    476],\n",
       "        ..., \n",
       "        [   547,    507,    268, ...,      0,     12,    126],\n",
       "        [   112,    585,     49, ...,     12,      0,    229],\n",
       "        [   842,    586,    476, ...,    126,    229,      0]], dtype=uint32)"
      ]
     },
     "execution_count": 72,
     "metadata": {},
     "output_type": "execute_result"
    }
   ],
   "source": [
    "co_mat_dense_no_diag"
   ]
  },
  {
   "cell_type": "code",
   "execution_count": 73,
   "metadata": {
    "collapsed": false
   },
   "outputs": [
    {
     "data": {
      "text/plain": [
       "(0, 2)"
      ]
     },
     "execution_count": 73,
     "metadata": {},
     "output_type": "execute_result"
    }
   ],
   "source": [
    "np.unravel_index(np.argmax(co_mat_dense_no_diag), dims=co_mat_dense.shape)"
   ]
  },
  {
   "cell_type": "code",
   "execution_count": 75,
   "metadata": {
    "collapsed": true
   },
   "outputs": [],
   "source": [
    "rowsums = np.sum(co_mat_dense_no_diag, axis=1)"
   ]
  },
  {
   "cell_type": "code",
   "execution_count": 127,
   "metadata": {
    "collapsed": false
   },
   "outputs": [
    {
     "data": {
      "text/plain": [
       "matrix([[  0.00000000e+00,   5.64874075e-02,   5.23912793e-01, ...,\n",
       "           6.36402453e-04,   1.30305438e-04,   9.79617670e-04],\n",
       "        [  7.15834853e-02,   0.00000000e+00,   6.61224285e-02, ...,\n",
       "           7.47504265e-04,   8.62504921e-04,   8.63979288e-04],\n",
       "        [  8.67686871e-01,   8.64154950e-02,   0.00000000e+00, ...,\n",
       "           5.16396554e-04,   9.44157879e-05,   9.17181939e-04],\n",
       "        ..., \n",
       "        [  1.87733809e-02,   1.74005560e-02,   9.19792703e-03, ...,\n",
       "           0.00000000e+00,   4.11847479e-04,   4.32439853e-03],\n",
       "        [  3.86833834e-03,   2.02051601e-02,   1.69239802e-03, ...,\n",
       "           4.14464822e-04,   0.00000000e+00,   7.90937036e-03],\n",
       "        [  2.90906578e-02,   2.02459923e-02,   1.64455500e-02, ...,\n",
       "           4.35323383e-03,   7.91182974e-03,   0.00000000e+00]])"
      ]
     },
     "execution_count": 127,
     "metadata": {},
     "output_type": "execute_result"
    }
   ],
   "source": [
    "co_percentage = co_mat_dense_no_diag / np.matrix(counts).T\n",
    "co_percentage"
   ]
  },
  {
   "cell_type": "code",
   "execution_count": 128,
   "metadata": {
    "collapsed": false
   },
   "outputs": [
    {
     "data": {
      "text/plain": [
       "<Container object of 100 artists>"
      ]
     },
     "execution_count": 128,
     "metadata": {},
     "output_type": "execute_result"
    },
    {
     "data": {
      "image/png": "[encoded data removed]",
      "text/plain": [
       "<matplotlib.figure.Figure at 0x7fb63dd2b898>"
      ]
     },
     "metadata": {},
     "output_type": "display_data"
    }
   ],
   "source": [
    "plt.bar(left=range(100), height=np.ravel(co_percentage[0, :]))"
   ]
  },
  {
   "cell_type": "code",
   "execution_count": 129,
   "metadata": {
    "collapsed": false
   },
   "outputs": [
    {
     "data": {
      "text/plain": [
       "<Container object of 100 artists>"
      ]
     },
     "execution_count": 129,
     "metadata": {},
     "output_type": "execute_result"
    },
    {
     "data": {
      "image/png": "[encoded data removed]",
      "text/plain": [
       "<matplotlib.figure.Figure at 0x7fb63c615588>"
      ]
     },
     "metadata": {},
     "output_type": "display_data"
    }
   ],
   "source": [
    "plt.bar(left=range(100), height=np.ravel(co_percentage[1, :]))"
   ]
  },
  {
   "cell_type": "code",
   "execution_count": 130,
   "metadata": {
    "collapsed": false
   },
   "outputs": [
    {
     "data": {
      "text/plain": [
       "<Container object of 100 artists>"
      ]
     },
     "execution_count": 130,
     "metadata": {},
     "output_type": "execute_result"
    },
    {
     "data": {
      "image/png": "[encoded data removed]",
      "text/plain": [
       "<matplotlib.figure.Figure at 0x7fb65cdb0710>"
      ]
     },
     "metadata": {},
     "output_type": "display_data"
    }
   ],
   "source": [
    "plt.bar(left=range(100), height=np.ravel(co_percentage[2, :]))"
   ]
  },
  {
   "cell_type": "code",
   "execution_count": 131,
   "metadata": {
    "collapsed": false
   },
   "outputs": [
    {
     "data": {
      "text/plain": [
       "<Container object of 100 artists>"
      ]
     },
     "execution_count": 131,
     "metadata": {},
     "output_type": "execute_result"
    },
    {
     "data": {
      "image/png": "[encoded data removed]",
      "text/plain": [
       "<matplotlib.figure.Figure at 0x7fb63dd319e8>"
      ]
     },
     "metadata": {},
     "output_type": "display_data"
    }
   ],
   "source": [
    "plt.bar(left=range(100), height=np.ravel(co_percentage[3, :]))"
   ]
  },
  {
   "cell_type": "code",
   "execution_count": 132,
   "metadata": {
    "collapsed": false
   },
   "outputs": [
    {
     "data": {
      "image/png": "[encoded data removed]",
      "text/plain": [
       "<matplotlib.figure.Figure at 0x7fb68a2346d8>"
      ]
     },
     "metadata": {},
     "output_type": "display_data"
    }
   ],
   "source": [
    "plt.figure(figsize=(12, 12))\n",
    "plt.imshow(co_percentage[:20, :20], cmap='hot', interpolation='nearest')\n",
    "plt.xticks(range(20), labels['label_name'][:20], rotation='vertical')\n",
    "plt.yticks(range(20), labels['label_name'][:20], rotation='horizontal')\n",
    "plt.gca().xaxis.tick_top()\n",
    "plt.show()"
   ]
  },
  {
   "cell_type": "code",
   "execution_count": 137,
   "metadata": {
    "collapsed": false
   },
   "outputs": [
    {
     "data": {
      "text/plain": [
       "matrix([[     0,  48552, 450313, ...,    547,    112,    842],\n",
       "        [ 48552,      0,  44848, ...,    507,    585,    586],\n",
       "        [450313,  44848,      0, ...,    268,     49,    476],\n",
       "        ..., \n",
       "        [   547,    507,    268, ...,      0,     12,    126],\n",
       "        [   112,    585,     49, ...,     12,      0,    229],\n",
       "        [   842,    586,    476, ...,    126,    229,      0]], dtype=uint32)"
      ]
     },
     "execution_count": 137,
     "metadata": {},
     "output_type": "execute_result"
    }
   ],
   "source": [
    "co_mat_dense_no_diag"
   ]
  },
  {
   "cell_type": "code",
   "execution_count": 139,
   "metadata": {
    "collapsed": false
   },
   "outputs": [
    {
     "data": {
      "text/plain": [
       "array([859519, 678257, 518981, 494707, 371391, 303295, 296624, 295199,\n",
       "       217920, 214887, 202073, 196804, 195310, 169704, 162048, 161089,\n",
       "       159726, 119952, 109582, 106519,  96490,  94418,  92185,  89874,\n",
       "        85567,  84609,  84323,  83730,  83789,  81896,  78544,  73917,\n",
       "        72524,  72133,  68156,  66591,  63601,  60669,  60124,  59004,\n",
       "        58713,  58654,  58338,  58481,  57300,  57374,  56559,  55210,\n",
       "        52328,  52169,  49773,  49379,  49554,  48472,  47320,  47171,\n",
       "        47048,  45787,  45965,  44648,  43467,  43247,  43063,  42781,\n",
       "        42650,  42257,  39842,  38538,  38932,  37796,  36455,  36008,\n",
       "        36163,  35946,  35550,  34729,  34128,  34129,  33904,  33695,\n",
       "        32913,  32592,  32474,  32171,  32121,  31875,  31944,  30772,\n",
       "        30933,  30468,  30378,  30461,  30431,  30250,  29719,  29465,\n",
       "        29313,  29137,  28953,  28944], dtype=uint32)"
      ]
     },
     "execution_count": 139,
     "metadata": {},
     "output_type": "execute_result"
    }
   ],
   "source": [
    "counts"
   ]
  },
  {
   "cell_type": "code",
   "execution_count": 147,
   "metadata": {
    "collapsed": false
   },
   "outputs": [
    {
     "data": {
      "text/plain": [
       "matrix([[1719038, 1537776, 1378500, ...,  888656,  888472,  888463],\n",
       "        [1537776, 1356514, 1197238, ...,  707394,  707210,  707201],\n",
       "        [1378500, 1197238, 1037962, ...,  548118,  547934,  547925],\n",
       "        ..., \n",
       "        [ 888656,  707394,  548118, ...,   58274,   58090,   58081],\n",
       "        [ 888472,  707210,  547934, ...,   58090,   57906,   57897],\n",
       "        [ 888463,  707201,  547925, ...,   58081,   57897,   57888]], dtype=uint32)"
      ]
     },
     "execution_count": 147,
     "metadata": {},
     "output_type": "execute_result"
    }
   ],
   "source": [
    "total = np.repeat(np.matrix(counts), counts.shape[0], axis=0) + np.repeat(np.matrix(counts).T, counts.shape[0], axis=1)\n",
    "total"
   ]
  },
  {
   "cell_type": "code",
   "execution_count": 152,
   "metadata": {
    "collapsed": false
   },
   "outputs": [
    {
     "data": {
      "text/plain": [
       "matrix([[  0.00000000e+00,   3.15728689e-02,   3.26668843e-01, ...,\n",
       "           6.15536271e-04,   1.26059122e-04,   9.47704069e-04],\n",
       "        [  3.15728689e-02,   0.00000000e+00,   3.74595527e-02, ...,\n",
       "           7.16715154e-04,   8.27194186e-04,   8.28618738e-04],\n",
       "        [  3.26668843e-01,   3.74595527e-02,   0.00000000e+00, ...,\n",
       "           4.88945811e-04,   8.94268288e-05,   8.68732034e-04],\n",
       "        ..., \n",
       "        [  6.15536271e-04,   7.16715154e-04,   4.88945811e-04, ...,\n",
       "           0.00000000e+00,   2.06576003e-04,   2.16938414e-03],\n",
       "        [  1.26059122e-04,   8.27194186e-04,   8.94268288e-05, ...,\n",
       "           2.06576003e-04,   0.00000000e+00,   3.95529993e-03],\n",
       "        [  9.47704069e-04,   8.28618738e-04,   8.68732034e-04, ...,\n",
       "           2.16938414e-03,   3.95529993e-03,   0.00000000e+00]])"
      ]
     },
     "execution_count": 152,
     "metadata": {},
     "output_type": "execute_result"
    }
   ],
   "source": [
    "co_total_percentage = co_mat_dense_no_diag / total\n",
    "co_total_percentage"
   ]
  },
  {
   "cell_type": "code",
   "execution_count": 153,
   "metadata": {
    "collapsed": false
   },
   "outputs": [
    {
     "data": {
      "image/png": "[encoded data removed]",
      "text/plain": [
       "<matplotlib.figure.Figure at 0x7fb65cdac2e8>"
      ]
     },
     "metadata": {},
     "output_type": "display_data"
    }
   ],
   "source": [
    "plt.figure(figsize=(12, 12))\n",
    "plt.imshow(co_total_percentage[:20, :20], cmap='hot', interpolation='nearest')\n",
    "plt.xticks(range(20), labels['label_name'][:20], rotation='vertical')\n",
    "plt.yticks(range(20), labels['label_name'][:20], rotation='horizontal')\n",
    "plt.gca().xaxis.tick_top()\n",
    "plt.show()"
   ]
  },
  {
   "cell_type": "code",
   "execution_count": 154,
   "metadata": {
    "collapsed": false
   },
   "outputs": [
    {
     "data": {
      "text/plain": [
       "<Container object of 100 artists>"
      ]
     },
     "execution_count": 154,
     "metadata": {},
     "output_type": "execute_result"
    },
    {
     "data": {
      "image/png": "[encoded data removed]",
      "text/plain": [
       "<matplotlib.figure.Figure at 0x7fb63dd09320>"
      ]
     },
     "metadata": {},
     "output_type": "display_data"
    }
   ],
   "source": [
    "plt.bar(left=range(100), height=np.ravel(co_total_percentage[0, :]))"
   ]
  },
  {
   "cell_type": "code",
   "execution_count": 155,
   "metadata": {
    "collapsed": false
   },
   "outputs": [
    {
     "data": {
      "text/plain": [
       "<Container object of 100 artists>"
      ]
     },
     "execution_count": 155,
     "metadata": {},
     "output_type": "execute_result"
    },
    {
     "data": {
      "image/png": "[encoded data removed]",
      "text/plain": [
       "<matplotlib.figure.Figure at 0x7fb689b9f7b8>"
      ]
     },
     "metadata": {},
     "output_type": "display_data"
    }
   ],
   "source": [
    "plt.bar(left=range(100), height=np.ravel(co_total_percentage[1, :]))"
   ]
  },
  {
   "cell_type": "code",
   "execution_count": 156,
   "metadata": {
    "collapsed": false
   },
   "outputs": [
    {
     "data": {
      "text/plain": [
       "<Container object of 100 artists>"
      ]
     },
     "execution_count": 156,
     "metadata": {},
     "output_type": "execute_result"
    },
    {
     "data": {
      "image/png": "[encoded data removed]",
      "text/plain": [
       "<matplotlib.figure.Figure at 0x7fb65ee74c88>"
      ]
     },
     "metadata": {},
     "output_type": "display_data"
    }
   ],
   "source": [
    "plt.bar(left=range(100), height=np.ravel(co_total_percentage[2, :]))"
   ]
  },
  {
   "cell_type": "code",
   "execution_count": 165,
   "metadata": {
    "collapsed": false
   },
   "outputs": [
    {
     "data": {
      "text/plain": [
       "matrix([[0, 1, 1, ..., 0, 0, 0],\n",
       "        [1, 0, 1, ..., 0, 0, 0],\n",
       "        [1, 1, 0, ..., 0, 0, 0],\n",
       "        ..., \n",
       "        [0, 0, 0, ..., 0, 0, 0],\n",
       "        [0, 0, 0, ..., 0, 0, 0],\n",
       "        [0, 0, 0, ..., 0, 0, 0]])"
      ]
     },
     "execution_count": 165,
     "metadata": {},
     "output_type": "execute_result"
    }
   ],
   "source": [
    "co_threshhold = (co_total_percentage >= 0.01) * 1\n",
    "co_threshhold"
   ]
  },
  {
   "cell_type": "code",
   "execution_count": 160,
   "metadata": {
    "collapsed": true
   },
   "outputs": [],
   "source": [
    "pickle.dump(labels, open(\"labels.pkl\", \"wb\"))"
   ]
  },
  {
   "cell_type": "code",
   "execution_count": 163,
   "metadata": {
    "collapsed": false
   },
   "outputs": [],
   "source": [
    "pickle.dump(list(labels['label_name']), open(\"label_names.pkl\", \"wb\"))"
   ]
  },
  {
   "cell_type": "code",
   "execution_count": 166,
   "metadata": {
    "collapsed": false
   },
   "outputs": [
    {
     "data": {
      "text/plain": [
       "array([[ 0,  1],\n",
       "       [ 0,  2],\n",
       "       [ 0,  4],\n",
       "       ..., \n",
       "       [99, 46],\n",
       "       [99, 68],\n",
       "       [99, 84]])"
      ]
     },
     "execution_count": 166,
     "metadata": {},
     "output_type": "execute_result"
    }
   ],
   "source": [
    "np.transpose(co_threshhold.nonzero())"
   ]
  },
  {
   "cell_type": "code",
   "execution_count": null,
   "metadata": {
    "collapsed": true
   },
   "outputs": [],
   "source": []
  }
 ],
 "metadata": {
  "anaconda-cloud": {},
  "kernelspec": {
   "display_name": "Python [Root]",
   "language": "python",
   "name": "Python [Root]"
  },
  "language_info": {
   "codemirror_mode": {
    "name": "ipython",
    "version": 3
   },
   "file_extension": ".py",
   "mimetype": "text/x-python",
   "name": "python",
   "nbconvert_exporter": "python",
   "pygments_lexer": "ipython3",
   "version": "3.5.2"
  }
 },
 "nbformat": 4,
 "nbformat_minor": 0
}

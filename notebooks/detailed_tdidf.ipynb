{
 "cells": [
  {
   "cell_type": "code",
   "execution_count": 1,
   "metadata": {
    "collapsed": true
   },
   "outputs": [],
   "source": [
    "import numpy as np\n",
    "import pandas as pd\n",
    "import matplotlib.pyplot as plt\n",
    "%matplotlib inline\n",
    "import pickle\n",
    "import feather\n",
    "import nltk\n",
    "from nltk.tokenize import word_tokenize\n",
    "from nltk.corpus import stopwords\n",
    "import re\n",
    "from sklearn.feature_extraction.text import TfidfVectorizer\n",
    "from sklearn.decomposition import PCA, TruncatedSVD\n",
    "from sklearn.feature_selection import f_regression\n",
    "from sklearn.linear_model import LinearRegression\n",
    "from multiprocessing import Pool\n",
    "from nltk.stem import WordNetLemmatizer\n",
    "import json"
   ]
  },
  {
   "cell_type": "code",
   "execution_count": 2,
   "metadata": {
    "collapsed": true
   },
   "outputs": [],
   "source": [
    "dat = pickle.load(open(\"./grouped_w_lang.pkl\", 'rb'))"
   ]
  },
  {
   "cell_type": "code",
   "execution_count": 3,
   "metadata": {
    "collapsed": false
   },
   "outputs": [],
   "source": [
    "dat = dat.query('lang == \"en\"')"
   ]
  },
  {
   "cell_type": "code",
   "execution_count": 4,
   "metadata": {
    "collapsed": true
   },
   "outputs": [],
   "source": [
    "stops = set(stopwords.words('english'))"
   ]
  },
  {
   "cell_type": "code",
   "execution_count": null,
   "metadata": {
    "collapsed": false,
    "scrolled": true
   },
   "outputs": [],
   "source": [
    "# from IPython import display\n",
    "# tokens = []\n",
    "# w = 0\n",
    "# for t in dat['title']:\n",
    "#     if t is None:\n",
    "#         tokens += [[]]\n",
    "#     else:\n",
    "#         tokens += [word_tokenize(t)]\n",
    "#     display.clear_output(wait=True)\n",
    "#     w += 1\n",
    "#     print(\"at sentence {0}\".format(w))    \n",
    "\n",
    "def cond_tokenize(t):\n",
    "    if t is None:\n",
    "        return []\n",
    "    else:\n",
    "        return word_tokenize(t)\n",
    "\n",
    "p = Pool(8)\n",
    "tokens = list(p.imap(cond_tokenize, dat['title']))\n",
    "p.close()"
   ]
  },
  {
   "cell_type": "code",
   "execution_count": 5,
   "metadata": {
    "collapsed": true
   },
   "outputs": [],
   "source": [
    "# pickle.dump(tokens, open(\"tokens_larger.pkl\", \"wb\"))\n",
    "tokens = pickle.load(open(\"tokens_larger.pkl\", \"rb\"))"
   ]
  },
  {
   "cell_type": "code",
   "execution_count": 6,
   "metadata": {
    "collapsed": true
   },
   "outputs": [],
   "source": [
    "lem = WordNetLemmatizer()"
   ]
  },
  {
   "cell_type": "code",
   "execution_count": 7,
   "metadata": {
    "collapsed": false
   },
   "outputs": [],
   "source": [
    "pure_tokens = [\" \".join([lem.lemmatize(w.lower()) for w in sent if w.lower() not in stops and re.match(\"\\w+\", w)])\\\n",
    "               for sent in tokens]"
   ]
  },
  {
   "cell_type": "code",
   "execution_count": 8,
   "metadata": {
    "collapsed": false
   },
   "outputs": [
    {
     "data": {
      "text/plain": [
       "['carlos santana present cindy blackman mexico city',\n",
       " \"taoist monk tian xin brazil wudang sanfeng t'ai chi exercise\",\n",
       " 'makeup guy actor tv host camera expert',\n",
       " 'pet rescue saga level 539 2 star boost',\n",
       " 'concealed conclusion stage 2c theme western child thc version',\n",
       " 'grfs goblin gun set review',\n",
       " 'get free money diamond hayday game gem clash clan',\n",
       " 'lovely bone 2009 um olhar paraíso behind scene',\n",
       " 'kingdom hearts- behemoth expert',\n",
       " 'grand theft auto 5 walkthrough info feedback needed']"
      ]
     },
     "execution_count": 8,
     "metadata": {},
     "output_type": "execute_result"
    }
   ],
   "source": [
    "pure_tokens[:10]"
   ]
  },
  {
   "cell_type": "markdown",
   "metadata": {},
   "source": [
    "### Test"
   ]
  },
  {
   "cell_type": "code",
   "execution_count": 9,
   "metadata": {
    "collapsed": true
   },
   "outputs": [],
   "source": [
    "vectorizer = TfidfVectorizer(min_df=1, max_features=5000)\n",
    "tdidf = vectorizer.fit_transform(pure_tokens)"
   ]
  },
  {
   "cell_type": "code",
   "execution_count": 11,
   "metadata": {
    "collapsed": true
   },
   "outputs": [],
   "source": [
    "tsvd = TruncatedSVD(n_components=500)"
   ]
  },
  {
   "cell_type": "code",
   "execution_count": 12,
   "metadata": {
    "collapsed": false
   },
   "outputs": [],
   "source": [
    "fitted = tsvd.fit_transform(tdidf)"
   ]
  },
  {
   "cell_type": "code",
   "execution_count": 14,
   "metadata": {
    "collapsed": true
   },
   "outputs": [],
   "source": [
    "component_maxes = np.apply_along_axis(np.argmax, 1, tsvd.components_)"
   ]
  },
  {
   "cell_type": "code",
   "execution_count": 15,
   "metadata": {
    "collapsed": false
   },
   "outputs": [],
   "source": [
    "rev = {v:k for k, v in vectorizer.vocabulary_.items()}"
   ]
  },
  {
   "cell_type": "code",
   "execution_count": 16,
   "metadata": {
    "collapsed": false,
    "scrolled": true
   },
   "outputs": [
    {
     "name": "stdout",
     "output_type": "stream",
     "text": [
      "['video', 'part', 'part', 'trailer', 'live', 'review', 'dance', 'new', 'new', 'hd', '2012', '2013', 'world', '2014', '2011', 'love', 'de', 'tutorial', 'day', 'school', 'game', '2010', 'dj', 'game', 'show', 'minecraft', 'make', 'song', 'music', 'guitar', 'one', 'highlight', 'war', 'play', 'com', 'gameplay', 'band', 'best', '2009', 'best', 'first', 'final', '2015', '2015', 'gta', 'christmas', 'unboxing', 'wmv', 'call', 'episode', 'get', 'life', 'life', 'test', 'piano', 'super', '12', 'night', 'tour', 'time', 'hair', 'city', 'car', 'concert', 'battle', 'movie', 'iphone', 'movie', 'tribute', 'tv', 'tv', 'go', 'feat', 'rock', '11', 'la', 'speed', 'year', 'man', 'ft', 'heart', 'girl', 'free', 'story', 'red', '15', 'mod', 'interview', 'house', 'theme', 'house', 'version', 'star', 'theme', 'vs', 'club', 'blue', 'park', 'montage', 'remix', 'king', 'art', '13', '13', 'football', 'boy', 'fire', 'football', 'road', 'wedding', 'light', 'walkthrough', 'full', '2007', 'back', 'home', 'style', 'style', 'way', 'amv', 'festival', '14', 'way', 'party', 'way', 'season', 'white', 'hero', 'tip', 'lyric', 'demo', 'pro', 'demo', 'baby', 'baby', 'dream', 'dream', 'update', 'ii', '09', 'sound', 'training', 'training', 'fishing', 'lego', 'ep', 'mix', 'assassin', 'sonic', 'water', 'collection', 'galaxy', 'sonic', 'album', 'album', 'air', 'performance', 'little', 'performance', 'train', 'grand', 'halo', 'john', 'grand', 'collection', 'edition', 'level', 'challenge', 'halo', 'level', 'easy', 'custom', 'old', 'naruto', 'custom', 'fight', 'project', 'take', 'let', 'take', 'run', 'making', 'beach', 'power', 'en', 'dog', 'series', 'let', 'dark', 'battlefield', 'track', 'action', 'action', 'like', 'pt', 'clan', 'family', 'class', 'system', 'monster', 'michael', 'cup', 'real', '08', 'ride', 'special', 'rally', 'monster', 'mp4', 'last', 'special', 'mp4', 'mp4', 'dancing', 'last', 'god', 'end', 'preview', 'intro', 'intro', 'harry', 'harry', 'island', 'god', 'dancing', 'end', 'friend', 'line', 'machine', 'wwe', 'two', 'drive', 'ipad', 'machine', 'player', 'round', '3d', 'classic', 'fall', 'na', 'fall', 'metal', 'news', 'fall', 'box', 'trick', 'river', 'adventure', 'build', 'box', 'mario', 'el', 'el', '16', 'death', '20', '16', 'come', 'guide', 'build', 'secret', 'hand', 'crew', 'choir', 'san', 'horse', 'work', 'horse', 'know', 'flight', 'know', 'set', '07', 'touch', '07', 'con', 'national', 'studio', 'chris', 'film', 'food', 'match', 'con', 'great', '100', 'ghost', 'got', 'great', 'le', 'happy', '07', 'david', 'install', 'fashion', 'national', 'stop', 'american', 'champion', 'magic', 'moon', 'use', 'playing', 'use', 'fan', 'freestyle', 'use', '01', '18', 'original', 'green', 'bass', '18', '01', 'beat', 'brother', 'bass', 'tank', 'brother', '2006', 'using', 'mountain', 'spring', 'bos', 'fun', 'book', 'bos', 'money', 'sims', 'mountain', 'thing', 'watch', 'sims', 'effect', 'effect', 'stage', 'london', 'lesson', 'www', 'acoustic', 'lesson', 'london', 'acoustic', 'diy', 'diy', '02', 'face', 'open', 'sony', 'evil', 'evil', 'master', 'session', 'hill', 'attack', 'session', 'hill', 'draw', 'open', 'hill', 'open', 'young', 'young', 'beauty', 'beauty', 'talk', 'hq', 'woman', 'bird', 'warrior', 'young', 'hq', 'honda', 'st', 'winter', 'soundtrack', '17', 'head', 'west', 'perfect', 'head', 'hotel', '17', '17', 'shadow', 'lady', '25', 'west', '24', 'ever', '06', 'ever', 'james', 'tree', '21', 'earth', 'como', '25', 'competition', 'earth', 'mac', 'case', '06', 'earth', 'promo', 'ps3', 'james', '25', 'ost', 'march', '03', 'reaction', 'space', 'kill', 'mac', 'crazy', 'promo', 'united', 'sale', 'long', 'mission', 'ps3', 'south', 'youtube', 'crazy', 'say', 'paint', 'south', 'fast', 'south', 'paint', 'beautiful', 'cry', '1080p', 'sub', 'sub', 'storm', 'haul', 'paul', 'space', 'international', 'sky', '1080p', 'edit', 'sea', 'tree', 'chicken', 'chicken', 'paint', 'edit', 'mode', 'junior', 'introduction', 'rain', 'win', 'meet', 'meet', '04', 'bike', 'fantasy', 'fighter', '19', 'practice', 'country', 'apple', 'robot', 'people', 'people', 'da', 'flash', 'lake', 'double', 'wall', 'point', 'tom', 'voice', 'doctor', 'welcome', 'tom', 'driving', 'joe', 'da', 'ready', 'al', 'double', 'miss', 'canon', 'japan', '22', 'al', '50', 'robot', 'angel', 'audio', 'welcome', 'taylor', 'lost', 'uk', 'audio', 'joe', 'avi']\n"
     ]
    }
   ],
   "source": [
    "print([rev[x] for x in component_maxes])"
   ]
  },
  {
   "cell_type": "code",
   "execution_count": 17,
   "metadata": {
    "collapsed": false
   },
   "outputs": [
    {
     "data": {
      "text/plain": [
       "0.39506954546126372"
      ]
     },
     "execution_count": 17,
     "metadata": {},
     "output_type": "execute_result"
    }
   ],
   "source": [
    "np.sum(tsvd.explained_variance_ratio_)"
   ]
  },
  {
   "cell_type": "code",
   "execution_count": 30,
   "metadata": {
    "collapsed": false,
    "scrolled": false
   },
   "outputs": [],
   "source": [
    "# for i in range(20):\n",
    "#     print([rev[x] for x in tsvd.components_[i].argsort()[-10:][::-1]])"
   ]
  },
  {
   "cell_type": "code",
   "execution_count": 19,
   "metadata": {
    "collapsed": false
   },
   "outputs": [],
   "source": [
    "feature_names = range(500)\n",
    "fs, ps = f_regression(fitted, np.log(dat['views']), center=False)\n",
    "reg = LinearRegression(n_jobs=4)\n",
    "reg.fit(fitted, np.log(dat['views']))\n",
    "views_stat = pd.DataFrame({\"feature_id\": feature_names,\n",
    "                          \"coef\": reg.coef_, \n",
    "                          \"p\": ps}).sort_values('coef', ascending=False)[['feature_id', 'coef', 'p']]"
   ]
  },
  {
   "cell_type": "code",
   "execution_count": 20,
   "metadata": {
    "collapsed": false
   },
   "outputs": [
    {
     "data": {
      "text/html": [
       "<div>\n",
       "<table border=\"1\" class=\"dataframe\">\n",
       "  <thead>\n",
       "    <tr style=\"text-align: right;\">\n",
       "      <th></th>\n",
       "      <th>feature_id</th>\n",
       "      <th>coef</th>\n",
       "      <th>p</th>\n",
       "    </tr>\n",
       "  </thead>\n",
       "  <tbody>\n",
       "    <tr>\n",
       "      <th>0</th>\n",
       "      <td>0</td>\n",
       "      <td>1.438066</td>\n",
       "      <td>0.000000e+00</td>\n",
       "    </tr>\n",
       "    <tr>\n",
       "      <th>15</th>\n",
       "      <td>15</td>\n",
       "      <td>1.407569</td>\n",
       "      <td>3.049929e-103</td>\n",
       "    </tr>\n",
       "    <tr>\n",
       "      <th>129</th>\n",
       "      <td>129</td>\n",
       "      <td>1.406193</td>\n",
       "      <td>3.706730e-144</td>\n",
       "    </tr>\n",
       "    <tr>\n",
       "      <th>168</th>\n",
       "      <td>168</td>\n",
       "      <td>1.380110</td>\n",
       "      <td>6.338185e-43</td>\n",
       "    </tr>\n",
       "    <tr>\n",
       "      <th>17</th>\n",
       "      <td>17</td>\n",
       "      <td>1.281349</td>\n",
       "      <td>2.091352e-133</td>\n",
       "    </tr>\n",
       "    <tr>\n",
       "      <th>44</th>\n",
       "      <td>44</td>\n",
       "      <td>1.196041</td>\n",
       "      <td>0.000000e+00</td>\n",
       "    </tr>\n",
       "    <tr>\n",
       "      <th>9</th>\n",
       "      <td>9</td>\n",
       "      <td>1.160190</td>\n",
       "      <td>0.000000e+00</td>\n",
       "    </tr>\n",
       "    <tr>\n",
       "      <th>292</th>\n",
       "      <td>292</td>\n",
       "      <td>1.151984</td>\n",
       "      <td>6.796401e-160</td>\n",
       "    </tr>\n",
       "    <tr>\n",
       "      <th>367</th>\n",
       "      <td>367</td>\n",
       "      <td>1.093176</td>\n",
       "      <td>8.070253e-09</td>\n",
       "    </tr>\n",
       "    <tr>\n",
       "      <th>79</th>\n",
       "      <td>79</td>\n",
       "      <td>1.047609</td>\n",
       "      <td>3.023156e-10</td>\n",
       "    </tr>\n",
       "  </tbody>\n",
       "</table>\n",
       "</div>"
      ],
      "text/plain": [
       "     feature_id      coef              p\n",
       "0             0  1.438066   0.000000e+00\n",
       "15           15  1.407569  3.049929e-103\n",
       "129         129  1.406193  3.706730e-144\n",
       "168         168  1.380110   6.338185e-43\n",
       "17           17  1.281349  2.091352e-133\n",
       "44           44  1.196041   0.000000e+00\n",
       "9             9  1.160190   0.000000e+00\n",
       "292         292  1.151984  6.796401e-160\n",
       "367         367  1.093176   8.070253e-09\n",
       "79           79  1.047609   3.023156e-10"
      ]
     },
     "execution_count": 20,
     "metadata": {},
     "output_type": "execute_result"
    }
   ],
   "source": [
    "views_stat.query('p < 0.01').head(10)"
   ]
  },
  {
   "cell_type": "code",
   "execution_count": 21,
   "metadata": {
    "collapsed": false
   },
   "outputs": [
    {
     "data": {
      "text/html": [
       "<div>\n",
       "<table border=\"1\" class=\"dataframe\">\n",
       "  <thead>\n",
       "    <tr style=\"text-align: right;\">\n",
       "      <th></th>\n",
       "      <th>feature_id</th>\n",
       "      <th>coef</th>\n",
       "      <th>p</th>\n",
       "    </tr>\n",
       "  </thead>\n",
       "  <tbody>\n",
       "    <tr>\n",
       "      <th>12</th>\n",
       "      <td>12</td>\n",
       "      <td>-0.872305</td>\n",
       "      <td>0.000000e+00</td>\n",
       "    </tr>\n",
       "    <tr>\n",
       "      <th>25</th>\n",
       "      <td>25</td>\n",
       "      <td>-0.949599</td>\n",
       "      <td>9.470311e-38</td>\n",
       "    </tr>\n",
       "    <tr>\n",
       "      <th>11</th>\n",
       "      <td>11</td>\n",
       "      <td>-0.967625</td>\n",
       "      <td>0.000000e+00</td>\n",
       "    </tr>\n",
       "    <tr>\n",
       "      <th>206</th>\n",
       "      <td>206</td>\n",
       "      <td>-0.981528</td>\n",
       "      <td>3.861868e-192</td>\n",
       "    </tr>\n",
       "    <tr>\n",
       "      <th>321</th>\n",
       "      <td>321</td>\n",
       "      <td>-0.984397</td>\n",
       "      <td>8.204481e-06</td>\n",
       "    </tr>\n",
       "    <tr>\n",
       "      <th>320</th>\n",
       "      <td>320</td>\n",
       "      <td>-0.995474</td>\n",
       "      <td>1.133607e-45</td>\n",
       "    </tr>\n",
       "    <tr>\n",
       "      <th>189</th>\n",
       "      <td>189</td>\n",
       "      <td>-1.041085</td>\n",
       "      <td>3.306457e-11</td>\n",
       "    </tr>\n",
       "    <tr>\n",
       "      <th>43</th>\n",
       "      <td>43</td>\n",
       "      <td>-1.120607</td>\n",
       "      <td>4.719222e-41</td>\n",
       "    </tr>\n",
       "    <tr>\n",
       "      <th>10</th>\n",
       "      <td>10</td>\n",
       "      <td>-1.194272</td>\n",
       "      <td>0.000000e+00</td>\n",
       "    </tr>\n",
       "    <tr>\n",
       "      <th>38</th>\n",
       "      <td>38</td>\n",
       "      <td>-1.321328</td>\n",
       "      <td>1.976512e-18</td>\n",
       "    </tr>\n",
       "  </tbody>\n",
       "</table>\n",
       "</div>"
      ],
      "text/plain": [
       "     feature_id      coef              p\n",
       "12           12 -0.872305   0.000000e+00\n",
       "25           25 -0.949599   9.470311e-38\n",
       "11           11 -0.967625   0.000000e+00\n",
       "206         206 -0.981528  3.861868e-192\n",
       "321         321 -0.984397   8.204481e-06\n",
       "320         320 -0.995474   1.133607e-45\n",
       "189         189 -1.041085   3.306457e-11\n",
       "43           43 -1.120607   4.719222e-41\n",
       "10           10 -1.194272   0.000000e+00\n",
       "38           38 -1.321328   1.976512e-18"
      ]
     },
     "execution_count": 21,
     "metadata": {},
     "output_type": "execute_result"
    }
   ],
   "source": [
    "views_stat.query('p < 0.01').tail(10)"
   ]
  },
  {
   "cell_type": "code",
   "execution_count": 22,
   "metadata": {
    "collapsed": false
   },
   "outputs": [
    {
     "name": "stdout",
     "output_type": "stream",
     "text": [
      "['video', 'music', 'official', 'hd', 'trailer', 'live', 'part', 'new', 'lyric', '2013']\n",
      "['love', 'song', 'tutorial', 'dj', '2012', 'minecraft', 'world', '2014', 'story', 'make']\n",
      "['lyric', 'big', 'demo', 'little', 'dream', 'clip', 'album', 'sound', '14', 'music']\n",
      "['halo', 'moment', 'funny', 'look', 'battlefield', 'pack', 'kid', 'opening', 'like', 'reach']\n",
      "['tutorial', 'minecraft', 'make', 'de', 'day', 'mod', 'live', 'play', 'makeup', 'hair']\n",
      "['gta', 'car', 'city', 'get', 'online', 'mod', 'san', 'black', 'free', 'andreas']\n",
      "['hd', 'new', 'dance', 'gameplay', 'live', 'black', '1080p', 'ops', 'full', 'pc']\n",
      "['install', 'moon', 'fly', 'champion', 'stop', 'magic', 'got', 'fan', 'child', 'use']\n",
      "['bird', 'head', 'hq', 'winter', 'young', 'bmw', 'session', 'epic', 'angry', 'ost']\n",
      "['ft', 'feat', 'girl', 'boy', 'version', 'free', 'de', 'lyric', 'album', 'full']\n"
     ]
    }
   ],
   "source": [
    "ranks = views_stat.query('p < 0.01')\n",
    "for i in range(10):\n",
    "    print([rev[x] for x in tsvd.components_[ranks['feature_id'].iloc[i]].argsort()[-10:][::-1]])"
   ]
  },
  {
   "cell_type": "code",
   "execution_count": 23,
   "metadata": {
    "collapsed": false
   },
   "outputs": [
    {
     "name": "stdout",
     "output_type": "stream",
     "text": [
      "['2009', 'final', 'fantasy', 'christmas', 'battle', 'tour', 'piano', '12', 'one', '2008']\n",
      "['2012', 'new', 'hd', 'part', 'review', 'cover', '2011', 'official', 'highlight', 'school']\n",
      "['2015', 'video', 'tour', '2009', 'trailer', 'team', 'play', 'test', 'lyric', 'wmv']\n",
      "['battlefield', 'class', 'good', 'bad', 'championship', 'kid', 'track', 'modern', 'warfare', 'company']\n",
      "['mountain', 'london', 'airport', 'international', 'landing', '18', 'beat', 'green', 'bike', 'tank']\n",
      "['spring', 'server', 'mountain', 'pvp', 'sport', 'book', 'stage', 'wow', 'warrior', 'ball']\n",
      "['rally', 'ride', 'mp4', 'last', 'championship', 'crash', 'round', 'preview', 'cup', 'gold']\n",
      "['2013', '2014', 'highlight', 'part', 'hd', 'cover', 'new', 'show', 'review', 'school']\n",
      "['minecraft', '2010', 'highlight', 'make', 'mod', 'love', 'cover', 'drum', 'video', 'black']\n",
      "['world', '2014', 'hd', '2011', 'review', 'cup', 'warcraft', 'part', 'cover', 'new']\n"
     ]
    }
   ],
   "source": [
    "for i in range(10):\n",
    "    print([rev[x] for x in tsvd.components_[ranks['feature_id'].iloc[-(i+1)]].argsort()[-10:][::-1]])"
   ]
  },
  {
   "cell_type": "code",
   "execution_count": 28,
   "metadata": {
    "collapsed": false,
    "scrolled": false
   },
   "outputs": [
    {
     "name": "stdout",
     "output_type": "stream",
     "text": [
      "['video', 'music', 'official', 'hd', 'trailer', 'live', 'part', 'new', 'lyric', '2013', '2012', '2014', 'love', 'review', 'dance', 'ft', 'cover', 'feat', 'game', 'world']\n",
      "['love', 'song']\n",
      "['lyric', 'big', 'demo', 'little', 'dream', 'clip', 'album', 'sound', '14', 'music', 'sonic', 'fishing', '2007', 'full', 'english', 'hero', 'style', 'track', 'john', 'air']\n",
      "['halo', 'moment', 'funny', 'look', 'battlefield', 'pack']\n",
      "['tutorial', 'minecraft', 'make']\n",
      "['gta', 'car', 'city', 'get', 'online', 'mod', 'san', 'black', 'free', 'andreas', 'test', 'christmas', 'iv', 'super', 'episode', 'life', 'funny', '2008', 'story', 'moment']\n",
      "['hd']\n",
      "['install', 'moon', 'fly', 'champion', 'stop', 'magic', 'got', 'fan', 'child', 'use', 'ultimate', 'fashion', 'spring', 'motion', 'face', 'ca', 'mountain', 'using', 'lesson', 'original']\n",
      "['bird', 'head', 'hq']\n",
      "['ft', 'feat']\n"
     ]
    }
   ],
   "source": [
    "ranks = views_stat.query('p < 0.01')\n",
    "for i in range(10):\n",
    "    sf = tsvd.components_[ranks['feature_id'].iloc[i]]\n",
    "    tot = np.sum(sf)\n",
    "    cum = 0\n",
    "    rev_sort = sf.argsort()[::-1]\n",
    "    j = 0\n",
    "    while cum < 0.9 * tot:\n",
    "        cum += sf[rev_sort[j]]\n",
    "        j += 1\n",
    "    l = [rev[x] for x in rev_sort[:(j+1)]]\n",
    "    print(l[:min(len(l), 20)])"
   ]
  },
  {
   "cell_type": "code",
   "execution_count": 29,
   "metadata": {
    "collapsed": false
   },
   "outputs": [
    {
     "name": "stdout",
     "output_type": "stream",
     "text": [
      "['2009', 'final', 'fantasy', 'christmas', 'battle']\n",
      "['2012']\n",
      "['2015']\n",
      "['battlefield', 'class', 'good', 'bad', 'championship', 'kid']\n",
      "['mountain', 'london', 'airport', 'international', 'landing', '18', 'beat', 'green', 'bike', 'tank', 'www', 'ipad']\n",
      "['spring', 'server', 'mountain', 'pvp', 'sport']\n",
      "['rally', 'ride', 'mp4', 'last', 'championship', 'crash', 'round', 'preview', 'cup', 'gold', 'match', 'glitch', 'dead', 'island', 'warfare', 'modern', 'racing', 'national', 'kid', 'god']\n",
      "['2013']\n",
      "['minecraft']\n",
      "['world']\n"
     ]
    }
   ],
   "source": [
    "ranks = views_stat.query('p < 0.01')\n",
    "for i in range(10):\n",
    "    sf = tsvd.components_[ranks['feature_id'].iloc[-(i+1)]]\n",
    "    tot = np.sum(sf)\n",
    "    cum = 0\n",
    "    rev_sort = sf.argsort()[::-1]\n",
    "    j = 0\n",
    "    while cum < 0.9 * tot:\n",
    "        cum += sf[rev_sort[j]]\n",
    "        j += 1\n",
    "    l = [rev[x] for x in rev_sort[:(j+1)]]\n",
    "    print(l[:min(len(l), 20)])"
   ]
  },
  {
   "cell_type": "markdown",
   "metadata": {
    "collapsed": true
   },
   "source": [
    "### Bigrams and beyond"
   ]
  },
  {
   "cell_type": "code",
   "execution_count": 9,
   "metadata": {
    "collapsed": true
   },
   "outputs": [],
   "source": [
    "vectorizer = TfidfVectorizer(min_df=1, max_features=10000, ngram_range=(1, 3))\n",
    "tdidf = vectorizer.fit_transform(pure_tokens)\n",
    "tsvd = TruncatedSVD(n_components=100)\n",
    "fitted = tsvd.fit_transform(tdidf)\n",
    "rev = {v:k for k, v in vectorizer.vocabulary_.items()}"
   ]
  },
  {
   "cell_type": "code",
   "execution_count": 10,
   "metadata": {
    "collapsed": false
   },
   "outputs": [
    {
     "data": {
      "text/plain": [
       "0.12557242673663371"
      ]
     },
     "execution_count": 10,
     "metadata": {},
     "output_type": "execute_result"
    }
   ],
   "source": [
    "np.sum(tsvd.explained_variance_ratio_)"
   ]
  },
  {
   "cell_type": "code",
   "execution_count": 11,
   "metadata": {
    "collapsed": false
   },
   "outputs": [],
   "source": [
    "feature_names = range(100)\n",
    "fs, ps = f_regression(fitted, np.log(dat['views']), center=False)\n",
    "reg = LinearRegression(n_jobs=4)\n",
    "reg.fit(fitted, np.log(dat['views']))\n",
    "views_stat = pd.DataFrame({\"feature_id\": feature_names,\n",
    "                          \"coef\": reg.coef_, \n",
    "                          \"p\": ps}).sort_values('coef', ascending=False)[['feature_id', 'coef', 'p']]"
   ]
  },
  {
   "cell_type": "code",
   "execution_count": 23,
   "metadata": {
    "collapsed": false
   },
   "outputs": [
    {
     "name": "stdout",
     "output_type": "stream",
     "text": [
      "['minecraft', 'de', 'love', 'tutorial', 'make', '2013', 'dj', 'mod', 'play', 'song', 'la', 'piano', 'com', 'remix', 'wmv', 'hair', 'makeup', 'let', 'get', 'feat']\n",
      "['trailer', 'cover', 'part', 'guitar', 'official', 'guitar cover', 'official trailer', 'hd', 'drum', 'drum cover', 'movie', 'trailer hd', 'piano', 'piano cover', 'movie trailer', 'official video', 'official trailer hd', 'gameplay', 'walkthrough', 'theatrical']\n",
      "['직캠', '東方', 'ᴴᴰ', 'обзор', 'на', 'для', 'zx']\n",
      "['10', 'top', 'make', 'top 10', 'song', 'guitar', 'official', 'de', '11', 'guitar cover', '12', 'review', 'official music', 'official music video', 'official video', 'school', 'world', 'week', '10 10', 'high']\n",
      "['rock', 'heart', 'go', 'feat', 'drum', 'top', 'kingdom', 'piano', 'kingdom heart', 'drum cover', 'theme', 'hero', 'guitar', 'pro', 'house', 'version', 'back', 'full', 'amv', 'solo']\n",
      "['test', 'car', 'hair', 'life', 'night', 'team', 'drive', 'top', 'speed', 'natural', 'test drive', 'highlight', 'gameplay', 'natural hair', 'super', 'christmas', 'live', 'minecraft', 'style', 'club']\n",
      "['tour', 'team', 'top', 'gta', 'tribute', 'super', 'home', 'battle', 'tv', 'episode', 'online', 'highlight', 'christmas', 'night', 'house', 'theme', 'style', 'san', 'top 10', 'mario']\n",
      "['unboxing', 'get', 'legend', 'league', 'league legend', 'free', 'episode', 'iphone', 'hair', 'super', 'tv', 'ready', 'get ready', 'edition', 'tribute', 'call', 'piano', 'ipod', 'pokemon', 'ipad']\n",
      "['boy', 'assassin', 'creed', 'assassin creed', 'dragon', 'baby', 'version', 'back', 'star', 'cat', 'way', 'mix', 'big', '14', 'fire', 'high', 'wedding', 'speed', 'official video', 'season']\n",
      "['hd', '2012', 'new', 'dance', 'gameplay', 'official', 'official video', '1080p', 'full', 'full hd', 'video', 'part', 'trailer hd', 'video hd', 'clip', 'hd 1080p', '720p', 'pc', '2012 hd', 'gameplay hd']\n"
     ]
    }
   ],
   "source": [
    "ranks = views_stat.query('p < 0.01')\n",
    "for i in range(10):\n",
    "    sf = tsvd.components_[ranks['feature_id'].iloc[i]]\n",
    "    tot = np.sum(sf ** 2)\n",
    "    cum = 0\n",
    "    rev_sort = sf.argsort()[::-1]\n",
    "    j = 0\n",
    "    while cum < 0.9 * tot:\n",
    "        cum += sf[rev_sort[j]] ** 2\n",
    "        j += 1\n",
    "    l = [rev[x] for x in rev_sort[:(j+1)]]\n",
    "    print(l[:min(len(l), 20)])"
   ]
  },
  {
   "cell_type": "code",
   "execution_count": 25,
   "metadata": {
    "collapsed": false,
    "scrolled": true
   },
   "outputs": [
    {
     "name": "stdout",
     "output_type": "stream",
     "text": [
      "['2012', 'hd', '2014', '2013', 'school', 'black', 'trailer', 'high', 'world', 'minecraft']\n",
      "['2011', '2014', 'de', 'minecraft', 'tutorial', 'make', 'world', '2012', 'dj', '2010', 'love', 'game', 'la', 'play', 'hd', 'live']\n",
      "['2009', 'gameplay', 'gta', 'war', 'best', 'team', 'star', 'wmv', '2015', 'car', 'final', 'call', 'first', 'get', 'duty', 'call duty', 'one', 'online', 'game', 'star war']\n",
      "['band', '2009', 'call', 'duty', 'call duty', 'black', 'gameplay', 'rock', 'song', 'show', 'highlight', 'live', 'one', 'battle', 'final', 'black ops', 'ops', '2010', 'piano', '2008']\n",
      "['2013', 'school', '2011', 'high', 'hd', 'minecraft', 'high school', 'tutorial', '2012', 'make', 'love', 'black']\n",
      "['band', 'call', 'duty', 'call duty', 'black', 'war', 'star', 'gameplay', '2009', 'best', 'black ops', 'star war', 'ops', 'warfare', 'ghost', 'gta', 'modern', 'rock', '2015', 'modern warfare']\n",
      "['2011', 'day', 'world', 'de', 'school', 'high', '10', 'love', 'high school', 'highlight', 'game', 'live', 'top', '2010', 'music', 'official', '2012', 'hd']\n",
      "['team', 'gta', 'fifa', 'car', 'gameplay', 'episode', 'final', '15', 'best', '12', 'ultimate', 'highlight', '14', 'ultimate team', 'piano', '13', 'online', '2015', 'fifa 15', 'get']\n",
      "['2008', 'gameplay', 'tour', 'gta', 'christmas', 'life', 'team', 'hair', 'car', 'first', 'band', 'online', 'concert', 'final', 'highlight', 'night', 'mod', 'iphone', 'get', 'live']\n",
      "['2010', 'guitar', 'play', 'show', 'minecraft', 'tutorial', 'drum', 'cover', 'drum cover', 'make', 'game', 'dj', '10', '2011', 'guitar cover', 'let', 'de', 'highlight', 'let play', 'mod']\n"
     ]
    }
   ],
   "source": [
    "ranks = views_stat.query('p < 0.01')\n",
    "for i in range(10):\n",
    "    sf = tsvd.components_[ranks['feature_id'].iloc[-(i+1)]]\n",
    "    tot = np.sum(sf ** 2)\n",
    "    cum = 0\n",
    "    rev_sort = (sf ** 2).argsort()[::-1]\n",
    "    j = 0\n",
    "    while cum < 0.9 * tot:\n",
    "        cum += sf[rev_sort[j]] ** 2\n",
    "        j += 1\n",
    "    l = [rev[x] for x in rev_sort[:(j+1)]]\n",
    "    print(l[:min(len(l), 20)])"
   ]
  },
  {
   "cell_type": "markdown",
   "metadata": {},
   "source": [
    "### Prepare for output"
   ]
  },
  {
   "cell_type": "code",
   "execution_count": 41,
   "metadata": {
    "collapsed": false
   },
   "outputs": [],
   "source": [
    "pos = []\n",
    "for i in range(20):\n",
    "    pos += [[rev[x] for x in tsvd.components_[i].argsort()[-10:][::-1]]]"
   ]
  },
  {
   "cell_type": "code",
   "execution_count": 42,
   "metadata": {
    "collapsed": false
   },
   "outputs": [],
   "source": [
    "pos_coef = []\n",
    "for i in range(20):\n",
    "    pos_coef += [[x for x in \n",
    "           tsvd.components_[i][(tsvd.components_[i] ** 2).argsort()[-10:][::-1]]]]"
   ]
  },
  {
   "cell_type": "code",
   "execution_count": 46,
   "metadata": {
    "collapsed": false
   },
   "outputs": [],
   "source": [
    "pos_words = pd.DataFrame(pos).stack()"
   ]
  },
  {
   "cell_type": "code",
   "execution_count": 47,
   "metadata": {
    "collapsed": false
   },
   "outputs": [],
   "source": [
    "pos_coefs = pd.DataFrame(pos_coef).stack()"
   ]
  },
  {
   "cell_type": "code",
   "execution_count": 94,
   "metadata": {
    "collapsed": false
   },
   "outputs": [
    {
     "data": {
      "text/html": [
       "<div>\n",
       "<table border=\"1\" class=\"dataframe\">\n",
       "  <thead>\n",
       "    <tr style=\"text-align: right;\">\n",
       "      <th></th>\n",
       "      <th>component</th>\n",
       "      <th>order</th>\n",
       "      <th>name</th>\n",
       "      <th>size</th>\n",
       "      <th>comp_perc</th>\n",
       "    </tr>\n",
       "  </thead>\n",
       "  <tbody>\n",
       "    <tr>\n",
       "      <th>0</th>\n",
       "      <td>0</td>\n",
       "      <td>0</td>\n",
       "      <td>직캠</td>\n",
       "      <td>0.583569</td>\n",
       "      <td>0.004503</td>\n",
       "    </tr>\n",
       "    <tr>\n",
       "      <th>1</th>\n",
       "      <td>0</td>\n",
       "      <td>1</td>\n",
       "      <td>東方</td>\n",
       "      <td>0.460416</td>\n",
       "      <td>0.004503</td>\n",
       "    </tr>\n",
       "    <tr>\n",
       "      <th>2</th>\n",
       "      <td>0</td>\n",
       "      <td>2</td>\n",
       "      <td>ᴴᴰ</td>\n",
       "      <td>0.409127</td>\n",
       "      <td>0.004503</td>\n",
       "    </tr>\n",
       "    <tr>\n",
       "      <th>3</th>\n",
       "      <td>0</td>\n",
       "      <td>3</td>\n",
       "      <td>обзор</td>\n",
       "      <td>0.333282</td>\n",
       "      <td>0.004503</td>\n",
       "    </tr>\n",
       "    <tr>\n",
       "      <th>4</th>\n",
       "      <td>0</td>\n",
       "      <td>4</td>\n",
       "      <td>на</td>\n",
       "      <td>0.227081</td>\n",
       "      <td>0.004503</td>\n",
       "    </tr>\n",
       "  </tbody>\n",
       "</table>\n",
       "</div>"
      ],
      "text/plain": [
       "   component  order   name      size  comp_perc\n",
       "0          0      0     직캠  0.583569   0.004503\n",
       "1          0      1     東方  0.460416   0.004503\n",
       "2          0      2     ᴴᴰ  0.409127   0.004503\n",
       "3          0      3  обзор  0.333282   0.004503\n",
       "4          0      4     на  0.227081   0.004503"
      ]
     },
     "execution_count": 94,
     "metadata": {},
     "output_type": "execute_result"
    }
   ],
   "source": [
    "pos_df = pd.DataFrame({'name': pos_words, 'size': pos_coefs}).reset_index()\\\n",
    "    .rename(columns={'level_0': 'component', 'level_1': 'order'})\n",
    "pos_df['comp_perc'] = tsvd.explained_variance_ratio_[pos_df['component']]\n",
    "pos_df.head()"
   ]
  },
  {
   "cell_type": "code",
   "execution_count": 101,
   "metadata": {
    "collapsed": false,
    "scrolled": true
   },
   "outputs": [],
   "source": [
    "cList = []\n",
    "groupDict = pos_df.groupby('component').apply(lambda g: g.drop('component', axis=1)\\\n",
    "                                                .to_dict(orient='records')).to_dict()\n",
    "def remove_key(d, k):\n",
    "    r = d\n",
    "    del r[k]\n",
    "    return r\n",
    "\n",
    "for key, value in groupDict.items():\n",
    "    cList.append(dict(name=str(key), size=value[0]['comp_perc'], \n",
    "                      children=list([remove_key(d, 'comp_perc') for d in value])))\n",
    "finalJSON = dict(name='component', children=cList)\n",
    "finalJSONs = json.dumps(finalJSON)"
   ]
  },
  {
   "cell_type": "code",
   "execution_count": 102,
   "metadata": {
    "collapsed": false,
    "scrolled": true
   },
   "outputs": [
    {
     "data": {
      "text/plain": [
       "{'children': [{'children': [{'name': '직캠',\n",
       "     'order': 0,\n",
       "     'size': 0.5835688684436965},\n",
       "    {'name': '東方', 'order': 1, 'size': 0.4604163355986042},\n",
       "    {'name': 'ᴴᴰ', 'order': 2, 'size': 0.40912675168141216},\n",
       "    {'name': 'обзор', 'order': 3, 'size': 0.33328244105944127},\n",
       "    {'name': 'на', 'order': 4, 'size': 0.22708087562960658},\n",
       "    {'name': 'для', 'order': 5, 'size': 0.2260788840629073},\n",
       "    {'name': 'zx', 'order': 6, 'size': 0.10518902177776925},\n",
       "    {'name': 'zumba', 'order': 7, 'size': 0.07161322409773604},\n",
       "    {'name': 'zouk', 'order': 8, 'size': 0.05771191368255122},\n",
       "    {'name': 'zoom', 'order': 9, 'size': 0.04446930955924287}],\n",
       "   'name': '0',\n",
       "   'size': 0.004503262470385291},\n",
       "  {'children': [{'name': 'part', 'order': 0, 'size': 0.5004755618212557},\n",
       "    {'name': 'live', 'order': 1, 'size': 0.28056436850621375},\n",
       "    {'name': 'cover', 'order': 2, 'size': 0.20109360637310356},\n",
       "    {'name': 'hd', 'order': 3, 'size': 0.1991901718505181},\n",
       "    {'name': 'trailer', 'order': 4, 'size': 0.18272164789726972},\n",
       "    {'name': 'dance', 'order': 5, 'size': 0.1668530238456766},\n",
       "    {'name': 'new', 'order': 6, 'size': 0.1666154995913093},\n",
       "    {'name': '2012', 'order': 7, 'size': 0.15202306915320782},\n",
       "    {'name': '2013', 'order': 8, 'size': 0.14314578853524976},\n",
       "    {'name': 'review', 'order': 9, 'size': 0.14140460669371474}],\n",
       "   'name': '1',\n",
       "   'size': 0.0018956591354144358},\n",
       "  {'children': [{'name': 'part', 'order': 0, 'size': 0.7490290487545731},\n",
       "    {'name': 'walkthrough', 'order': 1, 'size': -0.43534657077182737},\n",
       "    {'name': 'walkthrough part', 'order': 2, 'size': -0.20121335689846573},\n",
       "    {'name': 'video', 'order': 3, 'size': -0.19263095877639627},\n",
       "    {'name': 'music video', 'order': 4, 'size': -0.14144029963693475},\n",
       "    {'name': 'let play', 'order': 5, 'size': -0.14103320970671748},\n",
       "    {'name': 'let', 'order': 6, 'size': -0.14006206341599908},\n",
       "    {'name': 'play', 'order': 7, 'size': -0.12308406210165797},\n",
       "    {'name': 'music', 'order': 8, 'size': -0.10628309439956729},\n",
       "    {'name': 'episode', 'order': 9, 'size': -0.08988568932003806}],\n",
       "   'name': '2',\n",
       "   'size': 0.002645764282523735},\n",
       "  {'children': [{'name': 'cover', 'order': 0, 'size': 0.5494264791800402},\n",
       "    {'name': 'part', 'order': 1, 'size': -0.529979633682857},\n",
       "    {'name': 'guitar', 'order': 2, 'size': 0.27917736706076896},\n",
       "    {'name': 'guitar cover', 'order': 3, 'size': 0.2739193477021418},\n",
       "    {'name': 'drum', 'order': 4, 'size': -0.19603616860526016},\n",
       "    {'name': 'drum cover', 'order': 5, 'size': 0.1847410864154688},\n",
       "    {'name': 'piano', 'order': 6, 'size': 0.15269302074485122},\n",
       "    {'name': 'piano cover', 'order': 7, 'size': 0.1347734931382239},\n",
       "    {'name': 'music', 'order': 8, 'size': -0.12151584248550659},\n",
       "    {'name': 'music video', 'order': 9, 'size': 0.10202681574696085}],\n",
       "   'name': '3',\n",
       "   'size': 0.002578903510309915},\n",
       "  {'children': [{'name': 'trailer', 'order': 0, 'size': 0.6674017280676905},\n",
       "    {'name': 'cover', 'order': 1, 'size': -0.4513276352493486},\n",
       "    {'name': 'part', 'order': 2, 'size': 0.2789808035154376},\n",
       "    {'name': 'guitar', 'order': 3, 'size': -0.17303845415052202},\n",
       "    {'name': 'official', 'order': 4, 'size': 0.17261632085886694},\n",
       "    {'name': 'guitar cover', 'order': 5, 'size': 0.14669434982173643},\n",
       "    {'name': 'official trailer', 'order': 6, 'size': 0.14299135855002265},\n",
       "    {'name': 'hd', 'order': 7, 'size': -0.11938242275031244},\n",
       "    {'name': 'drum', 'order': 8, 'size': -0.104099789733379},\n",
       "    {'name': 'drum cover', 'order': 9, 'size': 0.10206417582360819}],\n",
       "   'name': '4',\n",
       "   'size': 0.0024231474638160794},\n",
       "  {'children': [{'name': 'review', 'order': 0, 'size': 0.830212344807419},\n",
       "    {'name': 'new', 'order': 1, 'size': -0.4160976788696685},\n",
       "    {'name': 'com', 'order': 2, 'size': -0.1472850075814879},\n",
       "    {'name': 'game', 'order': 3, 'size': -0.12450711583652611},\n",
       "    {'name': 'unboxing', 'order': 4, 'size': 0.11547477887287753},\n",
       "    {'name': 'minecraft', 'order': 5, 'size': 0.08686388745318332},\n",
       "    {'name': 'iphone', 'order': 6, 'size': 0.07354320316250124},\n",
       "    {'name': 'video', 'order': 7, 'size': 0.0667588350580087},\n",
       "    {'name': 'black', 'order': 8, 'size': 0.058185539192663324},\n",
       "    {'name': 'tutorial', 'order': 9, 'size': 0.05423998918899517}],\n",
       "   'name': '5',\n",
       "   'size': 0.002248118012673761},\n",
       "  {'children': [{'name': 'dance', 'order': 0, 'size': 0.8379908919025012},\n",
       "    {'name': 'school', 'order': 1, 'size': -0.41398219242085144},\n",
       "    {'name': 'line', 'order': 2, 'size': -0.2241217254023523},\n",
       "    {'name': 'line dance', 'order': 3, 'size': 0.08144104415744095},\n",
       "    {'name': 'high', 'order': 4, 'size': -0.06842249512233722},\n",
       "    {'name': 'new', 'order': 5, 'size': -0.06548349662412026},\n",
       "    {'name': 'high school', 'order': 6, 'size': -0.06378075130238577},\n",
       "    {'name': '2012', 'order': 7, 'size': 0.05740956530682823},\n",
       "    {'name': 'team', 'order': 8, 'size': 0.05634523167782719},\n",
       "    {'name': 'trailer', 'order': 9, 'size': 0.054696099838602665}],\n",
       "   'name': '6',\n",
       "   'size': 0.0022433104310622164},\n",
       "  {'children': [{'name': 'new', 'order': 0, 'size': 0.4883180962205503},\n",
       "    {'name': 'world', 'order': 1, 'size': -0.4220269092528426},\n",
       "    {'name': 'black', 'order': 2, 'size': -0.4041188732487503},\n",
       "    {'name': '2012', 'order': 3, 'size': -0.34828965387029037},\n",
       "    {'name': 'ops', 'order': 4, 'size': -0.18346085885113325},\n",
       "    {'name': 'black ops', 'order': 5, 'size': 0.15310997807119345},\n",
       "    {'name': '2013', 'order': 6, 'size': 0.14160246117775493},\n",
       "    {'name': '2014', 'order': 7, 'size': -0.11430258498234544},\n",
       "    {'name': 'minecraft', 'order': 8, 'size': 0.11143113242913519},\n",
       "    {'name': 'highlight', 'order': 9, 'size': 0.10259053103420072}],\n",
       "   'name': '7',\n",
       "   'size': 0.0020229836462129043},\n",
       "  {'children': [{'name': 'black', 'order': 0, 'size': 0.5448362838407871},\n",
       "    {'name': 'ops', 'order': 1, 'size': 0.3775493418013016},\n",
       "    {'name': 'black ops', 'order': 2, 'size': 0.37244999578159255},\n",
       "    {'name': 'call', 'order': 3, 'size': -0.28018131405017627},\n",
       "    {'name': 'duty', 'order': 4, 'size': 0.22135564152722784},\n",
       "    {'name': 'call duty', 'order': 5, 'size': 0.20070687328531667},\n",
       "    {'name': 'dance', 'order': 6, 'size': 0.1974875730931433},\n",
       "    {'name': 'gameplay', 'order': 7, 'size': -0.1493667222073915},\n",
       "    {'name': 'tutorial', 'order': 8, 'size': 0.1341763766576887},\n",
       "    {'name': 'duty black', 'order': 9, 'size': 0.1231977632318702}],\n",
       "   'name': '8',\n",
       "   'size': 0.0019392612205875988},\n",
       "  {'children': [{'name': 'new', 'order': 0, 'size': 0.708280311210646},\n",
       "    {'name': 'live', 'order': 1, 'size': -0.3319763310545864},\n",
       "    {'name': 'dance', 'order': 2, 'size': -0.25223338286973457},\n",
       "    {'name': 'trailer', 'order': 3, 'size': 0.2391033551821492},\n",
       "    {'name': 'york', 'order': 4, 'size': -0.17669534041555737},\n",
       "    {'name': 'new york', 'order': 5, 'size': -0.14481900175930448},\n",
       "    {'name': 'black', 'order': 6, 'size': 0.13653028868734782},\n",
       "    {'name': 'review', 'order': 7, 'size': -0.12910383095043904},\n",
       "    {'name': 'ops', 'order': 8, 'size': 0.12208759681702068},\n",
       "    {'name': 'black ops', 'order': 9, 'size': -0.11763867097474114}],\n",
       "   'name': '9',\n",
       "   'size': 0.0019030762157078052},\n",
       "  {'children': [{'name': '2012', 'order': 0, 'size': 0.7397612400439388},\n",
       "    {'name': 'school', 'order': 1, 'size': -0.379612691280017},\n",
       "    {'name': 'black', 'order': 2, 'size': -0.26741275023248257},\n",
       "    {'name': 'trailer', 'order': 3, 'size': -0.2650750698614447},\n",
       "    {'name': 'high', 'order': 4, 'size': 0.13703214603292238},\n",
       "    {'name': 'ops', 'order': 5, 'size': 0.1296763255999024},\n",
       "    {'name': 'black ops', 'order': 6, 'size': 0.12792402568326877},\n",
       "    {'name': 'high school', 'order': 7, 'size': 0.10958105295404628},\n",
       "    {'name': 'new', 'order': 8, 'size': -0.10793279683323871},\n",
       "    {'name': 'music', 'order': 9, 'size': -0.0929482794696466}],\n",
       "   'name': '10',\n",
       "   'size': 0.0018113875824540872},\n",
       "  {'children': [{'name': 'hd', 'order': 0, 'size': 0.5869430623700042},\n",
       "    {'name': '2012', 'order': 1, 'size': 0.37307521770894636},\n",
       "    {'name': 'new', 'order': 2, 'size': -0.35243911658924204},\n",
       "    {'name': 'dance', 'order': 3, 'size': -0.2851022552920032},\n",
       "    {'name': 'gameplay', 'order': 4, 'size': -0.21313177978059927},\n",
       "    {'name': 'official', 'order': 5, 'size': -0.1899026372266847},\n",
       "    {'name': 'official video', 'order': 6, 'size': -0.18894293969511655},\n",
       "    {'name': '1080p', 'order': 7, 'size': -0.16269116186148},\n",
       "    {'name': 'full', 'order': 8, 'size': 0.13983724397431377},\n",
       "    {'name': 'full hd', 'order': 9, 'size': -0.13369040067244226}],\n",
       "   'name': '11',\n",
       "   'size': 0.0017942859602719157},\n",
       "  {'children': [{'name': 'school', 'order': 0, 'size': -0.5302806869399216},\n",
       "    {'name': 'hd', 'order': 1, 'size': 0.403220264009932},\n",
       "    {'name': 'high', 'order': 2, 'size': 0.3477545921369865},\n",
       "    {'name': 'high school', 'order': 3, 'size': 0.3385705865784778},\n",
       "    {'name': '2013', 'order': 4, 'size': 0.24937521288705988},\n",
       "    {'name': 'new', 'order': 5, 'size': 0.18508915004854384},\n",
       "    {'name': 'official', 'order': 6, 'size': -0.17993551828671886},\n",
       "    {'name': 'black', 'order': 7, 'size': -0.1548322061139072},\n",
       "    {'name': 'official video', 'order': 8, 'size': 0.1171294947936901},\n",
       "    {'name': 'video', 'order': 9, 'size': -0.10523318423677411}],\n",
       "   'name': '12',\n",
       "   'size': 0.0017515812195432042},\n",
       "  {'children': [{'name': '2013', 'order': 0, 'size': 0.7845428300167901},\n",
       "    {'name': '2012', 'order': 1, 'size': -0.2378924541087344},\n",
       "    {'name': 'black', 'order': 2, 'size': -0.20598971671955546},\n",
       "    {'name': 'ops', 'order': 3, 'size': -0.19884060243532345},\n",
       "    {'name': 'black ops', 'order': 4, 'size': -0.17622984626395052},\n",
       "    {'name': 'part', 'order': 5, 'size': -0.17486648929984508},\n",
       "    {'name': 'highlight', 'order': 6, 'size': -0.14225304105657807},\n",
       "    {'name': 'cover', 'order': 7, 'size': -0.13806962595117933},\n",
       "    {'name': 'trailer', 'order': 8, 'size': 0.1310496125228252},\n",
       "    {'name': 'music', 'order': 9, 'size': -0.11908481139925448}],\n",
       "   'name': '13',\n",
       "   'size': 0.0017428495933764728},\n",
       "  {'children': [{'name': 'minecraft', 'order': 0, 'size': -0.4134846270520599},\n",
       "    {'name': 'de', 'order': 1, 'size': -0.3618970224193539},\n",
       "    {'name': 'love', 'order': 2, 'size': 0.3492051116018765},\n",
       "    {'name': 'tutorial', 'order': 3, 'size': 0.31985068022291846},\n",
       "    {'name': 'make', 'order': 4, 'size': 0.3195689563060472},\n",
       "    {'name': '2013', 'order': 5, 'size': 0.30445302213632},\n",
       "    {'name': 'dj', 'order': 6, 'size': 0.2543342738020344},\n",
       "    {'name': 'mod', 'order': 7, 'size': 0.18886178679584714},\n",
       "    {'name': 'play', 'order': 8, 'size': 0.13356826049510895},\n",
       "    {'name': 'song', 'order': 9, 'size': 0.09130338167571919}],\n",
       "   'name': '14',\n",
       "   'size': 0.0017008523104713427},\n",
       "  {'children': [{'name': '2014', 'order': 0, 'size': 0.6036351261790882},\n",
       "    {'name': 'de', 'order': 1, 'size': 0.4754715311221011},\n",
       "    {'name': 'dj', 'order': 2, 'size': -0.37583620247720195},\n",
       "    {'name': 'show', 'order': 3, 'size': -0.19864664252069233},\n",
       "    {'name': 'la', 'order': 4, 'size': -0.16516652100604493},\n",
       "    {'name': 'highlight', 'order': 5, 'size': -0.13060036374926212},\n",
       "    {'name': 'com', 'order': 6, 'size': 0.13031042039311647},\n",
       "    {'name': 'black', 'order': 7, 'size': 0.11166676202752542},\n",
       "    {'name': 'official', 'order': 8, 'size': 0.10709315259439538},\n",
       "    {'name': 'love', 'order': 9, 'size': -0.1064144464492928}],\n",
       "   'name': '15',\n",
       "   'size': 0.001699991775893827},\n",
       "  {'children': [{'name': 'love', 'order': 0, 'size': 0.7357427578393446},\n",
       "    {'name': 'dj', 'order': 1, 'size': -0.4068411053617349},\n",
       "    {'name': 'song', 'order': 2, 'size': 0.18782609410028184},\n",
       "    {'name': 'official video', 'order': 3, 'size': -0.18610558211772166},\n",
       "    {'name': 'official', 'order': 4, 'size': 0.1733297758825425},\n",
       "    {'name': 'video', 'order': 5, 'size': -0.15483885700711247},\n",
       "    {'name': '2014', 'order': 6, 'size': 0.11057465641800501},\n",
       "    {'name': 'remix', 'order': 7, 'size': 0.09609727420896368},\n",
       "    {'name': 'story', 'order': 8, 'size': 0.09508637838469204},\n",
       "    {'name': 'feat', 'order': 9, 'size': -0.09266417926986675}],\n",
       "   'name': '16',\n",
       "   'size': 0.001680610789469206},\n",
       "  {'children': [{'name': '2011', 'order': 0, 'size': 0.47791859224422245},\n",
       "    {'name': 'de', 'order': 1, 'size': -0.4372102172527676},\n",
       "    {'name': 'world', 'order': 2, 'size': 0.3959557917271993},\n",
       "    {'name': 'dj', 'order': 3, 'size': -0.25533033951786427},\n",
       "    {'name': '2010', 'order': 4, 'size': -0.22425650455988813},\n",
       "    {'name': 'love', 'order': 5, 'size': -0.19754608177617242},\n",
       "    {'name': 'la', 'order': 6, 'size': 0.18475254040554154},\n",
       "    {'name': 'hd', 'order': 7, 'size': -0.1827047546361927},\n",
       "    {'name': 'wmv', 'order': 8, 'size': 0.1805556631653497},\n",
       "    {'name': 'remix', 'order': 9, 'size': 0.14237245708323493}],\n",
       "   'name': '17',\n",
       "   'size': 0.00167509959765181},\n",
       "  {'children': [{'name': 'video', 'order': 0, 'size': -0.5103004882880242},\n",
       "    {'name': 'official video', 'order': 1, 'size': 0.403910253639127},\n",
       "    {'name': 'official', 'order': 2, 'size': 0.35782374962123487},\n",
       "    {'name': 'game', 'order': 3, 'size': 0.3465008741035878},\n",
       "    {'name': 'make', 'order': 4, 'size': -0.2984447663787839},\n",
       "    {'name': 'day', 'order': 5, 'size': -0.2599892303122985},\n",
       "    {'name': 'lyric', 'order': 6, 'size': -0.2125528922236412},\n",
       "    {'name': 'lyric video', 'order': 7, 'size': -0.10420389348274453},\n",
       "    {'name': 'live', 'order': 8, 'size': 0.10396704980872853},\n",
       "    {'name': 'tutorial', 'order': 9, 'size': 0.0871530657170046}],\n",
       "   'name': '18',\n",
       "   'size': 0.0016546734339003264},\n",
       "  {'children': [{'name': '2011', 'order': 0, 'size': 0.5288847481826294},\n",
       "    {'name': 'day', 'order': 1, 'size': 0.4000364988953071},\n",
       "    {'name': '10', 'order': 2, 'size': -0.399571541868008},\n",
       "    {'name': 'highlight', 'order': 3, 'size': -0.2967257260087839},\n",
       "    {'name': 'game', 'order': 4, 'size': -0.20660881899262912},\n",
       "    {'name': 'top', 'order': 5, 'size': -0.18402744174363794},\n",
       "    {'name': '2010', 'order': 6, 'size': 0.15583817732674055},\n",
       "    {'name': 'music', 'order': 7, 'size': -0.1415016265851074},\n",
       "    {'name': 'play', 'order': 8, 'size': -0.13335048445113187},\n",
       "    {'name': '12', 'order': 9, 'size': 0.12668022215155425}],\n",
       "   'name': '19',\n",
       "   'size': 0.0016354421025626105}],\n",
       " 'name': 'component'}"
      ]
     },
     "execution_count": 102,
     "metadata": {},
     "output_type": "execute_result"
    }
   ],
   "source": [
    "finalJSON"
   ]
  },
  {
   "cell_type": "code",
   "execution_count": 100,
   "metadata": {
    "collapsed": false
   },
   "outputs": [],
   "source": [
    "json.dump(finalJSON, open(\"./word_cloud/lsa.json\", \"w\"))"
   ]
  },
  {
   "cell_type": "markdown",
   "metadata": {},
   "source": [
    "### Streamline"
   ]
  },
  {
   "cell_type": "code",
   "execution_count": 11,
   "metadata": {
    "collapsed": false
   },
   "outputs": [],
   "source": [
    "vectorizer = TfidfVectorizer(min_df=1, max_features=10000, ngram_range=(2, 2))\n",
    "tdidf = vectorizer.fit_transform(np.array(pure_tokens))\n",
    "tsvd = TruncatedSVD(n_components=500)\n",
    "fitted = tsvd.fit_transform(tdidf)\n",
    "rev = {v:k for k, v in vectorizer.vocabulary_.items()}\n",
    "\n",
    "feature_names = range(500)\n",
    "fs, ps = f_regression(fitted, np.log(dat['views']), center=False)\n",
    "reg = LinearRegression(n_jobs=4)\n",
    "reg.fit(fitted, np.log(dat['views']))\n",
    "views_stat = pd.DataFrame({\"feature_id\": feature_names,\n",
    "                          \"coef\": reg.coef_, \n",
    "                          \"p\": ps}).query('p < 0.01')\\\n",
    "    .sort_values('coef', ascending=False)[['feature_id', 'coef', 'p']]\n",
    "\n",
    "sid = views_stat[:20]['feature_id']    \n",
    "    \n",
    "pos = []\n",
    "for i in range(20):\n",
    "    pos += [[rev[x] for x in (tsvd.components_[sid][i] ** 2).argsort()[-10:][::-1]]]\n",
    "\n",
    "pos_coef = []\n",
    "for i in range(20):\n",
    "    pos_coef += [[x for x in \n",
    "           tsvd.components_[sid][i][(tsvd.components_[sid][i] ** 2).argsort()[-10:][::-1]]]]\n",
    "\n",
    "pos_words = pd.DataFrame(pos).stack()\n",
    "pos_coefs = pd.DataFrame(pos_coef).stack()\n",
    "pos_df = pd.DataFrame({'name': pos_words, 'size': pos_coefs}).reset_index()\\\n",
    "    .rename(columns={'level_0': 'component', 'level_1': 'order'})\n",
    "pos_df['comp_perc'] = tsvd.explained_variance_ratio_[sid][pos_df['component']]\n",
    "\n",
    "cList = []\n",
    "groupDict = pos_df.groupby('component').apply(lambda g: g.drop('component', axis=1)\\\n",
    "                                                .to_dict(orient='records')).to_dict()\n",
    "def remove_key(d, k):\n",
    "    r = d\n",
    "    del r[k]\n",
    "    return r\n",
    "\n",
    "for key, value in groupDict.items():\n",
    "    cList.append(dict(name=str(key), size=value[0]['comp_perc'], \n",
    "                      children=list([remove_key(d, 'comp_perc') for d in value])))\n",
    "finalJSON = dict(name='component', children=cList)\n",
    "\n",
    "json.dump(finalJSON, open(\"./word_cloud/lsa_fame_all.json\", \"w\"))"
   ]
  },
  {
   "cell_type": "code",
   "execution_count": 12,
   "metadata": {
    "collapsed": false
   },
   "outputs": [],
   "source": [
    "for n in range(11):\n",
    "\n",
    "    sub_index = dat[str(n)] == 1\n",
    "    vectorizer = TfidfVectorizer(min_df=1, max_features=10000, ngram_range=(2, 2))\n",
    "    tdidf = vectorizer.fit_transform(np.array(pure_tokens)[np.where(sub_index)[0]])\n",
    "    tsvd = TruncatedSVD(n_components=500)\n",
    "    fitted = tsvd.fit_transform(tdidf)\n",
    "    rev = {v:k for k, v in vectorizer.vocabulary_.items()}\n",
    "\n",
    "    feature_names = range(500)\n",
    "    fs, ps = f_regression(fitted, np.log(dat['views'][sub_index]), center=False)\n",
    "    reg = LinearRegression(n_jobs=4)\n",
    "    reg.fit(fitted, np.log(dat['views'][sub_index]))\n",
    "    views_stat = pd.DataFrame({\"feature_id\": feature_names,\n",
    "                              \"coef\": reg.coef_, \n",
    "                              \"p\": ps}).query('p < 0.01')\\\n",
    "    .sort_values('coef', ascending=False)[['feature_id', 'coef', 'p']]\n",
    "    \n",
    "    sid = views_stat[:20]['feature_id']\n",
    "\n",
    "    pos = []\n",
    "    for i in range(20):\n",
    "        pos += [[rev[x] for x in (tsvd.components_[sid][i] ** 2).argsort()[-10:][::-1]]]\n",
    "\n",
    "    pos_coef = []\n",
    "    for i in range(20):\n",
    "        pos_coef += [[x for x in \n",
    "               tsvd.components_[sid][i][(tsvd.components_[sid][i] ** 2).argsort()[-10:][::-1]]]]\n",
    "\n",
    "    pos_words = pd.DataFrame(pos).stack()\n",
    "    pos_coefs = pd.DataFrame(pos_coef).stack()\n",
    "    pos_df = pd.DataFrame({'name': pos_words, 'size': pos_coefs}).reset_index()\\\n",
    "        .rename(columns={'level_0': 'component', 'level_1': 'order'})\n",
    "    pos_df['comp_perc'] = tsvd.explained_variance_ratio_[sid][pos_df['component']]\n",
    "\n",
    "    cList = []\n",
    "    groupDict = pos_df.groupby('component').apply(lambda g: g.drop('component', axis=1)\\\n",
    "                                                    .to_dict(orient='records')).to_dict()\n",
    "    def remove_key(d, k):\n",
    "        r = d\n",
    "        del r[k]\n",
    "        return r\n",
    "\n",
    "    for key, value in groupDict.items():\n",
    "        cList.append(dict(name=str(key), size=value[0]['comp_perc'], \n",
    "                          children=list([remove_key(d, 'comp_perc') for d in value])))\n",
    "    finalJSON = dict(name='component', children=cList)\n",
    "\n",
    "    json.dump(finalJSON, open(\"./word_cloud/lsa_fame_{0}.json\".format(n), \"w\"))"
   ]
  },
  {
   "cell_type": "markdown",
   "metadata": {},
   "source": [
    "### Shame"
   ]
  },
  {
   "cell_type": "code",
   "execution_count": 13,
   "metadata": {
    "collapsed": true
   },
   "outputs": [],
   "source": [
    "vectorizer = TfidfVectorizer(min_df=1, max_features=10000, ngram_range=(2, 2))\n",
    "tdidf = vectorizer.fit_transform(np.array(pure_tokens))\n",
    "tsvd = TruncatedSVD(n_components=500)\n",
    "fitted = tsvd.fit_transform(tdidf)\n",
    "rev = {v:k for k, v in vectorizer.vocabulary_.items()}\n",
    "\n",
    "feature_names = range(500)\n",
    "fs, ps = f_regression(fitted, np.log(dat['views']), center=False)\n",
    "reg = LinearRegression(n_jobs=4)\n",
    "reg.fit(fitted, np.log(dat['views']))\n",
    "views_stat = pd.DataFrame({\"feature_id\": feature_names,\n",
    "                          \"coef\": reg.coef_, \n",
    "                          \"p\": ps}).query('p < 0.01')\\\n",
    "    .sort_values('coef', ascending=False)[['feature_id', 'coef', 'p']]\n",
    "\n",
    "sid = views_stat[-20:]['feature_id']    \n",
    "    \n",
    "pos = []\n",
    "for i in range(20):\n",
    "    pos += [[rev[x] for x in (tsvd.components_[sid][i] ** 2).argsort()[-10:][::-1]]]\n",
    "\n",
    "pos_coef = []\n",
    "for i in range(20):\n",
    "    pos_coef += [[x for x in \n",
    "           tsvd.components_[sid][i][(tsvd.components_[sid][i] ** 2).argsort()[-10:][::-1]]]]\n",
    "\n",
    "pos_words = pd.DataFrame(pos).stack()\n",
    "pos_coefs = pd.DataFrame(pos_coef).stack()\n",
    "pos_df = pd.DataFrame({'name': pos_words, 'size': pos_coefs}).reset_index()\\\n",
    "    .rename(columns={'level_0': 'component', 'level_1': 'order'})\n",
    "pos_df['comp_perc'] = tsvd.explained_variance_ratio_[sid][pos_df['component']]\n",
    "\n",
    "cList = []\n",
    "groupDict = pos_df.groupby('component').apply(lambda g: g.drop('component', axis=1)\\\n",
    "                                                .to_dict(orient='records')).to_dict()\n",
    "def remove_key(d, k):\n",
    "    r = d\n",
    "    del r[k]\n",
    "    return r\n",
    "\n",
    "for key, value in groupDict.items():\n",
    "    cList.append(dict(name=str(key), size=value[0]['comp_perc'], \n",
    "                      children=list([remove_key(d, 'comp_perc') for d in value])))\n",
    "finalJSON = dict(name='component', children=cList)\n",
    "\n",
    "json.dump(finalJSON, open(\"./word_cloud/lsa_shame_all.json\", \"w\"))"
   ]
  },
  {
   "cell_type": "code",
   "execution_count": 14,
   "metadata": {
    "collapsed": true
   },
   "outputs": [],
   "source": [
    "for n in range(11):\n",
    "\n",
    "    sub_index = dat[str(n)] == 1\n",
    "    vectorizer = TfidfVectorizer(min_df=1, max_features=10000, ngram_range=(2, 2))\n",
    "    tdidf = vectorizer.fit_transform(np.array(pure_tokens)[np.where(sub_index)[0]])\n",
    "    tsvd = TruncatedSVD(n_components=500)\n",
    "    fitted = tsvd.fit_transform(tdidf)\n",
    "    rev = {v:k for k, v in vectorizer.vocabulary_.items()}\n",
    "\n",
    "    feature_names = range(500)\n",
    "    fs, ps = f_regression(fitted, np.log(dat['views'][sub_index]), center=False)\n",
    "    reg = LinearRegression(n_jobs=4)\n",
    "    reg.fit(fitted, np.log(dat['views'][sub_index]))\n",
    "    views_stat = pd.DataFrame({\"feature_id\": feature_names,\n",
    "                              \"coef\": reg.coef_, \n",
    "                              \"p\": ps}).query('p < 0.01')\\\n",
    "    .sort_values('coef', ascending=False)[['feature_id', 'coef', 'p']]\n",
    "    \n",
    "    sid = views_stat[-20:]['feature_id']\n",
    "\n",
    "    pos = []\n",
    "    for i in range(20):\n",
    "        pos += [[rev[x] for x in (tsvd.components_[sid][i] ** 2).argsort()[-10:][::-1]]]\n",
    "\n",
    "    pos_coef = []\n",
    "    for i in range(20):\n",
    "        pos_coef += [[x for x in \n",
    "               tsvd.components_[sid][i][(tsvd.components_[sid][i] ** 2).argsort()[-10:][::-1]]]]\n",
    "\n",
    "    pos_words = pd.DataFrame(pos).stack()\n",
    "    pos_coefs = pd.DataFrame(pos_coef).stack()\n",
    "    pos_df = pd.DataFrame({'name': pos_words, 'size': pos_coefs}).reset_index()\\\n",
    "        .rename(columns={'level_0': 'component', 'level_1': 'order'})\n",
    "    pos_df['comp_perc'] = tsvd.explained_variance_ratio_[sid][pos_df['component']]\n",
    "\n",
    "    cList = []\n",
    "    groupDict = pos_df.groupby('component').apply(lambda g: g.drop('component', axis=1)\\\n",
    "                                                    .to_dict(orient='records')).to_dict()\n",
    "    def remove_key(d, k):\n",
    "        r = d\n",
    "        del r[k]\n",
    "        return r\n",
    "\n",
    "    for key, value in groupDict.items():\n",
    "        cList.append(dict(name=str(key), size=value[0]['comp_perc'], \n",
    "                          children=list([remove_key(d, 'comp_perc') for d in value])))\n",
    "    finalJSON = dict(name='component', children=cList)\n",
    "\n",
    "    json.dump(finalJSON, open(\"./word_cloud/lsa_shame_{0}.json\".format(n), \"w\"))"
   ]
  },
  {
   "cell_type": "code",
   "execution_count": null,
   "metadata": {
    "collapsed": true
   },
   "outputs": [],
   "source": []
  }
 ],
 "metadata": {
  "anaconda-cloud": {},
  "kernelspec": {
   "display_name": "Python [Root]",
   "language": "python",
   "name": "Python [Root]"
  },
  "language_info": {
   "codemirror_mode": {
    "name": "ipython",
    "version": 3
   },
   "file_extension": ".py",
   "mimetype": "text/x-python",
   "name": "python",
   "nbconvert_exporter": "python",
   "pygments_lexer": "ipython3",
   "version": "3.5.2"
  }
 },
 "nbformat": 4,
 "nbformat_minor": 0
}
